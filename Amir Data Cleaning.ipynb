{
 "cells": [
  {
   "cell_type": "markdown",
   "metadata": {},
   "source": [
    "# Data Scraping and The Movie Database Api"
   ]
  },
  {
   "cell_type": "markdown",
   "metadata": {},
   "source": [
    "## Data Scraping From Box Office Mojo"
   ]
  },
  {
   "cell_type": "markdown",
   "metadata": {},
   "source": [
    "So I wanted to collect data from the website box office mojo to make a dataset of the top grossing movies all time. \n",
    "\n",
    "The page that has this information can be found \n",
    "here:https://www.boxofficemojo.com/chart/ww_top_lifetime_gross/    \n",
    "\n",
    "To get this data we are gonna have python send a request for the information of that page iterate through it and look for the markers unique to the data that we wanna collect. We need python to do this for every row and every page.\n",
    "\n",
    "I wanted to make the same dataset as JVasquez5's which can be found:https://github.com/JVasquez5/dsc-mod-1-project-v2-1-nyc01-dtsc-ft-051120/blob/master/Data_Web_Scraping_%26_API.ipynb. From him I used the tags to find the data found in the function BOMscrap later and merging both data sets I implemented them differently but I learned from reading his project.\n"
   ]
  },
  {
   "cell_type": "code",
   "execution_count": 1,
   "metadata": {},
   "outputs": [],
   "source": [
    "#First import the modules that we are gonna be using below\n",
    "import requests #To make http requests\n",
    "from bs4 import BeautifulSoup as bs #To make soup and be able to extract data from our requests.\n",
    "import pandas as pd# To store look at and manipulate our data\n",
    "import json# To properly read the results of api requests\n",
    "pd.set_option('display.float_format', lambda x: '%.1f' % x)"
   ]
  },
  {
   "cell_type": "markdown",
   "metadata": {},
   "source": [
    "   When you go to the next page on the website I noticed the end of the link changes to\n",
    "'?offset=200'. I figured that that was the amount of rows to skip since it increased by 200 per page with 800 being the last page. So instead of making something that runs 5 times we can just use a loop."
   ]
  },
  {
   "cell_type": "code",
   "execution_count": 2,
   "metadata": {},
   "outputs": [
    {
     "name": "stdout",
     "output_type": "stream",
     "text": [
      "['https://www.boxofficemojo.com/chart/ww_top_lifetime_gross/?offset=0', 'https://www.boxofficemojo.com/chart/ww_top_lifetime_gross/?offset=200', 'https://www.boxofficemojo.com/chart/ww_top_lifetime_gross/?offset=400', 'https://www.boxofficemojo.com/chart/ww_top_lifetime_gross/?offset=600', 'https://www.boxofficemojo.com/chart/ww_top_lifetime_gross/?offset=800']\n"
     ]
    }
   ],
   "source": [
    "#added a variable for the link so that we could use the .format() methood later\n",
    "link = 'https://www.boxofficemojo.com/chart/ww_top_lifetime_gross/{}'\n",
    "#make a variable x that is the value that we will pass into the offset attribute\n",
    "x = 0\n",
    "#make a list of the 5 pages we will use.\n",
    "linklist = []\n",
    "\n",
    "while x < 1000:#                            While we arent x doesnt equal 1000 we havent got all\n",
    "    command= '?offset={}'.format(x)#   the pages so we set the offset to our next page 200 rows\n",
    "    y = link.format(command)#.         and clone the link thats empty name it y and add our offset             \n",
    "    linklist.append(y)#                we then add that list to the end of the dictionary and\n",
    "    x+=200#                            and finally add 200 to x so we get the next 200 \n",
    "#                                      until we finish.\n",
    "print(linklist)\n"
   ]
  },
  {
   "cell_type": "markdown",
   "metadata": {},
   "source": [
    "Next we are gonna make a function that will go through the data that we will get from Box Office Movies after it goes through beautiful soup and have it give us the rows of data."
   ]
  },
  {
   "cell_type": "code",
   "execution_count": 3,
   "metadata": {},
   "outputs": [],
   "source": [
    "# next we are gonna make a function that will take in the result of the request and give\n",
    "# you the rows of data\n",
    "def BOMscrap(entry):\n",
    "    movie_list = []#final list\n",
    "    for record in entry.findAll(\"tr\"): #             for every record that has the tag 'tr' in\n",
    "        row = [x.text for x in record.findAll(\"td\")]#our entry make a row of all the info in that \n",
    "        for a in record.findAll('a', href=True):#   record using the 'td' tag. if a link in the \n",
    "            if a['href'].startswith('/title/'):#    record starts with title remove the link portion\n",
    "                row.append(a['href'][7:16])#        and add it to our current row. finally if the row\n",
    "        if len(row)>0:#                             isnt empty add it to our list of rows.\n",
    "            movie_list.append(row)\n",
    "    return movie_list"
   ]
  },
  {
   "cell_type": "markdown",
   "metadata": {},
   "source": [
    "So now we have a function that can take in processed data from a link and we have a list of links. The next thing we have to do is put our data through beautiful soup so that we can use our function to crunch it down to only the information that we want then add it to a list fulllist which will contain all 5 pages worth of data."
   ]
  },
  {
   "cell_type": "code",
   "execution_count": 4,
   "metadata": {},
   "outputs": [],
   "source": [
    "fulllist = []#                                for every link in our list linklist get the html\n",
    "for link in linklist:#                     data for that link(page info) and turn it into a \n",
    "    r = requests.get(link)#                beautiful soup object and make a temporary\n",
    "    soup = bs(r.content,'html.parser')#    variable 'page' which is equal to that pages 200\n",
    "    page = BOMscrap(soup)#                 rows of data and add the rows to our list fulllist.\n",
    "    fulllist += page\n"
   ]
  },
  {
   "cell_type": "markdown",
   "metadata": {},
   "source": [
    "So now we sould have a thousand rows of data, we are gonna verify this and make a list of the names of the columns that we have extracted."
   ]
  },
  {
   "cell_type": "code",
   "execution_count": 5,
   "metadata": {},
   "outputs": [
    {
     "name": "stdout",
     "output_type": "stream",
     "text": [
      "1000\n"
     ]
    }
   ],
   "source": [
    "print(len(fulllist))#make sure are assumtion is right\n",
    "header = ['Rank', 'Title', 'Worldwide_Lifetime_Gross', #making the columns\n",
    "          'Domestic_Lifetime_Gross', 'Domestic_Percentage', \n",
    "          'Foreign_Lifetime_Gross', 'Foreign_Lifetime_Percentage', \n",
    "          'Year', 'imdb_id']"
   ]
  },
  {
   "cell_type": "markdown",
   "metadata": {},
   "source": [
    "Now that we have made a header list we can use the modules pandas(pd) to make a dataframe(completed_df) that will hold our data."
   ]
  },
  {
   "cell_type": "code",
   "execution_count": 6,
   "metadata": {},
   "outputs": [
    {
     "data": {
      "text/html": [
       "<div>\n",
       "<style scoped>\n",
       "    .dataframe tbody tr th:only-of-type {\n",
       "        vertical-align: middle;\n",
       "    }\n",
       "\n",
       "    .dataframe tbody tr th {\n",
       "        vertical-align: top;\n",
       "    }\n",
       "\n",
       "    .dataframe thead th {\n",
       "        text-align: right;\n",
       "    }\n",
       "</style>\n",
       "<table border=\"1\" class=\"dataframe\">\n",
       "  <thead>\n",
       "    <tr style=\"text-align: right;\">\n",
       "      <th></th>\n",
       "      <th>Rank</th>\n",
       "      <th>Title</th>\n",
       "      <th>Worldwide_Lifetime_Gross</th>\n",
       "      <th>Domestic_Lifetime_Gross</th>\n",
       "      <th>Domestic_Percentage</th>\n",
       "      <th>Foreign_Lifetime_Gross</th>\n",
       "      <th>Foreign_Lifetime_Percentage</th>\n",
       "      <th>Year</th>\n",
       "      <th>imdb_id</th>\n",
       "    </tr>\n",
       "  </thead>\n",
       "  <tbody>\n",
       "    <tr>\n",
       "      <th>0</th>\n",
       "      <td>1</td>\n",
       "      <td>Avengers: Endgame</td>\n",
       "      <td>$2,797,800,564</td>\n",
       "      <td>$858,373,000</td>\n",
       "      <td>30.7%</td>\n",
       "      <td>$1,939,427,564</td>\n",
       "      <td>69.3%</td>\n",
       "      <td>2019</td>\n",
       "      <td>tt4154796</td>\n",
       "    </tr>\n",
       "    <tr>\n",
       "      <th>1</th>\n",
       "      <td>2</td>\n",
       "      <td>Avatar</td>\n",
       "      <td>$2,790,439,000</td>\n",
       "      <td>$760,507,625</td>\n",
       "      <td>27.2%</td>\n",
       "      <td>$2,029,931,375</td>\n",
       "      <td>72.8%</td>\n",
       "      <td>2009</td>\n",
       "      <td>tt0499549</td>\n",
       "    </tr>\n",
       "    <tr>\n",
       "      <th>2</th>\n",
       "      <td>3</td>\n",
       "      <td>Titanic</td>\n",
       "      <td>$2,195,169,869</td>\n",
       "      <td>$659,363,944</td>\n",
       "      <td>30%</td>\n",
       "      <td>$1,535,805,925</td>\n",
       "      <td>70%</td>\n",
       "      <td>1997</td>\n",
       "      <td>tt0120338</td>\n",
       "    </tr>\n",
       "    <tr>\n",
       "      <th>3</th>\n",
       "      <td>4</td>\n",
       "      <td>Star Wars: Episode VII - The Force Awakens</td>\n",
       "      <td>$2,068,224,036</td>\n",
       "      <td>$936,662,225</td>\n",
       "      <td>45.3%</td>\n",
       "      <td>$1,131,561,811</td>\n",
       "      <td>54.7%</td>\n",
       "      <td>2015</td>\n",
       "      <td>tt2488496</td>\n",
       "    </tr>\n",
       "    <tr>\n",
       "      <th>4</th>\n",
       "      <td>5</td>\n",
       "      <td>Avengers: Infinity War</td>\n",
       "      <td>$2,048,359,754</td>\n",
       "      <td>$678,815,482</td>\n",
       "      <td>33.1%</td>\n",
       "      <td>$1,369,544,272</td>\n",
       "      <td>66.9%</td>\n",
       "      <td>2018</td>\n",
       "      <td>tt4154756</td>\n",
       "    </tr>\n",
       "    <tr>\n",
       "      <th>...</th>\n",
       "      <td>...</td>\n",
       "      <td>...</td>\n",
       "      <td>...</td>\n",
       "      <td>...</td>\n",
       "      <td>...</td>\n",
       "      <td>...</td>\n",
       "      <td>...</td>\n",
       "      <td>...</td>\n",
       "      <td>...</td>\n",
       "    </tr>\n",
       "    <tr>\n",
       "      <th>995</th>\n",
       "      <td>1,011</td>\n",
       "      <td>Unstoppable</td>\n",
       "      <td>$167,805,466</td>\n",
       "      <td>$81,562,942</td>\n",
       "      <td>48.6%</td>\n",
       "      <td>$86,242,524</td>\n",
       "      <td>51.4%</td>\n",
       "      <td>2010</td>\n",
       "      <td>tt0477080</td>\n",
       "    </tr>\n",
       "    <tr>\n",
       "      <th>996</th>\n",
       "      <td>1,012</td>\n",
       "      <td>Three Men and a Baby</td>\n",
       "      <td>$167,780,960</td>\n",
       "      <td>$167,780,960</td>\n",
       "      <td>100%</td>\n",
       "      <td>$0</td>\n",
       "      <td>-</td>\n",
       "      <td>1987</td>\n",
       "      <td>tt0094137</td>\n",
       "    </tr>\n",
       "    <tr>\n",
       "      <th>997</th>\n",
       "      <td>1,013</td>\n",
       "      <td>Magic Mike</td>\n",
       "      <td>$167,739,368</td>\n",
       "      <td>$113,721,571</td>\n",
       "      <td>67.8%</td>\n",
       "      <td>$54,017,797</td>\n",
       "      <td>32.2%</td>\n",
       "      <td>2012</td>\n",
       "      <td>tt1915581</td>\n",
       "    </tr>\n",
       "    <tr>\n",
       "      <th>998</th>\n",
       "      <td>1,014</td>\n",
       "      <td>Alexander</td>\n",
       "      <td>$167,298,192</td>\n",
       "      <td>$34,297,191</td>\n",
       "      <td>20.5%</td>\n",
       "      <td>$133,001,001</td>\n",
       "      <td>79.5%</td>\n",
       "      <td>2004</td>\n",
       "      <td>tt0346491</td>\n",
       "    </tr>\n",
       "    <tr>\n",
       "      <th>999</th>\n",
       "      <td>1,015</td>\n",
       "      <td>Up in the Air</td>\n",
       "      <td>$166,842,739</td>\n",
       "      <td>$83,823,381</td>\n",
       "      <td>50.2%</td>\n",
       "      <td>$83,019,358</td>\n",
       "      <td>49.8%</td>\n",
       "      <td>2009</td>\n",
       "      <td>tt1193138</td>\n",
       "    </tr>\n",
       "  </tbody>\n",
       "</table>\n",
       "<p>1000 rows × 9 columns</p>\n",
       "</div>"
      ],
      "text/plain": [
       "      Rank                                       Title  \\\n",
       "0        1                           Avengers: Endgame   \n",
       "1        2                                      Avatar   \n",
       "2        3                                     Titanic   \n",
       "3        4  Star Wars: Episode VII - The Force Awakens   \n",
       "4        5                      Avengers: Infinity War   \n",
       "..     ...                                         ...   \n",
       "995  1,011                                 Unstoppable   \n",
       "996  1,012                        Three Men and a Baby   \n",
       "997  1,013                                  Magic Mike   \n",
       "998  1,014                                   Alexander   \n",
       "999  1,015                               Up in the Air   \n",
       "\n",
       "    Worldwide_Lifetime_Gross Domestic_Lifetime_Gross Domestic_Percentage  \\\n",
       "0             $2,797,800,564            $858,373,000               30.7%   \n",
       "1             $2,790,439,000            $760,507,625               27.2%   \n",
       "2             $2,195,169,869            $659,363,944                 30%   \n",
       "3             $2,068,224,036            $936,662,225               45.3%   \n",
       "4             $2,048,359,754            $678,815,482               33.1%   \n",
       "..                       ...                     ...                 ...   \n",
       "995             $167,805,466             $81,562,942               48.6%   \n",
       "996             $167,780,960            $167,780,960                100%   \n",
       "997             $167,739,368            $113,721,571               67.8%   \n",
       "998             $167,298,192             $34,297,191               20.5%   \n",
       "999             $166,842,739             $83,823,381               50.2%   \n",
       "\n",
       "    Foreign_Lifetime_Gross Foreign_Lifetime_Percentage  Year    imdb_id  \n",
       "0           $1,939,427,564                       69.3%  2019  tt4154796  \n",
       "1           $2,029,931,375                       72.8%  2009  tt0499549  \n",
       "2           $1,535,805,925                         70%  1997  tt0120338  \n",
       "3           $1,131,561,811                       54.7%  2015  tt2488496  \n",
       "4           $1,369,544,272                       66.9%  2018  tt4154756  \n",
       "..                     ...                         ...   ...        ...  \n",
       "995            $86,242,524                       51.4%  2010  tt0477080  \n",
       "996                     $0                           -  1987  tt0094137  \n",
       "997            $54,017,797                       32.2%  2012  tt1915581  \n",
       "998           $133,001,001                       79.5%  2004  tt0346491  \n",
       "999            $83,019,358                       49.8%  2009  tt1193138  \n",
       "\n",
       "[1000 rows x 9 columns]"
      ]
     },
     "execution_count": 6,
     "metadata": {},
     "output_type": "execute_result"
    }
   ],
   "source": [
    "completed_df = pd.DataFrame(fulllist, columns = header)# make a dataframe from the listoflist fulllist\n",
    "completed_df"
   ]
  },
  {
   "cell_type": "markdown",
   "metadata": {},
   "source": [
    "Ok so we have 1000 movies and some information about how much money they have made, when they were made, etc. But thats not enough info for every row to do the analysis that we wanted to do so we are gonna use the series or column 'imdb_id' with a movie database api to contact the site tmdb and request some more info"
   ]
  },
  {
   "cell_type": "code",
   "execution_count": 7,
   "metadata": {},
   "outputs": [],
   "source": [
    "movieids = completed_df.imdb_id#Store the series for ease\n",
    "tmdb_list = []\n",
    "for id in movieids:#Check every movie and get read the json turn it to a dict and add it to our new data list\n",
    "    response = requests.get(\"https://api.themoviedb.org/3/movie/\" + id + \"?api_key=\" + \"e69606ff3cabd3ebbba0d97046bc81ba\" + \"&language=en-US\")\n",
    "    data = response.json()\n",
    "    tmdb_list.append(data)\n"
   ]
  },
  {
   "cell_type": "markdown",
   "metadata": {},
   "source": [
    "Now we have a list of dictionaries that we can also convert to a dataframe."
   ]
  },
  {
   "cell_type": "code",
   "execution_count": 8,
   "metadata": {},
   "outputs": [
    {
     "data": {
      "text/html": [
       "<div>\n",
       "<style scoped>\n",
       "    .dataframe tbody tr th:only-of-type {\n",
       "        vertical-align: middle;\n",
       "    }\n",
       "\n",
       "    .dataframe tbody tr th {\n",
       "        vertical-align: top;\n",
       "    }\n",
       "\n",
       "    .dataframe thead th {\n",
       "        text-align: right;\n",
       "    }\n",
       "</style>\n",
       "<table border=\"1\" class=\"dataframe\">\n",
       "  <thead>\n",
       "    <tr style=\"text-align: right;\">\n",
       "      <th></th>\n",
       "      <th>adult</th>\n",
       "      <th>backdrop_path</th>\n",
       "      <th>belongs_to_collection</th>\n",
       "      <th>budget</th>\n",
       "      <th>genres</th>\n",
       "      <th>homepage</th>\n",
       "      <th>id</th>\n",
       "      <th>imdb_id</th>\n",
       "      <th>original_language</th>\n",
       "      <th>original_title</th>\n",
       "      <th>...</th>\n",
       "      <th>spoken_languages</th>\n",
       "      <th>status</th>\n",
       "      <th>tagline</th>\n",
       "      <th>title</th>\n",
       "      <th>video</th>\n",
       "      <th>vote_average</th>\n",
       "      <th>vote_count</th>\n",
       "      <th>success</th>\n",
       "      <th>status_code</th>\n",
       "      <th>status_message</th>\n",
       "    </tr>\n",
       "  </thead>\n",
       "  <tbody>\n",
       "    <tr>\n",
       "      <th>0</th>\n",
       "      <td>False</td>\n",
       "      <td>/orjiB3oUIsyz60hoEqkiGpy5CeO.jpg</td>\n",
       "      <td>{'id': 86311, 'name': 'The Avengers Collection...</td>\n",
       "      <td>356000000.0</td>\n",
       "      <td>[{'id': 12, 'name': 'Adventure'}, {'id': 878, ...</td>\n",
       "      <td>https://www.marvel.com/movies/avengers-endgame</td>\n",
       "      <td>299534.0</td>\n",
       "      <td>tt4154796</td>\n",
       "      <td>en</td>\n",
       "      <td>Avengers: Endgame</td>\n",
       "      <td>...</td>\n",
       "      <td>[{'iso_639_1': 'en', 'name': 'English'}, {'iso...</td>\n",
       "      <td>Released</td>\n",
       "      <td>Part of the journey is the end.</td>\n",
       "      <td>Avengers: Endgame</td>\n",
       "      <td>False</td>\n",
       "      <td>8.3</td>\n",
       "      <td>14637.0</td>\n",
       "      <td>NaN</td>\n",
       "      <td>nan</td>\n",
       "      <td>NaN</td>\n",
       "    </tr>\n",
       "    <tr>\n",
       "      <th>1</th>\n",
       "      <td>False</td>\n",
       "      <td>/bIL7ENqh1egWTxN41sM2W42JqPc.jpg</td>\n",
       "      <td>{'id': 87096, 'name': 'Avatar Collection', 'po...</td>\n",
       "      <td>237000000.0</td>\n",
       "      <td>[{'id': 28, 'name': 'Action'}, {'id': 12, 'nam...</td>\n",
       "      <td>http://www.avatarmovie.com/</td>\n",
       "      <td>19995.0</td>\n",
       "      <td>tt0499549</td>\n",
       "      <td>en</td>\n",
       "      <td>Avatar</td>\n",
       "      <td>...</td>\n",
       "      <td>[{'iso_639_1': 'en', 'name': 'English'}, {'iso...</td>\n",
       "      <td>Released</td>\n",
       "      <td>Enter the World of Pandora.</td>\n",
       "      <td>Avatar</td>\n",
       "      <td>False</td>\n",
       "      <td>7.4</td>\n",
       "      <td>21862.0</td>\n",
       "      <td>NaN</td>\n",
       "      <td>nan</td>\n",
       "      <td>NaN</td>\n",
       "    </tr>\n",
       "    <tr>\n",
       "      <th>2</th>\n",
       "      <td>False</td>\n",
       "      <td>/6VmFqApQRyZZzmiGOQq2C92jyvH.jpg</td>\n",
       "      <td>None</td>\n",
       "      <td>200000000.0</td>\n",
       "      <td>[{'id': 18, 'name': 'Drama'}, {'id': 10749, 'n...</td>\n",
       "      <td></td>\n",
       "      <td>597.0</td>\n",
       "      <td>tt0120338</td>\n",
       "      <td>en</td>\n",
       "      <td>Titanic</td>\n",
       "      <td>...</td>\n",
       "      <td>[{'iso_639_1': 'en', 'name': 'English'}, {'iso...</td>\n",
       "      <td>Released</td>\n",
       "      <td>Nothing on Earth could come between them.</td>\n",
       "      <td>Titanic</td>\n",
       "      <td>False</td>\n",
       "      <td>7.9</td>\n",
       "      <td>17526.0</td>\n",
       "      <td>NaN</td>\n",
       "      <td>nan</td>\n",
       "      <td>NaN</td>\n",
       "    </tr>\n",
       "    <tr>\n",
       "      <th>3</th>\n",
       "      <td>False</td>\n",
       "      <td>/k6EOrckWFuz7I4z4wiRwz8zsj4H.jpg</td>\n",
       "      <td>{'id': 10, 'name': 'Star Wars Collection', 'po...</td>\n",
       "      <td>245000000.0</td>\n",
       "      <td>[{'id': 28, 'name': 'Action'}, {'id': 12, 'nam...</td>\n",
       "      <td>http://www.starwars.com/films/star-wars-episod...</td>\n",
       "      <td>140607.0</td>\n",
       "      <td>tt2488496</td>\n",
       "      <td>en</td>\n",
       "      <td>Star Wars: The Force Awakens</td>\n",
       "      <td>...</td>\n",
       "      <td>[{'iso_639_1': 'en', 'name': 'English'}]</td>\n",
       "      <td>Released</td>\n",
       "      <td>Every generation has a story.</td>\n",
       "      <td>Star Wars: The Force Awakens</td>\n",
       "      <td>False</td>\n",
       "      <td>7.4</td>\n",
       "      <td>14816.0</td>\n",
       "      <td>NaN</td>\n",
       "      <td>nan</td>\n",
       "      <td>NaN</td>\n",
       "    </tr>\n",
       "    <tr>\n",
       "      <th>4</th>\n",
       "      <td>False</td>\n",
       "      <td>/bOGkgRGdhrBYJSLpXaxhXVstddV.jpg</td>\n",
       "      <td>{'id': 86311, 'name': 'The Avengers Collection...</td>\n",
       "      <td>300000000.0</td>\n",
       "      <td>[{'id': 12, 'name': 'Adventure'}, {'id': 28, '...</td>\n",
       "      <td>https://www.marvel.com/movies/avengers-infinit...</td>\n",
       "      <td>299536.0</td>\n",
       "      <td>tt4154756</td>\n",
       "      <td>en</td>\n",
       "      <td>Avengers: Infinity War</td>\n",
       "      <td>...</td>\n",
       "      <td>[{'iso_639_1': 'en', 'name': 'English'}, {'iso...</td>\n",
       "      <td>Released</td>\n",
       "      <td>An entire universe. Once and for all.</td>\n",
       "      <td>Avengers: Infinity War</td>\n",
       "      <td>False</td>\n",
       "      <td>8.3</td>\n",
       "      <td>19349.0</td>\n",
       "      <td>NaN</td>\n",
       "      <td>nan</td>\n",
       "      <td>NaN</td>\n",
       "    </tr>\n",
       "    <tr>\n",
       "      <th>...</th>\n",
       "      <td>...</td>\n",
       "      <td>...</td>\n",
       "      <td>...</td>\n",
       "      <td>...</td>\n",
       "      <td>...</td>\n",
       "      <td>...</td>\n",
       "      <td>...</td>\n",
       "      <td>...</td>\n",
       "      <td>...</td>\n",
       "      <td>...</td>\n",
       "      <td>...</td>\n",
       "      <td>...</td>\n",
       "      <td>...</td>\n",
       "      <td>...</td>\n",
       "      <td>...</td>\n",
       "      <td>...</td>\n",
       "      <td>...</td>\n",
       "      <td>...</td>\n",
       "      <td>...</td>\n",
       "      <td>...</td>\n",
       "      <td>...</td>\n",
       "    </tr>\n",
       "    <tr>\n",
       "      <th>995</th>\n",
       "      <td>False</td>\n",
       "      <td>/3uzw2L5iwg1Hn3y6u80sX4DLWVe.jpg</td>\n",
       "      <td>None</td>\n",
       "      <td>100000000.0</td>\n",
       "      <td>[{'id': 28, 'name': 'Action'}, {'id': 53, 'nam...</td>\n",
       "      <td></td>\n",
       "      <td>44048.0</td>\n",
       "      <td>tt0477080</td>\n",
       "      <td>en</td>\n",
       "      <td>Unstoppable</td>\n",
       "      <td>...</td>\n",
       "      <td>[{'iso_639_1': 'en', 'name': 'English'}]</td>\n",
       "      <td>Released</td>\n",
       "      <td>1,000,000 Tons. 100,000 Lives. 100 Minutes.</td>\n",
       "      <td>Unstoppable</td>\n",
       "      <td>False</td>\n",
       "      <td>6.4</td>\n",
       "      <td>2316.0</td>\n",
       "      <td>NaN</td>\n",
       "      <td>nan</td>\n",
       "      <td>NaN</td>\n",
       "    </tr>\n",
       "    <tr>\n",
       "      <th>996</th>\n",
       "      <td>False</td>\n",
       "      <td>/tAP8xGnUtOSlYuxtGhcFnHoARRs.jpg</td>\n",
       "      <td>{'id': 107688, 'name': '3 Men Collection', 'po...</td>\n",
       "      <td>11000000.0</td>\n",
       "      <td>[{'id': 10751, 'name': 'Family'}, {'id': 35, '...</td>\n",
       "      <td></td>\n",
       "      <td>12154.0</td>\n",
       "      <td>tt0094137</td>\n",
       "      <td>en</td>\n",
       "      <td>3 Men and a Baby</td>\n",
       "      <td>...</td>\n",
       "      <td>[{'iso_639_1': 'en', 'name': 'English'}]</td>\n",
       "      <td>Released</td>\n",
       "      <td>They changed her diapers. She changed their li...</td>\n",
       "      <td>3 Men and a Baby</td>\n",
       "      <td>False</td>\n",
       "      <td>6.1</td>\n",
       "      <td>611.0</td>\n",
       "      <td>NaN</td>\n",
       "      <td>nan</td>\n",
       "      <td>NaN</td>\n",
       "    </tr>\n",
       "    <tr>\n",
       "      <th>997</th>\n",
       "      <td>False</td>\n",
       "      <td>/pwaETwSrgWeDutTeianu99LqUKk.jpg</td>\n",
       "      <td>{'id': 328247, 'name': 'Magic Mike Collection'...</td>\n",
       "      <td>7000000.0</td>\n",
       "      <td>[{'id': 18, 'name': 'Drama'}, {'id': 35, 'name...</td>\n",
       "      <td>http://magicmikemovie.warnerbros.com</td>\n",
       "      <td>77930.0</td>\n",
       "      <td>tt1915581</td>\n",
       "      <td>en</td>\n",
       "      <td>Magic Mike</td>\n",
       "      <td>...</td>\n",
       "      <td>[{'iso_639_1': 'en', 'name': 'English'}]</td>\n",
       "      <td>Released</td>\n",
       "      <td>Work all day. Work it all night.</td>\n",
       "      <td>Magic Mike</td>\n",
       "      <td>False</td>\n",
       "      <td>6.1</td>\n",
       "      <td>2197.0</td>\n",
       "      <td>NaN</td>\n",
       "      <td>nan</td>\n",
       "      <td>NaN</td>\n",
       "    </tr>\n",
       "    <tr>\n",
       "      <th>998</th>\n",
       "      <td>False</td>\n",
       "      <td>/sqY4MVhtCCwQsUaiO9ge3HLSfYy.jpg</td>\n",
       "      <td>None</td>\n",
       "      <td>155000000.0</td>\n",
       "      <td>[{'id': 10752, 'name': 'War'}, {'id': 36, 'nam...</td>\n",
       "      <td></td>\n",
       "      <td>1966.0</td>\n",
       "      <td>tt0346491</td>\n",
       "      <td>en</td>\n",
       "      <td>Alexander</td>\n",
       "      <td>...</td>\n",
       "      <td>[{'iso_639_1': 'en', 'name': 'English'}]</td>\n",
       "      <td>Released</td>\n",
       "      <td>The greatest legend of all was real</td>\n",
       "      <td>Alexander</td>\n",
       "      <td>False</td>\n",
       "      <td>5.9</td>\n",
       "      <td>2268.0</td>\n",
       "      <td>NaN</td>\n",
       "      <td>nan</td>\n",
       "      <td>NaN</td>\n",
       "    </tr>\n",
       "    <tr>\n",
       "      <th>999</th>\n",
       "      <td>False</td>\n",
       "      <td>/vGEzU5mu9UQPnl7N1ehIXtUs0bp.jpg</td>\n",
       "      <td>None</td>\n",
       "      <td>25000000.0</td>\n",
       "      <td>[{'id': 18, 'name': 'Drama'}, {'id': 10749, 'n...</td>\n",
       "      <td></td>\n",
       "      <td>22947.0</td>\n",
       "      <td>tt1193138</td>\n",
       "      <td>en</td>\n",
       "      <td>Up in the Air</td>\n",
       "      <td>...</td>\n",
       "      <td>[{'iso_639_1': 'en', 'name': 'English'}]</td>\n",
       "      <td>Released</td>\n",
       "      <td>The story of a man ready to make a connection.</td>\n",
       "      <td>Up in the Air</td>\n",
       "      <td>False</td>\n",
       "      <td>6.8</td>\n",
       "      <td>2465.0</td>\n",
       "      <td>NaN</td>\n",
       "      <td>nan</td>\n",
       "      <td>NaN</td>\n",
       "    </tr>\n",
       "  </tbody>\n",
       "</table>\n",
       "<p>1000 rows × 28 columns</p>\n",
       "</div>"
      ],
      "text/plain": [
       "     adult                     backdrop_path  \\\n",
       "0    False  /orjiB3oUIsyz60hoEqkiGpy5CeO.jpg   \n",
       "1    False  /bIL7ENqh1egWTxN41sM2W42JqPc.jpg   \n",
       "2    False  /6VmFqApQRyZZzmiGOQq2C92jyvH.jpg   \n",
       "3    False  /k6EOrckWFuz7I4z4wiRwz8zsj4H.jpg   \n",
       "4    False  /bOGkgRGdhrBYJSLpXaxhXVstddV.jpg   \n",
       "..     ...                               ...   \n",
       "995  False  /3uzw2L5iwg1Hn3y6u80sX4DLWVe.jpg   \n",
       "996  False  /tAP8xGnUtOSlYuxtGhcFnHoARRs.jpg   \n",
       "997  False  /pwaETwSrgWeDutTeianu99LqUKk.jpg   \n",
       "998  False  /sqY4MVhtCCwQsUaiO9ge3HLSfYy.jpg   \n",
       "999  False  /vGEzU5mu9UQPnl7N1ehIXtUs0bp.jpg   \n",
       "\n",
       "                                 belongs_to_collection      budget  \\\n",
       "0    {'id': 86311, 'name': 'The Avengers Collection... 356000000.0   \n",
       "1    {'id': 87096, 'name': 'Avatar Collection', 'po... 237000000.0   \n",
       "2                                                 None 200000000.0   \n",
       "3    {'id': 10, 'name': 'Star Wars Collection', 'po... 245000000.0   \n",
       "4    {'id': 86311, 'name': 'The Avengers Collection... 300000000.0   \n",
       "..                                                 ...         ...   \n",
       "995                                               None 100000000.0   \n",
       "996  {'id': 107688, 'name': '3 Men Collection', 'po...  11000000.0   \n",
       "997  {'id': 328247, 'name': 'Magic Mike Collection'...   7000000.0   \n",
       "998                                               None 155000000.0   \n",
       "999                                               None  25000000.0   \n",
       "\n",
       "                                                genres  \\\n",
       "0    [{'id': 12, 'name': 'Adventure'}, {'id': 878, ...   \n",
       "1    [{'id': 28, 'name': 'Action'}, {'id': 12, 'nam...   \n",
       "2    [{'id': 18, 'name': 'Drama'}, {'id': 10749, 'n...   \n",
       "3    [{'id': 28, 'name': 'Action'}, {'id': 12, 'nam...   \n",
       "4    [{'id': 12, 'name': 'Adventure'}, {'id': 28, '...   \n",
       "..                                                 ...   \n",
       "995  [{'id': 28, 'name': 'Action'}, {'id': 53, 'nam...   \n",
       "996  [{'id': 10751, 'name': 'Family'}, {'id': 35, '...   \n",
       "997  [{'id': 18, 'name': 'Drama'}, {'id': 35, 'name...   \n",
       "998  [{'id': 10752, 'name': 'War'}, {'id': 36, 'nam...   \n",
       "999  [{'id': 18, 'name': 'Drama'}, {'id': 10749, 'n...   \n",
       "\n",
       "                                              homepage       id    imdb_id  \\\n",
       "0       https://www.marvel.com/movies/avengers-endgame 299534.0  tt4154796   \n",
       "1                          http://www.avatarmovie.com/  19995.0  tt0499549   \n",
       "2                                                         597.0  tt0120338   \n",
       "3    http://www.starwars.com/films/star-wars-episod... 140607.0  tt2488496   \n",
       "4    https://www.marvel.com/movies/avengers-infinit... 299536.0  tt4154756   \n",
       "..                                                 ...      ...        ...   \n",
       "995                                                     44048.0  tt0477080   \n",
       "996                                                     12154.0  tt0094137   \n",
       "997               http://magicmikemovie.warnerbros.com  77930.0  tt1915581   \n",
       "998                                                      1966.0  tt0346491   \n",
       "999                                                     22947.0  tt1193138   \n",
       "\n",
       "    original_language                original_title  ...  \\\n",
       "0                  en             Avengers: Endgame  ...   \n",
       "1                  en                        Avatar  ...   \n",
       "2                  en                       Titanic  ...   \n",
       "3                  en  Star Wars: The Force Awakens  ...   \n",
       "4                  en        Avengers: Infinity War  ...   \n",
       "..                ...                           ...  ...   \n",
       "995                en                   Unstoppable  ...   \n",
       "996                en              3 Men and a Baby  ...   \n",
       "997                en                    Magic Mike  ...   \n",
       "998                en                     Alexander  ...   \n",
       "999                en                 Up in the Air  ...   \n",
       "\n",
       "                                      spoken_languages    status  \\\n",
       "0    [{'iso_639_1': 'en', 'name': 'English'}, {'iso...  Released   \n",
       "1    [{'iso_639_1': 'en', 'name': 'English'}, {'iso...  Released   \n",
       "2    [{'iso_639_1': 'en', 'name': 'English'}, {'iso...  Released   \n",
       "3             [{'iso_639_1': 'en', 'name': 'English'}]  Released   \n",
       "4    [{'iso_639_1': 'en', 'name': 'English'}, {'iso...  Released   \n",
       "..                                                 ...       ...   \n",
       "995           [{'iso_639_1': 'en', 'name': 'English'}]  Released   \n",
       "996           [{'iso_639_1': 'en', 'name': 'English'}]  Released   \n",
       "997           [{'iso_639_1': 'en', 'name': 'English'}]  Released   \n",
       "998           [{'iso_639_1': 'en', 'name': 'English'}]  Released   \n",
       "999           [{'iso_639_1': 'en', 'name': 'English'}]  Released   \n",
       "\n",
       "                                               tagline  \\\n",
       "0                      Part of the journey is the end.   \n",
       "1                          Enter the World of Pandora.   \n",
       "2            Nothing on Earth could come between them.   \n",
       "3                        Every generation has a story.   \n",
       "4                An entire universe. Once and for all.   \n",
       "..                                                 ...   \n",
       "995        1,000,000 Tons. 100,000 Lives. 100 Minutes.   \n",
       "996  They changed her diapers. She changed their li...   \n",
       "997                   Work all day. Work it all night.   \n",
       "998                The greatest legend of all was real   \n",
       "999     The story of a man ready to make a connection.   \n",
       "\n",
       "                            title  video vote_average  vote_count  success  \\\n",
       "0               Avengers: Endgame  False          8.3     14637.0      NaN   \n",
       "1                          Avatar  False          7.4     21862.0      NaN   \n",
       "2                         Titanic  False          7.9     17526.0      NaN   \n",
       "3    Star Wars: The Force Awakens  False          7.4     14816.0      NaN   \n",
       "4          Avengers: Infinity War  False          8.3     19349.0      NaN   \n",
       "..                            ...    ...          ...         ...      ...   \n",
       "995                   Unstoppable  False          6.4      2316.0      NaN   \n",
       "996              3 Men and a Baby  False          6.1       611.0      NaN   \n",
       "997                    Magic Mike  False          6.1      2197.0      NaN   \n",
       "998                     Alexander  False          5.9      2268.0      NaN   \n",
       "999                 Up in the Air  False          6.8      2465.0      NaN   \n",
       "\n",
       "    status_code status_message  \n",
       "0           nan            NaN  \n",
       "1           nan            NaN  \n",
       "2           nan            NaN  \n",
       "3           nan            NaN  \n",
       "4           nan            NaN  \n",
       "..          ...            ...  \n",
       "995         nan            NaN  \n",
       "996         nan            NaN  \n",
       "997         nan            NaN  \n",
       "998         nan            NaN  \n",
       "999         nan            NaN  \n",
       "\n",
       "[1000 rows x 28 columns]"
      ]
     },
     "execution_count": 8,
     "metadata": {},
     "output_type": "execute_result"
    }
   ],
   "source": [
    "tmdbdf=pd.DataFrame(tmdb_list)\n",
    "tmdbdf"
   ]
  },
  {
   "cell_type": "markdown",
   "metadata": {},
   "source": [
    "Now though we have alot more columns for each movie but most of them we don't need so we are just gonna go ahead and drop those columns"
   ]
  },
  {
   "cell_type": "code",
   "execution_count": 9,
   "metadata": {},
   "outputs": [
    {
     "data": {
      "text/html": [
       "<div>\n",
       "<style scoped>\n",
       "    .dataframe tbody tr th:only-of-type {\n",
       "        vertical-align: middle;\n",
       "    }\n",
       "\n",
       "    .dataframe tbody tr th {\n",
       "        vertical-align: top;\n",
       "    }\n",
       "\n",
       "    .dataframe thead th {\n",
       "        text-align: right;\n",
       "    }\n",
       "</style>\n",
       "<table border=\"1\" class=\"dataframe\">\n",
       "  <thead>\n",
       "    <tr style=\"text-align: right;\">\n",
       "      <th></th>\n",
       "      <th>adult</th>\n",
       "      <th>belongs_to_collection</th>\n",
       "      <th>budget</th>\n",
       "      <th>genres</th>\n",
       "      <th>imdb_id</th>\n",
       "      <th>original_language</th>\n",
       "      <th>popularity</th>\n",
       "      <th>production_companies</th>\n",
       "      <th>production_countries</th>\n",
       "      <th>release_date</th>\n",
       "      <th>runtime</th>\n",
       "      <th>vote_average</th>\n",
       "      <th>vote_count</th>\n",
       "      <th>success</th>\n",
       "    </tr>\n",
       "  </thead>\n",
       "  <tbody>\n",
       "    <tr>\n",
       "      <th>0</th>\n",
       "      <td>False</td>\n",
       "      <td>{'id': 86311, 'name': 'The Avengers Collection...</td>\n",
       "      <td>356000000.0</td>\n",
       "      <td>[{'id': 12, 'name': 'Adventure'}, {'id': 878, ...</td>\n",
       "      <td>tt4154796</td>\n",
       "      <td>en</td>\n",
       "      <td>36.4</td>\n",
       "      <td>[{'id': 420, 'logo_path': '/hUzeosd33nzE5MCNsZ...</td>\n",
       "      <td>[{'iso_3166_1': 'US', 'name': 'United States o...</td>\n",
       "      <td>2019-04-24</td>\n",
       "      <td>181.0</td>\n",
       "      <td>8.3</td>\n",
       "      <td>14637.0</td>\n",
       "      <td>NaN</td>\n",
       "    </tr>\n",
       "    <tr>\n",
       "      <th>1</th>\n",
       "      <td>False</td>\n",
       "      <td>{'id': 87096, 'name': 'Avatar Collection', 'po...</td>\n",
       "      <td>237000000.0</td>\n",
       "      <td>[{'id': 28, 'name': 'Action'}, {'id': 12, 'nam...</td>\n",
       "      <td>tt0499549</td>\n",
       "      <td>en</td>\n",
       "      <td>35.1</td>\n",
       "      <td>[{'id': 444, 'logo_path': '/42UPdZl6B2cFXgNUAS...</td>\n",
       "      <td>[{'iso_3166_1': 'US', 'name': 'United States o...</td>\n",
       "      <td>2009-12-10</td>\n",
       "      <td>162.0</td>\n",
       "      <td>7.4</td>\n",
       "      <td>21862.0</td>\n",
       "      <td>NaN</td>\n",
       "    </tr>\n",
       "    <tr>\n",
       "      <th>2</th>\n",
       "      <td>False</td>\n",
       "      <td>None</td>\n",
       "      <td>200000000.0</td>\n",
       "      <td>[{'id': 18, 'name': 'Drama'}, {'id': 10749, 'n...</td>\n",
       "      <td>tt0120338</td>\n",
       "      <td>en</td>\n",
       "      <td>28.2</td>\n",
       "      <td>[{'id': 4, 'logo_path': '/fycMZt242LVjagMByZOL...</td>\n",
       "      <td>[{'iso_3166_1': 'US', 'name': 'United States o...</td>\n",
       "      <td>1997-11-18</td>\n",
       "      <td>194.0</td>\n",
       "      <td>7.9</td>\n",
       "      <td>17526.0</td>\n",
       "      <td>NaN</td>\n",
       "    </tr>\n",
       "    <tr>\n",
       "      <th>3</th>\n",
       "      <td>False</td>\n",
       "      <td>{'id': 10, 'name': 'Star Wars Collection', 'po...</td>\n",
       "      <td>245000000.0</td>\n",
       "      <td>[{'id': 28, 'name': 'Action'}, {'id': 12, 'nam...</td>\n",
       "      <td>tt2488496</td>\n",
       "      <td>en</td>\n",
       "      <td>29.2</td>\n",
       "      <td>[{'id': 1634, 'logo_path': None, 'name': 'True...</td>\n",
       "      <td>[{'iso_3166_1': 'US', 'name': 'United States o...</td>\n",
       "      <td>2015-12-15</td>\n",
       "      <td>136.0</td>\n",
       "      <td>7.4</td>\n",
       "      <td>14816.0</td>\n",
       "      <td>NaN</td>\n",
       "    </tr>\n",
       "    <tr>\n",
       "      <th>4</th>\n",
       "      <td>False</td>\n",
       "      <td>{'id': 86311, 'name': 'The Avengers Collection...</td>\n",
       "      <td>300000000.0</td>\n",
       "      <td>[{'id': 12, 'name': 'Adventure'}, {'id': 28, '...</td>\n",
       "      <td>tt4154756</td>\n",
       "      <td>en</td>\n",
       "      <td>77.3</td>\n",
       "      <td>[{'id': 420, 'logo_path': '/hUzeosd33nzE5MCNsZ...</td>\n",
       "      <td>[{'iso_3166_1': 'US', 'name': 'United States o...</td>\n",
       "      <td>2018-04-25</td>\n",
       "      <td>149.0</td>\n",
       "      <td>8.3</td>\n",
       "      <td>19349.0</td>\n",
       "      <td>NaN</td>\n",
       "    </tr>\n",
       "    <tr>\n",
       "      <th>...</th>\n",
       "      <td>...</td>\n",
       "      <td>...</td>\n",
       "      <td>...</td>\n",
       "      <td>...</td>\n",
       "      <td>...</td>\n",
       "      <td>...</td>\n",
       "      <td>...</td>\n",
       "      <td>...</td>\n",
       "      <td>...</td>\n",
       "      <td>...</td>\n",
       "      <td>...</td>\n",
       "      <td>...</td>\n",
       "      <td>...</td>\n",
       "      <td>...</td>\n",
       "    </tr>\n",
       "    <tr>\n",
       "      <th>995</th>\n",
       "      <td>False</td>\n",
       "      <td>None</td>\n",
       "      <td>100000000.0</td>\n",
       "      <td>[{'id': 28, 'name': 'Action'}, {'id': 53, 'nam...</td>\n",
       "      <td>tt0477080</td>\n",
       "      <td>en</td>\n",
       "      <td>11.6</td>\n",
       "      <td>[{'id': 19776, 'logo_path': None, 'name': 'Pro...</td>\n",
       "      <td>[{'iso_3166_1': 'US', 'name': 'United States o...</td>\n",
       "      <td>2010-11-04</td>\n",
       "      <td>98.0</td>\n",
       "      <td>6.4</td>\n",
       "      <td>2316.0</td>\n",
       "      <td>NaN</td>\n",
       "    </tr>\n",
       "    <tr>\n",
       "      <th>996</th>\n",
       "      <td>False</td>\n",
       "      <td>{'id': 107688, 'name': '3 Men Collection', 'po...</td>\n",
       "      <td>11000000.0</td>\n",
       "      <td>[{'id': 10751, 'name': 'Family'}, {'id': 35, '...</td>\n",
       "      <td>tt0094137</td>\n",
       "      <td>en</td>\n",
       "      <td>12.3</td>\n",
       "      <td>[{'id': 9195, 'logo_path': '/ou5BUbtulr6tIt699...</td>\n",
       "      <td>[{'iso_3166_1': 'US', 'name': 'United States o...</td>\n",
       "      <td>1987-11-27</td>\n",
       "      <td>102.0</td>\n",
       "      <td>6.1</td>\n",
       "      <td>611.0</td>\n",
       "      <td>NaN</td>\n",
       "    </tr>\n",
       "    <tr>\n",
       "      <th>997</th>\n",
       "      <td>False</td>\n",
       "      <td>{'id': 328247, 'name': 'Magic Mike Collection'...</td>\n",
       "      <td>7000000.0</td>\n",
       "      <td>[{'id': 18, 'name': 'Drama'}, {'id': 35, 'name...</td>\n",
       "      <td>tt1915581</td>\n",
       "      <td>en</td>\n",
       "      <td>10.2</td>\n",
       "      <td>[{'id': 34981, 'logo_path': None, 'name': 'Iro...</td>\n",
       "      <td>[{'iso_3166_1': 'US', 'name': 'United States o...</td>\n",
       "      <td>2012-06-28</td>\n",
       "      <td>110.0</td>\n",
       "      <td>6.1</td>\n",
       "      <td>2197.0</td>\n",
       "      <td>NaN</td>\n",
       "    </tr>\n",
       "    <tr>\n",
       "      <th>998</th>\n",
       "      <td>False</td>\n",
       "      <td>None</td>\n",
       "      <td>155000000.0</td>\n",
       "      <td>[{'id': 10752, 'name': 'War'}, {'id': 36, 'nam...</td>\n",
       "      <td>tt0346491</td>\n",
       "      <td>en</td>\n",
       "      <td>14.5</td>\n",
       "      <td>[{'id': 174, 'logo_path': '/IuAlhI9eVC9Z8UQWOI...</td>\n",
       "      <td>[{'iso_3166_1': 'DE', 'name': 'Germany'}, {'is...</td>\n",
       "      <td>2004-11-21</td>\n",
       "      <td>175.0</td>\n",
       "      <td>5.9</td>\n",
       "      <td>2268.0</td>\n",
       "      <td>NaN</td>\n",
       "    </tr>\n",
       "    <tr>\n",
       "      <th>999</th>\n",
       "      <td>False</td>\n",
       "      <td>None</td>\n",
       "      <td>25000000.0</td>\n",
       "      <td>[{'id': 18, 'name': 'Drama'}, {'id': 10749, 'n...</td>\n",
       "      <td>tt1193138</td>\n",
       "      <td>en</td>\n",
       "      <td>15.4</td>\n",
       "      <td>[{'id': 32157, 'logo_path': '/nBD7uzlUlpivUpOo...</td>\n",
       "      <td>[{'iso_3166_1': 'US', 'name': 'United States o...</td>\n",
       "      <td>2009-09-05</td>\n",
       "      <td>110.0</td>\n",
       "      <td>6.8</td>\n",
       "      <td>2465.0</td>\n",
       "      <td>NaN</td>\n",
       "    </tr>\n",
       "  </tbody>\n",
       "</table>\n",
       "<p>1000 rows × 14 columns</p>\n",
       "</div>"
      ],
      "text/plain": [
       "     adult                              belongs_to_collection      budget  \\\n",
       "0    False  {'id': 86311, 'name': 'The Avengers Collection... 356000000.0   \n",
       "1    False  {'id': 87096, 'name': 'Avatar Collection', 'po... 237000000.0   \n",
       "2    False                                               None 200000000.0   \n",
       "3    False  {'id': 10, 'name': 'Star Wars Collection', 'po... 245000000.0   \n",
       "4    False  {'id': 86311, 'name': 'The Avengers Collection... 300000000.0   \n",
       "..     ...                                                ...         ...   \n",
       "995  False                                               None 100000000.0   \n",
       "996  False  {'id': 107688, 'name': '3 Men Collection', 'po...  11000000.0   \n",
       "997  False  {'id': 328247, 'name': 'Magic Mike Collection'...   7000000.0   \n",
       "998  False                                               None 155000000.0   \n",
       "999  False                                               None  25000000.0   \n",
       "\n",
       "                                                genres    imdb_id  \\\n",
       "0    [{'id': 12, 'name': 'Adventure'}, {'id': 878, ...  tt4154796   \n",
       "1    [{'id': 28, 'name': 'Action'}, {'id': 12, 'nam...  tt0499549   \n",
       "2    [{'id': 18, 'name': 'Drama'}, {'id': 10749, 'n...  tt0120338   \n",
       "3    [{'id': 28, 'name': 'Action'}, {'id': 12, 'nam...  tt2488496   \n",
       "4    [{'id': 12, 'name': 'Adventure'}, {'id': 28, '...  tt4154756   \n",
       "..                                                 ...        ...   \n",
       "995  [{'id': 28, 'name': 'Action'}, {'id': 53, 'nam...  tt0477080   \n",
       "996  [{'id': 10751, 'name': 'Family'}, {'id': 35, '...  tt0094137   \n",
       "997  [{'id': 18, 'name': 'Drama'}, {'id': 35, 'name...  tt1915581   \n",
       "998  [{'id': 10752, 'name': 'War'}, {'id': 36, 'nam...  tt0346491   \n",
       "999  [{'id': 18, 'name': 'Drama'}, {'id': 10749, 'n...  tt1193138   \n",
       "\n",
       "    original_language  popularity  \\\n",
       "0                  en        36.4   \n",
       "1                  en        35.1   \n",
       "2                  en        28.2   \n",
       "3                  en        29.2   \n",
       "4                  en        77.3   \n",
       "..                ...         ...   \n",
       "995                en        11.6   \n",
       "996                en        12.3   \n",
       "997                en        10.2   \n",
       "998                en        14.5   \n",
       "999                en        15.4   \n",
       "\n",
       "                                  production_companies  \\\n",
       "0    [{'id': 420, 'logo_path': '/hUzeosd33nzE5MCNsZ...   \n",
       "1    [{'id': 444, 'logo_path': '/42UPdZl6B2cFXgNUAS...   \n",
       "2    [{'id': 4, 'logo_path': '/fycMZt242LVjagMByZOL...   \n",
       "3    [{'id': 1634, 'logo_path': None, 'name': 'True...   \n",
       "4    [{'id': 420, 'logo_path': '/hUzeosd33nzE5MCNsZ...   \n",
       "..                                                 ...   \n",
       "995  [{'id': 19776, 'logo_path': None, 'name': 'Pro...   \n",
       "996  [{'id': 9195, 'logo_path': '/ou5BUbtulr6tIt699...   \n",
       "997  [{'id': 34981, 'logo_path': None, 'name': 'Iro...   \n",
       "998  [{'id': 174, 'logo_path': '/IuAlhI9eVC9Z8UQWOI...   \n",
       "999  [{'id': 32157, 'logo_path': '/nBD7uzlUlpivUpOo...   \n",
       "\n",
       "                                  production_countries release_date  runtime  \\\n",
       "0    [{'iso_3166_1': 'US', 'name': 'United States o...   2019-04-24    181.0   \n",
       "1    [{'iso_3166_1': 'US', 'name': 'United States o...   2009-12-10    162.0   \n",
       "2    [{'iso_3166_1': 'US', 'name': 'United States o...   1997-11-18    194.0   \n",
       "3    [{'iso_3166_1': 'US', 'name': 'United States o...   2015-12-15    136.0   \n",
       "4    [{'iso_3166_1': 'US', 'name': 'United States o...   2018-04-25    149.0   \n",
       "..                                                 ...          ...      ...   \n",
       "995  [{'iso_3166_1': 'US', 'name': 'United States o...   2010-11-04     98.0   \n",
       "996  [{'iso_3166_1': 'US', 'name': 'United States o...   1987-11-27    102.0   \n",
       "997  [{'iso_3166_1': 'US', 'name': 'United States o...   2012-06-28    110.0   \n",
       "998  [{'iso_3166_1': 'DE', 'name': 'Germany'}, {'is...   2004-11-21    175.0   \n",
       "999  [{'iso_3166_1': 'US', 'name': 'United States o...   2009-09-05    110.0   \n",
       "\n",
       "     vote_average  vote_count success  \n",
       "0             8.3     14637.0     NaN  \n",
       "1             7.4     21862.0     NaN  \n",
       "2             7.9     17526.0     NaN  \n",
       "3             7.4     14816.0     NaN  \n",
       "4             8.3     19349.0     NaN  \n",
       "..            ...         ...     ...  \n",
       "995           6.4      2316.0     NaN  \n",
       "996           6.1       611.0     NaN  \n",
       "997           6.1      2197.0     NaN  \n",
       "998           5.9      2268.0     NaN  \n",
       "999           6.8      2465.0     NaN  \n",
       "\n",
       "[1000 rows x 14 columns]"
      ]
     },
     "execution_count": 9,
     "metadata": {},
     "output_type": "execute_result"
    }
   ],
   "source": [
    "tmbddf = tmdbdf.drop(['backdrop_path', 'homepage', \n",
    "                             'id', 'original_title', 'overview', \n",
    "                             'poster_path', 'revenue', 'status',\n",
    "                             'spoken_languages', 'tagline','title',\n",
    "                             'status_code',\n",
    "                             'status_message', 'video'], axis = 1)#axis specifies column\n",
    "tmbddf"
   ]
  },
  {
   "cell_type": "markdown",
   "metadata": {},
   "source": [
    "We are gonna want to clean our data because alot of it is unusable in this state and also we want one big data frame not two smaller ones especially since they have data for the same movies."
   ]
  },
  {
   "cell_type": "code",
   "execution_count": 10,
   "metadata": {},
   "outputs": [],
   "source": [
    "tmdbdf.dropna(axis=0, how=\"all\", inplace=True)#Drop anything that is null\n",
    "merged_df = completed_df.merge(tmdbdf, on='imdb_id', how='outer')#add the columns of the rows that have the same id\n",
    "merged_df = merged_df[0:1000]#get rid of some extra rows.\n"
   ]
  },
  {
   "cell_type": "markdown",
   "metadata": {},
   "source": [
    "Ok our data is more or less ready. We dont want to have to keep rerunning this so we should just save it locally so that we can work on it from another file if we want."
   ]
  },
  {
   "cell_type": "code",
   "execution_count": 11,
   "metadata": {},
   "outputs": [],
   "source": [
    "merged_df.to_csv('Data/better-data.csv')\n"
   ]
  },
  {
   "cell_type": "markdown",
   "metadata": {},
   "source": [
    "# videogame data cleaning portion"
   ]
  },
  {
   "cell_type": "code",
   "execution_count": 12,
   "metadata": {},
   "outputs": [
    {
     "data": {
      "text/plain": [
       "(16598, 11)"
      ]
     },
     "execution_count": 12,
     "metadata": {},
     "output_type": "execute_result"
    }
   ],
   "source": [
    "#bring in the data and show the first few coloums to make sure that nothing is broken\n",
    "vgdf = pd.read_csv('vgsales.csv')\n",
    "vgdf.shape"
   ]
  },
  {
   "cell_type": "code",
   "execution_count": 13,
   "metadata": {},
   "outputs": [
    {
     "data": {
      "text/plain": [
       "True"
      ]
     },
     "execution_count": 13,
     "metadata": {},
     "output_type": "execute_result"
    }
   ],
   "source": [
    "#function to check if a game is a microsoft owned game\n",
    "def ismicrosoft(PublisherName):\n",
    "    microsoftaliases =['Xbox Game Studios','Microsoft Game Studios','Microsoft Studios','Microsoft']\n",
    "    Pubname = PublisherName.replace(' ','').upper()\n",
    "    aliases = [x.replace(' ','').upper() for x in microsoftaliases]\n",
    "    for name in aliases:\n",
    "        if name == Pubname:\n",
    "            return True\n",
    "    return False\n",
    "   \n",
    "ismicrosoft('Xbox Game Studios')    "
   ]
  },
  {
   "cell_type": "code",
   "execution_count": 14,
   "metadata": {},
   "outputs": [
    {
     "data": {
      "text/plain": [
       "Rank              0\n",
       "Name              0\n",
       "Platform          0\n",
       "Year            271\n",
       "Genre             0\n",
       "Publisher        58\n",
       "NA_Sales          0\n",
       "EU_Sales          0\n",
       "JP_Sales          0\n",
       "Other_Sales       0\n",
       "Global_Sales      0\n",
       "dtype: int64"
      ]
     },
     "execution_count": 14,
     "metadata": {},
     "output_type": "execute_result"
    }
   ],
   "source": [
    "vgdf.isnull().sum()"
   ]
  },
  {
   "cell_type": "code",
   "execution_count": 15,
   "metadata": {},
   "outputs": [
    {
     "name": "stdout",
     "output_type": "stream",
     "text": [
      "(16291, 11) Rank            0\n",
      "Name            0\n",
      "Platform        0\n",
      "Year            0\n",
      "Genre           0\n",
      "Publisher       0\n",
      "NA_Sales        0\n",
      "EU_Sales        0\n",
      "JP_Sales        0\n",
      "Other_Sales     0\n",
      "Global_Sales    0\n",
      "dtype: int64\n"
     ]
    }
   ],
   "source": [
    "vgdf = vgdf.dropna()\n",
    "print(vgdf.shape,vgdf.isnull().sum())"
   ]
  },
  {
   "cell_type": "code",
   "execution_count": 16,
   "metadata": {},
   "outputs": [],
   "source": [
    "vgdf['Microsoft'] = vgdf['Publisher'].map(lambda x: 'Microsoft' if ismicrosoft(x) else 'useless')"
   ]
  },
  {
   "cell_type": "code",
   "execution_count": 17,
   "metadata": {},
   "outputs": [
    {
     "data": {
      "text/plain": [
       "<matplotlib.axes._subplots.AxesSubplot at 0x7f9af301bc10>"
      ]
     },
     "execution_count": 17,
     "metadata": {},
     "output_type": "execute_result"
    },
    {
     "data": {
      "image/png": "[encoded data removed]",
      "text/plain": [
       "<Figure size 432x288 with 1 Axes>"
      ]
     },
     "metadata": {
      "needs_background": "light"
     },
     "output_type": "display_data"
    }
   ],
   "source": [
    "MSIP = vgdf[vgdf['Microsoft'] != 'useless']\n",
    "MSIP['Genre'].hist(xrot = 70)"
   ]
  },
  {
   "cell_type": "code",
   "execution_count": 18,
   "metadata": {},
   "outputs": [
    {
     "data": {
      "text/plain": [
       "<matplotlib.axes._subplots.AxesSubplot at 0x7f9af311e0a0>"
      ]
     },
     "execution_count": 18,
     "metadata": {},
     "output_type": "execute_result"
    },
    {
     "data": {
      "image/png": "[encoded data removed]",
      "text/plain": [
       "<Figure size 432x288 with 1 Axes>"
      ]
     },
     "metadata": {
      "needs_background": "light"
     },
     "output_type": "display_data"
    }
   ],
   "source": [
    "MSIP[0:20].groupby('Genre').sum().plot.bar(y ='Global_Sales')"
   ]
  },
  {
   "cell_type": "code",
   "execution_count": 19,
   "metadata": {},
   "outputs": [
    {
     "data": {
      "text/plain": [
       "<matplotlib.axes._subplots.AxesSubplot at 0x7f9af31bec40>"
      ]
     },
     "execution_count": 19,
     "metadata": {},
     "output_type": "execute_result"
    },
    {
     "data": {
      "image/png": "[encoded data removed]",
      "text/plain": [
       "<Figure size 432x288 with 1 Axes>"
      ]
     },
     "metadata": {
      "needs_background": "light"
     },
     "output_type": "display_data"
    }
   ],
   "source": [
    "MSIP.groupby('Genre').Global_Sales.mean().plot.barh()"
   ]
  },
  {
   "cell_type": "code",
   "execution_count": 20,
   "metadata": {},
   "outputs": [
    {
     "data": {
      "text/plain": [
       "<matplotlib.axes._subplots.AxesSubplot at 0x7f9af31f26a0>"
      ]
     },
     "execution_count": 20,
     "metadata": {},
     "output_type": "execute_result"
    },
    {
     "data": {
      "image/png": "[encoded data removed]",
      "text/plain": [
       "<Figure size 432x288 with 1 Axes>"
      ]
     },
     "metadata": {
      "needs_background": "light"
     },
     "output_type": "display_data"
    }
   ],
   "source": [
    "MSIP.groupby('Genre').Global_Sales.median().plot.barh()"
   ]
  },
  {
   "cell_type": "markdown",
   "metadata": {},
   "source": [
    "Next going to try and translate the game genres to movie genres and clean the movie genres column so that it makes sense"
   ]
  },
  {
   "cell_type": "code",
   "execution_count": null,
   "metadata": {},
   "outputs": [],
   "source": []
  },
  {
   "cell_type": "code",
   "execution_count": null,
   "metadata": {},
   "outputs": [],
   "source": []
  },
  {
   "cell_type": "code",
   "execution_count": null,
   "metadata": {},
   "outputs": [],
   "source": [
    "\n",
    "        \n",
    "                                                \n",
    "                                                \n",
    "                                                "
   ]
  },
  {
   "cell_type": "code",
   "execution_count": 122,
   "metadata": {},
   "outputs": [
    {
     "data": {
      "text/plain": [
       "0                   [Adventure, Science Fiction, Action]\n",
       "1          [Action, Adventure, Fantasy, Science Fiction]\n",
       "2                                       [Drama, Romance]\n",
       "3          [Action, Adventure, Science Fiction, Fantasy]\n",
       "4                   [Adventure, Action, Science Fiction]\n",
       "                             ...                        \n",
       "995                                   [Action, Thriller]\n",
       "996                                     [Family, Comedy]\n",
       "997                                      [Drama, Comedy]\n",
       "998    [War, History, Action, Adventure, Drama, Romance]\n",
       "999                                     [Drama, Romance]\n",
       "Name: genres, Length: 996, dtype: object"
      ]
     },
     "execution_count": 122,
     "metadata": {},
     "output_type": "execute_result"
    }
   ],
   "source": [
    "xyz = merged_df[(merged_df['genres'] != float)]\n",
    "xyz = xyz.drop(113,axis = 0)\n",
    "xyz = xyz.drop(254,axis = 0)\n",
    "xyz = xyz.drop(287,axis = 0)\n",
    "xyz = xyz.drop(630,axis = 0)\n",
    "xyz\n",
    "xyz['genres'] = xyz['genres'].apply(lambda x: [y['name'] for y in x])\n",
    "xyz['genres']"
   ]
  },
  {
   "cell_type": "code",
   "execution_count": 123,
   "metadata": {},
   "outputs": [
    {
     "name": "stdout",
     "output_type": "stream",
     "text": [
      "['Rank', 'Title', 'Worldwide_Lifetime_Gross', 'Domestic_Lifetime_Gross', 'Domestic_Percentage', 'Foreign_Lifetime_Gross', 'Foreign_Lifetime_Percentage', 'Year', 'imdb_id', 'adult', 'backdrop_path', 'belongs_to_collection', 'budget', 'genres', 'homepage', 'id', 'original_language', 'original_title', 'overview', 'popularity', 'poster_path', 'production_companies', 'production_countries', 'release_date', 'revenue', 'runtime', 'spoken_languages', 'status', 'tagline', 'title', 'video', 'vote_average', 'vote_count', 'success', 'status_code', 'status_message']\n"
     ]
    }
   ],
   "source": [
    "print([x for x in xyz])"
   ]
  },
  {
   "cell_type": "code",
   "execution_count": 124,
   "metadata": {},
   "outputs": [],
   "source": [
    "genredata = list(xyz.values)"
   ]
  },
  {
   "cell_type": "code",
   "execution_count": 125,
   "metadata": {},
   "outputs": [],
   "source": [
    "imtiredanddontknowwhatimdoing = []\n",
    "length = len(genredata)\n",
    "for i in range(0,length):\n",
    "    templist = genredata[i][13]\n",
    "    for j in templist:\n",
    "        a = genredata[i]\n",
    "        a[13] = j\n",
    "        imtiredanddontknowwhatimdoing.append(a)\n",
    "        \n",
    "        "
   ]
  },
  {
   "cell_type": "code",
   "execution_count": null,
   "metadata": {},
   "outputs": [],
   "source": []
  },
  {
   "cell_type": "code",
   "execution_count": 126,
   "metadata": {},
   "outputs": [
    {
     "data": {
      "text/plain": [
       "0       2797800564\n",
       "1       2797800564\n",
       "2       2797800564\n",
       "3       2790439000\n",
       "4       2790439000\n",
       "           ...    \n",
       "2988     167298192\n",
       "2989     167298192\n",
       "2990     167298192\n",
       "2991     166842739\n",
       "2992     166842739\n",
       "Name: Worldwide_Lifetime_Gross, Length: 2993, dtype: int64"
      ]
     },
     "execution_count": 126,
     "metadata": {},
     "output_type": "execute_result"
    }
   ],
   "source": [
    "genredata = pd.DataFrame(data = imtiredanddontknowwhatimdoing, columns = ['Rank', 'Title', 'Worldwide_Lifetime_Gross', 'Domestic_Lifetime_Gross', 'Domestic_Percentage', 'Foreign_Lifetime_Gross', 'Foreign_Lifetime_Percentage', 'Year', 'imdb_id', 'adult', 'backdrop_path', 'belongs_to_collection', 'budget', 'genres', 'homepage', 'id', 'original_language', 'original_title', 'overview', 'popularity', 'poster_path', 'production_companies', 'production_countries', 'release_date', 'revenue', 'runtime', 'spoken_languages', 'status', 'tagline', 'title', 'video', 'vote_average', 'vote_count', 'success', 'status_code', 'status_message'])\n",
    "genredata['Worldwide_Lifetime_Gross'] = genredata['Worldwide_Lifetime_Gross'].apply(lambda x: int(x.replace('$','').replace(',',(''))))\n",
    "genredata['Domestic_Lifetime_Gross'] = genredata['Domestic_Lifetime_Gross'].apply(lambda x: int(x.replace('$','').replace(',',(''))))\n",
    "genredata['Foreign_Lifetime_Gross'] = genredata['Foreign_Lifetime_Gross'].apply(lambda x: int(x.replace('$','').replace(',',(''))))\n",
    "genredata['Worldwide_Lifetime_Gross']\n"
   ]
  },
  {
   "cell_type": "code",
   "execution_count": 127,
   "metadata": {},
   "outputs": [
    {
     "data": {
      "text/plain": [
       "<matplotlib.axes._subplots.AxesSubplot at 0x7f9ab62b0dc0>"
      ]
     },
     "execution_count": 127,
     "metadata": {},
     "output_type": "execute_result"
    },
    {
     "data": {
      "image/png": "[encoded data removed]",
      "text/plain": [
       "<Figure size 432x288 with 1 Axes>"
      ]
     },
     "metadata": {
      "needs_background": "light"
     },
     "output_type": "display_data"
    }
   ],
   "source": [
    "ybc = genredata[['genres','Worldwide_Lifetime_Gross','Domestic_Lifetime_Gross','Foreign_Lifetime_Gross']].groupby('genres').mean()\n",
    "ybc.plot.bar()"
   ]
  },
  {
   "cell_type": "code",
   "execution_count": 128,
   "metadata": {},
   "outputs": [
    {
     "data": {
      "text/plain": [
       "<matplotlib.axes._subplots.AxesSubplot at 0x7f9ab650eca0>"
      ]
     },
     "execution_count": 128,
     "metadata": {},
     "output_type": "execute_result"
    },
    {
     "data": {
      "image/png": "[encoded data removed]",
      "text/plain": [
       "<Figure size 432x288 with 1 Axes>"
      ]
     },
     "metadata": {
      "needs_background": "light"
     },
     "output_type": "display_data"
    }
   ],
   "source": [
    "ybc = genredata[['genres','Worldwide_Lifetime_Gross','Domestic_Lifetime_Gross','Foreign_Lifetime_Gross']].groupby('genres').median()\n",
    "ybc.plot.bar()"
   ]
  },
  {
   "cell_type": "code",
   "execution_count": 129,
   "metadata": {},
   "outputs": [
    {
     "data": {
      "text/plain": [
       "<matplotlib.axes._subplots.AxesSubplot at 0x7f9ab650ec10>"
      ]
     },
     "execution_count": 129,
     "metadata": {},
     "output_type": "execute_result"
    },
    {
     "data": {
      "image/png": "[encoded data removed]",
      "text/plain": [
       "<Figure size 432x288 with 1 Axes>"
      ]
     },
     "metadata": {
      "needs_background": "light"
     },
     "output_type": "display_data"
    }
   ],
   "source": [
    "ybc = genredata[['genres','Worldwide_Lifetime_Gross','Domestic_Lifetime_Gross','Foreign_Lifetime_Gross']].groupby('genres').sum()\n",
    "ybc.plot.bar()"
   ]
  },
  {
   "cell_type": "code",
   "execution_count": 130,
   "metadata": {},
   "outputs": [
    {
     "data": {
      "text/plain": [
       "<matplotlib.axes._subplots.AxesSubplot at 0x7f9ab71a2040>"
      ]
     },
     "execution_count": 130,
     "metadata": {},
     "output_type": "execute_result"
    },
    {
     "data": {
      "image/png": "[encoded data removed]",
      "text/plain": [
       "<Figure size 432x288 with 1 Axes>"
      ]
     },
     "metadata": {
      "needs_background": "light"
     },
     "output_type": "display_data"
    }
   ],
   "source": [
    "ybc = genredata[['genres','Worldwide_Lifetime_Gross','Domestic_Lifetime_Gross','Foreign_Lifetime_Gross']]\n",
    "ybc.genres.value_counts().plot.bar()\n",
    "\n",
    "\n",
    "\n",
    "\n",
    "\n"
   ]
  },
  {
   "cell_type": "code",
   "execution_count": 131,
   "metadata": {},
   "outputs": [
    {
     "data": {
      "text/plain": [
       "genres\n",
       "Action       946.0\n",
       "Adventure   1451.5\n",
       "Animation    315.0\n",
       "Comedy      1648.0\n",
       "Crime        999.8\n",
       "Name: vote_average, dtype: float64"
      ]
     },
     "execution_count": 131,
     "metadata": {},
     "output_type": "execute_result"
    },
    {
     "data": {
      "image/png": "[encoded data removed]",
      "text/plain": [
       "<Figure size 432x288 with 1 Axes>"
      ]
     },
     "metadata": {
      "needs_background": "light"
     },
     "output_type": "display_data"
    }
   ],
   "source": [
    "ybc = genredata.groupby('genres').vote_average.sum()\n",
    "ybc.plot.bar()\n",
    "ybc.head()"
   ]
  },
  {
   "cell_type": "code",
   "execution_count": null,
   "metadata": {},
   "outputs": [],
   "source": []
  }
 ],
 "metadata": {
  "kernelspec": {
   "display_name": "Python 3",
   "language": "python",
   "name": "python3"
  },
  "language_info": {
   "codemirror_mode": {
    "name": "ipython",
    "version": 3
   },
   "file_extension": ".py",
   "mimetype": "text/x-python",
   "name": "python",
   "nbconvert_exporter": "python",
   "pygments_lexer": "ipython3",
   "version": "3.8.3"
  }
 },
 "nbformat": 4,
 "nbformat_minor": 4
}
