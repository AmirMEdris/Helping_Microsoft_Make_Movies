{
 "cells": [
  {
   "cell_type": "markdown",
   "metadata": {},
   "source": [
    "# Data Scraping and The Movie Database Api"
   ]
  },
  {
   "cell_type": "markdown",
   "metadata": {},
   "source": [
    "\n",
    "Final Project Submission\n",
    "\n",
    "Student name: Amir M Edris & Yasir Karim\n",
    "\n",
    "Student pace: full time\n",
    "\n",
    "Scheduled project review date/time: 10:00 am, Aug 21st, 2020\n",
    "\n",
    "Instructor name: Fangfang Lee\n"
   ]
  },
  {
   "cell_type": "markdown",
   "metadata": {},
   "source": [
    "## Data Scraping From Box Office Mojo"
   ]
  },
  {
   "cell_type": "markdown",
   "metadata": {},
   "source": [
    "So I wanted to collect data from the website box office mojo to make a dataset of the top grossing movies all time. \n",
    "\n",
    "The page that has this information can be found \n",
    "here:https://www.boxofficemojo.com/chart/ww_top_lifetime_gross/    \n",
    "\n",
    "To get this data we are gonna have python send a request for the information of that page iterate through it and look for the markers unique to the data that we wanna collect. We need python to do this for every row and every page.\n",
    "\n",
    "I wanted to make the same dataset as JVasquez5's which can be found:https://github.com/JVasquez5/dsc-mod-1-project-v2-1-nyc01-dtsc-ft-051120/blob/master/Data_Web_Scraping_%26_API.ipynb. From him I used the tags to find the data found in the function BOMscrap later and merging both data sets I implemented them differently but I learned from reading his project.\n"
   ]
  },
  {
   "cell_type": "code",
   "execution_count": 535,
   "metadata": {},
   "outputs": [],
   "source": [
    "#First import the modules that we are gonna be using below\n",
    "import requests #To make http requests\n",
    "from bs4 import BeautifulSoup as bs #To make soup and be able to extract data from our requests.\n",
    "import pandas as pd# To store look at and manipulate our data\n",
    "import json# To properly read the results of api requests\n",
    "pd.set_option('display.float_format', lambda x: '%.1f' % x)"
   ]
  },
  {
   "cell_type": "markdown",
   "metadata": {},
   "source": [
    "   When you go to the next page on the website I noticed the end of the link changes to\n",
    "'?offset=200'. I figured that that was the amount of rows to skip since it increased by 200 per page with 800 being the last page. So instead of making something that runs 5 times we can just use a loop."
   ]
  },
  {
   "cell_type": "code",
   "execution_count": 536,
   "metadata": {},
   "outputs": [
    {
     "name": "stdout",
     "output_type": "stream",
     "text": [
      "['https://www.boxofficemojo.com/chart/ww_top_lifetime_gross/?offset=0', 'https://www.boxofficemojo.com/chart/ww_top_lifetime_gross/?offset=200', 'https://www.boxofficemojo.com/chart/ww_top_lifetime_gross/?offset=400', 'https://www.boxofficemojo.com/chart/ww_top_lifetime_gross/?offset=600', 'https://www.boxofficemojo.com/chart/ww_top_lifetime_gross/?offset=800']\n"
     ]
    }
   ],
   "source": [
    "#added a variable for the link so that we could use the .format() methood later\n",
    "link = 'https://www.boxofficemojo.com/chart/ww_top_lifetime_gross/{}'\n",
    "#make a variable x that is the value that we will pass into the offset attribute\n",
    "x = 0\n",
    "#make a list of the 5 pages we will use.\n",
    "linklist = []\n",
    "\n",
    "while x < 1000:#                            While we arent x doesnt equal 1000 we havent got all\n",
    "    command= '?offset={}'.format(x)#   the pages so we set the offset to our next page 200 rows\n",
    "    y = link.format(command)#.         and clone the link thats empty name it y and add our offset             \n",
    "    linklist.append(y)#                we then add that list to the end of the dictionary and\n",
    "    x+=200#                            and finally add 200 to x so we get the next 200 \n",
    "#                                      until we finish.\n",
    "print(linklist)\n"
   ]
  },
  {
   "cell_type": "markdown",
   "metadata": {},
   "source": [
    "Next we are gonna make a function that will go through the data that we will get from Box Office Movies after it goes through beautiful soup and have it give us the rows of data."
   ]
  },
  {
   "cell_type": "code",
   "execution_count": 537,
   "metadata": {},
   "outputs": [],
   "source": [
    "# next we are gonna make a function that will take in the result of the request and give\n",
    "# you the rows of data\n",
    "def BOMscrap(entry):\n",
    "    movie_list = []#final list\n",
    "    for record in entry.findAll(\"tr\"): #             for every record that has the tag 'tr' in\n",
    "        row = [x.text for x in record.findAll(\"td\")]#our entry make a row of all the info in that \n",
    "        for a in record.findAll('a', href=True):#   record using the 'td' tag. if a link in the \n",
    "            if a['href'].startswith('/title/'):#    record starts with title remove the link portion\n",
    "                row.append(a['href'][7:16])#        and add it to our current row. finally if the row\n",
    "        if len(row)>0:#                             isnt empty add it to our list of rows.\n",
    "            movie_list.append(row)\n",
    "    return movie_list"
   ]
  },
  {
   "cell_type": "markdown",
   "metadata": {},
   "source": [
    "So now we have a function that can take in processed data from a link and we have a list of links. The next thing we have to do is put our data through beautiful soup so that we can use our function to crunch it down to only the information that we want then add it to a list fulllist which will contain all 5 pages worth of data."
   ]
  },
  {
   "cell_type": "code",
   "execution_count": 538,
   "metadata": {},
   "outputs": [],
   "source": [
    "fulllist = []#                                for every link in our list linklist get the html\n",
    "for link in linklist:#                     data for that link(page info) and turn it into a \n",
    "    r = requests.get(link)#                beautiful soup object and make a temporary\n",
    "    soup = bs(r.content,'html.parser')#    variable 'page' which is equal to that pages 200\n",
    "    page = BOMscrap(soup)#                 rows of data and add the rows to our list fulllist.\n",
    "    fulllist += page\n"
   ]
  },
  {
   "cell_type": "markdown",
   "metadata": {},
   "source": [
    "So now we sould have a thousand rows of data, we are gonna verify this and make a list of the names of the columns that we have extracted."
   ]
  },
  {
   "cell_type": "code",
   "execution_count": 539,
   "metadata": {},
   "outputs": [
    {
     "name": "stdout",
     "output_type": "stream",
     "text": [
      "1000\n"
     ]
    }
   ],
   "source": [
    "print(len(fulllist))#make sure are assumtion is right\n",
    "header = ['Rank', 'Title', 'Worldwide_Lifetime_Gross', #making the columns\n",
    "          'Domestic_Lifetime_Gross', 'Domestic_Percentage', \n",
    "          'Foreign_Lifetime_Gross', 'Foreign_Lifetime_Percentage', \n",
    "          'Year', 'imdb_id']"
   ]
  },
  {
   "cell_type": "markdown",
   "metadata": {},
   "source": [
    "Now that we have made a header list we can use the modules pandas(pd) to make a dataframe(completed_df) that will hold our data."
   ]
  },
  {
   "cell_type": "code",
   "execution_count": 540,
   "metadata": {},
   "outputs": [
    {
     "data": {
      "text/html": [
       "<div>\n",
       "<style scoped>\n",
       "    .dataframe tbody tr th:only-of-type {\n",
       "        vertical-align: middle;\n",
       "    }\n",
       "\n",
       "    .dataframe tbody tr th {\n",
       "        vertical-align: top;\n",
       "    }\n",
       "\n",
       "    .dataframe thead th {\n",
       "        text-align: right;\n",
       "    }\n",
       "</style>\n",
       "<table border=\"1\" class=\"dataframe\">\n",
       "  <thead>\n",
       "    <tr style=\"text-align: right;\">\n",
       "      <th></th>\n",
       "      <th>Rank</th>\n",
       "      <th>Title</th>\n",
       "      <th>Worldwide_Lifetime_Gross</th>\n",
       "      <th>Domestic_Lifetime_Gross</th>\n",
       "      <th>Domestic_Percentage</th>\n",
       "      <th>Foreign_Lifetime_Gross</th>\n",
       "      <th>Foreign_Lifetime_Percentage</th>\n",
       "      <th>Year</th>\n",
       "      <th>imdb_id</th>\n",
       "    </tr>\n",
       "  </thead>\n",
       "  <tbody>\n",
       "    <tr>\n",
       "      <th>0</th>\n",
       "      <td>1</td>\n",
       "      <td>Avengers: Endgame</td>\n",
       "      <td>$2,797,800,564</td>\n",
       "      <td>$858,373,000</td>\n",
       "      <td>30.7%</td>\n",
       "      <td>$1,939,427,564</td>\n",
       "      <td>69.3%</td>\n",
       "      <td>2019</td>\n",
       "      <td>tt4154796</td>\n",
       "    </tr>\n",
       "    <tr>\n",
       "      <th>1</th>\n",
       "      <td>2</td>\n",
       "      <td>Avatar</td>\n",
       "      <td>$2,790,439,000</td>\n",
       "      <td>$760,507,625</td>\n",
       "      <td>27.2%</td>\n",
       "      <td>$2,029,931,375</td>\n",
       "      <td>72.8%</td>\n",
       "      <td>2009</td>\n",
       "      <td>tt0499549</td>\n",
       "    </tr>\n",
       "    <tr>\n",
       "      <th>2</th>\n",
       "      <td>3</td>\n",
       "      <td>Titanic</td>\n",
       "      <td>$2,195,169,869</td>\n",
       "      <td>$659,363,944</td>\n",
       "      <td>30%</td>\n",
       "      <td>$1,535,805,925</td>\n",
       "      <td>70%</td>\n",
       "      <td>1997</td>\n",
       "      <td>tt0120338</td>\n",
       "    </tr>\n",
       "    <tr>\n",
       "      <th>3</th>\n",
       "      <td>4</td>\n",
       "      <td>Star Wars: Episode VII - The Force Awakens</td>\n",
       "      <td>$2,068,224,036</td>\n",
       "      <td>$936,662,225</td>\n",
       "      <td>45.3%</td>\n",
       "      <td>$1,131,561,811</td>\n",
       "      <td>54.7%</td>\n",
       "      <td>2015</td>\n",
       "      <td>tt2488496</td>\n",
       "    </tr>\n",
       "    <tr>\n",
       "      <th>4</th>\n",
       "      <td>5</td>\n",
       "      <td>Avengers: Infinity War</td>\n",
       "      <td>$2,048,359,754</td>\n",
       "      <td>$678,815,482</td>\n",
       "      <td>33.1%</td>\n",
       "      <td>$1,369,544,272</td>\n",
       "      <td>66.9%</td>\n",
       "      <td>2018</td>\n",
       "      <td>tt4154756</td>\n",
       "    </tr>\n",
       "  </tbody>\n",
       "</table>\n",
       "</div>"
      ],
      "text/plain": [
       "  Rank                                       Title Worldwide_Lifetime_Gross  \\\n",
       "0    1                           Avengers: Endgame           $2,797,800,564   \n",
       "1    2                                      Avatar           $2,790,439,000   \n",
       "2    3                                     Titanic           $2,195,169,869   \n",
       "3    4  Star Wars: Episode VII - The Force Awakens           $2,068,224,036   \n",
       "4    5                      Avengers: Infinity War           $2,048,359,754   \n",
       "\n",
       "  Domestic_Lifetime_Gross Domestic_Percentage Foreign_Lifetime_Gross  \\\n",
       "0            $858,373,000               30.7%         $1,939,427,564   \n",
       "1            $760,507,625               27.2%         $2,029,931,375   \n",
       "2            $659,363,944                 30%         $1,535,805,925   \n",
       "3            $936,662,225               45.3%         $1,131,561,811   \n",
       "4            $678,815,482               33.1%         $1,369,544,272   \n",
       "\n",
       "  Foreign_Lifetime_Percentage  Year    imdb_id  \n",
       "0                       69.3%  2019  tt4154796  \n",
       "1                       72.8%  2009  tt0499549  \n",
       "2                         70%  1997  tt0120338  \n",
       "3                       54.7%  2015  tt2488496  \n",
       "4                       66.9%  2018  tt4154756  "
      ]
     },
     "execution_count": 540,
     "metadata": {},
     "output_type": "execute_result"
    }
   ],
   "source": [
    "completed_df = pd.DataFrame(fulllist, columns = header)# make a dataframe from the listoflist fulllist\n",
    "completed_df.head()"
   ]
  },
  {
   "cell_type": "markdown",
   "metadata": {},
   "source": [
    "Ok so we have 1000 movies and some information about how much money they have made, when they were made, etc. But thats not enough info for every row to do the analysis that we wanted to do so we are gonna use the series or column 'imdb_id' with a movie database api to contact the site tmdb and request some more info"
   ]
  },
  {
   "cell_type": "code",
   "execution_count": 541,
   "metadata": {},
   "outputs": [],
   "source": [
    "movieids = completed_df.imdb_id#Store the series for ease\n",
    "tmdb_list = []\n",
    "for id in movieids:#Check every movie and get read the json turn it to a dict and add it to our new data list\n",
    "    response = requests.get(\"https://api.themoviedb.org/3/movie/\" + id + \"?api_key=\" + \"e69606ff3cabd3ebbba0d97046bc81ba\" + \"&language=en-US\")\n",
    "    data = response.json()\n",
    "    tmdb_list.append(data)\n"
   ]
  },
  {
   "cell_type": "markdown",
   "metadata": {},
   "source": [
    "Now we have a list of dictionaries that we can also convert to a dataframe."
   ]
  },
  {
   "cell_type": "code",
   "execution_count": 542,
   "metadata": {},
   "outputs": [
    {
     "data": {
      "text/html": [
       "<div>\n",
       "<style scoped>\n",
       "    .dataframe tbody tr th:only-of-type {\n",
       "        vertical-align: middle;\n",
       "    }\n",
       "\n",
       "    .dataframe tbody tr th {\n",
       "        vertical-align: top;\n",
       "    }\n",
       "\n",
       "    .dataframe thead th {\n",
       "        text-align: right;\n",
       "    }\n",
       "</style>\n",
       "<table border=\"1\" class=\"dataframe\">\n",
       "  <thead>\n",
       "    <tr style=\"text-align: right;\">\n",
       "      <th></th>\n",
       "      <th>adult</th>\n",
       "      <th>backdrop_path</th>\n",
       "      <th>belongs_to_collection</th>\n",
       "      <th>budget</th>\n",
       "      <th>genres</th>\n",
       "      <th>homepage</th>\n",
       "      <th>id</th>\n",
       "      <th>imdb_id</th>\n",
       "      <th>original_language</th>\n",
       "      <th>original_title</th>\n",
       "      <th>...</th>\n",
       "      <th>spoken_languages</th>\n",
       "      <th>status</th>\n",
       "      <th>tagline</th>\n",
       "      <th>title</th>\n",
       "      <th>video</th>\n",
       "      <th>vote_average</th>\n",
       "      <th>vote_count</th>\n",
       "      <th>success</th>\n",
       "      <th>status_code</th>\n",
       "      <th>status_message</th>\n",
       "    </tr>\n",
       "  </thead>\n",
       "  <tbody>\n",
       "    <tr>\n",
       "      <th>0</th>\n",
       "      <td>False</td>\n",
       "      <td>/orjiB3oUIsyz60hoEqkiGpy5CeO.jpg</td>\n",
       "      <td>{'id': 86311, 'name': 'The Avengers Collection...</td>\n",
       "      <td>356000000.0</td>\n",
       "      <td>[{'id': 12, 'name': 'Adventure'}, {'id': 878, ...</td>\n",
       "      <td>https://www.marvel.com/movies/avengers-endgame</td>\n",
       "      <td>299534.0</td>\n",
       "      <td>tt4154796</td>\n",
       "      <td>en</td>\n",
       "      <td>Avengers: Endgame</td>\n",
       "      <td>...</td>\n",
       "      <td>[{'iso_639_1': 'en', 'name': 'English'}, {'iso...</td>\n",
       "      <td>Released</td>\n",
       "      <td>Part of the journey is the end.</td>\n",
       "      <td>Avengers: Endgame</td>\n",
       "      <td>False</td>\n",
       "      <td>8.3</td>\n",
       "      <td>14644.0</td>\n",
       "      <td>NaN</td>\n",
       "      <td>nan</td>\n",
       "      <td>NaN</td>\n",
       "    </tr>\n",
       "    <tr>\n",
       "      <th>1</th>\n",
       "      <td>False</td>\n",
       "      <td>/bIL7ENqh1egWTxN41sM2W42JqPc.jpg</td>\n",
       "      <td>{'id': 87096, 'name': 'Avatar Collection', 'po...</td>\n",
       "      <td>237000000.0</td>\n",
       "      <td>[{'id': 28, 'name': 'Action'}, {'id': 12, 'nam...</td>\n",
       "      <td>http://www.avatarmovie.com/</td>\n",
       "      <td>19995.0</td>\n",
       "      <td>tt0499549</td>\n",
       "      <td>en</td>\n",
       "      <td>Avatar</td>\n",
       "      <td>...</td>\n",
       "      <td>[{'iso_639_1': 'en', 'name': 'English'}, {'iso...</td>\n",
       "      <td>Released</td>\n",
       "      <td>Enter the World of Pandora.</td>\n",
       "      <td>Avatar</td>\n",
       "      <td>False</td>\n",
       "      <td>7.4</td>\n",
       "      <td>21864.0</td>\n",
       "      <td>NaN</td>\n",
       "      <td>nan</td>\n",
       "      <td>NaN</td>\n",
       "    </tr>\n",
       "    <tr>\n",
       "      <th>2</th>\n",
       "      <td>False</td>\n",
       "      <td>/6VmFqApQRyZZzmiGOQq2C92jyvH.jpg</td>\n",
       "      <td>None</td>\n",
       "      <td>200000000.0</td>\n",
       "      <td>[{'id': 18, 'name': 'Drama'}, {'id': 10749, 'n...</td>\n",
       "      <td></td>\n",
       "      <td>597.0</td>\n",
       "      <td>tt0120338</td>\n",
       "      <td>en</td>\n",
       "      <td>Titanic</td>\n",
       "      <td>...</td>\n",
       "      <td>[{'iso_639_1': 'en', 'name': 'English'}, {'iso...</td>\n",
       "      <td>Released</td>\n",
       "      <td>Nothing on Earth could come between them.</td>\n",
       "      <td>Titanic</td>\n",
       "      <td>False</td>\n",
       "      <td>7.9</td>\n",
       "      <td>17528.0</td>\n",
       "      <td>NaN</td>\n",
       "      <td>nan</td>\n",
       "      <td>NaN</td>\n",
       "    </tr>\n",
       "    <tr>\n",
       "      <th>3</th>\n",
       "      <td>False</td>\n",
       "      <td>/k6EOrckWFuz7I4z4wiRwz8zsj4H.jpg</td>\n",
       "      <td>{'id': 10, 'name': 'Star Wars Collection', 'po...</td>\n",
       "      <td>245000000.0</td>\n",
       "      <td>[{'id': 28, 'name': 'Action'}, {'id': 12, 'nam...</td>\n",
       "      <td>http://www.starwars.com/films/star-wars-episod...</td>\n",
       "      <td>140607.0</td>\n",
       "      <td>tt2488496</td>\n",
       "      <td>en</td>\n",
       "      <td>Star Wars: The Force Awakens</td>\n",
       "      <td>...</td>\n",
       "      <td>[{'iso_639_1': 'en', 'name': 'English'}]</td>\n",
       "      <td>Released</td>\n",
       "      <td>Every generation has a story.</td>\n",
       "      <td>Star Wars: The Force Awakens</td>\n",
       "      <td>False</td>\n",
       "      <td>7.4</td>\n",
       "      <td>14818.0</td>\n",
       "      <td>NaN</td>\n",
       "      <td>nan</td>\n",
       "      <td>NaN</td>\n",
       "    </tr>\n",
       "    <tr>\n",
       "      <th>4</th>\n",
       "      <td>False</td>\n",
       "      <td>/bOGkgRGdhrBYJSLpXaxhXVstddV.jpg</td>\n",
       "      <td>{'id': 86311, 'name': 'The Avengers Collection...</td>\n",
       "      <td>300000000.0</td>\n",
       "      <td>[{'id': 12, 'name': 'Adventure'}, {'id': 28, '...</td>\n",
       "      <td>https://www.marvel.com/movies/avengers-infinit...</td>\n",
       "      <td>299536.0</td>\n",
       "      <td>tt4154756</td>\n",
       "      <td>en</td>\n",
       "      <td>Avengers: Infinity War</td>\n",
       "      <td>...</td>\n",
       "      <td>[{'iso_639_1': 'en', 'name': 'English'}, {'iso...</td>\n",
       "      <td>Released</td>\n",
       "      <td>An entire universe. Once and for all.</td>\n",
       "      <td>Avengers: Infinity War</td>\n",
       "      <td>False</td>\n",
       "      <td>8.3</td>\n",
       "      <td>19358.0</td>\n",
       "      <td>NaN</td>\n",
       "      <td>nan</td>\n",
       "      <td>NaN</td>\n",
       "    </tr>\n",
       "  </tbody>\n",
       "</table>\n",
       "<p>5 rows × 28 columns</p>\n",
       "</div>"
      ],
      "text/plain": [
       "   adult                     backdrop_path  \\\n",
       "0  False  /orjiB3oUIsyz60hoEqkiGpy5CeO.jpg   \n",
       "1  False  /bIL7ENqh1egWTxN41sM2W42JqPc.jpg   \n",
       "2  False  /6VmFqApQRyZZzmiGOQq2C92jyvH.jpg   \n",
       "3  False  /k6EOrckWFuz7I4z4wiRwz8zsj4H.jpg   \n",
       "4  False  /bOGkgRGdhrBYJSLpXaxhXVstddV.jpg   \n",
       "\n",
       "                               belongs_to_collection      budget  \\\n",
       "0  {'id': 86311, 'name': 'The Avengers Collection... 356000000.0   \n",
       "1  {'id': 87096, 'name': 'Avatar Collection', 'po... 237000000.0   \n",
       "2                                               None 200000000.0   \n",
       "3  {'id': 10, 'name': 'Star Wars Collection', 'po... 245000000.0   \n",
       "4  {'id': 86311, 'name': 'The Avengers Collection... 300000000.0   \n",
       "\n",
       "                                              genres  \\\n",
       "0  [{'id': 12, 'name': 'Adventure'}, {'id': 878, ...   \n",
       "1  [{'id': 28, 'name': 'Action'}, {'id': 12, 'nam...   \n",
       "2  [{'id': 18, 'name': 'Drama'}, {'id': 10749, 'n...   \n",
       "3  [{'id': 28, 'name': 'Action'}, {'id': 12, 'nam...   \n",
       "4  [{'id': 12, 'name': 'Adventure'}, {'id': 28, '...   \n",
       "\n",
       "                                            homepage       id    imdb_id  \\\n",
       "0     https://www.marvel.com/movies/avengers-endgame 299534.0  tt4154796   \n",
       "1                        http://www.avatarmovie.com/  19995.0  tt0499549   \n",
       "2                                                       597.0  tt0120338   \n",
       "3  http://www.starwars.com/films/star-wars-episod... 140607.0  tt2488496   \n",
       "4  https://www.marvel.com/movies/avengers-infinit... 299536.0  tt4154756   \n",
       "\n",
       "  original_language                original_title  ...  \\\n",
       "0                en             Avengers: Endgame  ...   \n",
       "1                en                        Avatar  ...   \n",
       "2                en                       Titanic  ...   \n",
       "3                en  Star Wars: The Force Awakens  ...   \n",
       "4                en        Avengers: Infinity War  ...   \n",
       "\n",
       "                                    spoken_languages    status  \\\n",
       "0  [{'iso_639_1': 'en', 'name': 'English'}, {'iso...  Released   \n",
       "1  [{'iso_639_1': 'en', 'name': 'English'}, {'iso...  Released   \n",
       "2  [{'iso_639_1': 'en', 'name': 'English'}, {'iso...  Released   \n",
       "3           [{'iso_639_1': 'en', 'name': 'English'}]  Released   \n",
       "4  [{'iso_639_1': 'en', 'name': 'English'}, {'iso...  Released   \n",
       "\n",
       "                                     tagline                         title  \\\n",
       "0            Part of the journey is the end.             Avengers: Endgame   \n",
       "1                Enter the World of Pandora.                        Avatar   \n",
       "2  Nothing on Earth could come between them.                       Titanic   \n",
       "3              Every generation has a story.  Star Wars: The Force Awakens   \n",
       "4      An entire universe. Once and for all.        Avengers: Infinity War   \n",
       "\n",
       "   video vote_average  vote_count  success status_code status_message  \n",
       "0  False          8.3     14644.0      NaN         nan            NaN  \n",
       "1  False          7.4     21864.0      NaN         nan            NaN  \n",
       "2  False          7.9     17528.0      NaN         nan            NaN  \n",
       "3  False          7.4     14818.0      NaN         nan            NaN  \n",
       "4  False          8.3     19358.0      NaN         nan            NaN  \n",
       "\n",
       "[5 rows x 28 columns]"
      ]
     },
     "execution_count": 542,
     "metadata": {},
     "output_type": "execute_result"
    }
   ],
   "source": [
    "tmdbdf=pd.DataFrame(tmdb_list)\n",
    "tmdbdf.head()"
   ]
  },
  {
   "cell_type": "markdown",
   "metadata": {},
   "source": [
    "Now though we have alot more columns for each movie but most of them we don't need so we are just gonna go ahead and drop those columns"
   ]
  },
  {
   "cell_type": "code",
   "execution_count": 543,
   "metadata": {},
   "outputs": [
    {
     "data": {
      "text/html": [
       "<div>\n",
       "<style scoped>\n",
       "    .dataframe tbody tr th:only-of-type {\n",
       "        vertical-align: middle;\n",
       "    }\n",
       "\n",
       "    .dataframe tbody tr th {\n",
       "        vertical-align: top;\n",
       "    }\n",
       "\n",
       "    .dataframe thead th {\n",
       "        text-align: right;\n",
       "    }\n",
       "</style>\n",
       "<table border=\"1\" class=\"dataframe\">\n",
       "  <thead>\n",
       "    <tr style=\"text-align: right;\">\n",
       "      <th></th>\n",
       "      <th>adult</th>\n",
       "      <th>belongs_to_collection</th>\n",
       "      <th>budget</th>\n",
       "      <th>genres</th>\n",
       "      <th>imdb_id</th>\n",
       "      <th>original_language</th>\n",
       "      <th>popularity</th>\n",
       "      <th>production_companies</th>\n",
       "      <th>production_countries</th>\n",
       "      <th>release_date</th>\n",
       "      <th>runtime</th>\n",
       "      <th>vote_average</th>\n",
       "      <th>vote_count</th>\n",
       "      <th>success</th>\n",
       "    </tr>\n",
       "  </thead>\n",
       "  <tbody>\n",
       "    <tr>\n",
       "      <th>0</th>\n",
       "      <td>False</td>\n",
       "      <td>{'id': 86311, 'name': 'The Avengers Collection...</td>\n",
       "      <td>356000000.0</td>\n",
       "      <td>[{'id': 12, 'name': 'Adventure'}, {'id': 878, ...</td>\n",
       "      <td>tt4154796</td>\n",
       "      <td>en</td>\n",
       "      <td>36.4</td>\n",
       "      <td>[{'id': 420, 'logo_path': '/hUzeosd33nzE5MCNsZ...</td>\n",
       "      <td>[{'iso_3166_1': 'US', 'name': 'United States o...</td>\n",
       "      <td>2019-04-24</td>\n",
       "      <td>181.0</td>\n",
       "      <td>8.3</td>\n",
       "      <td>14644.0</td>\n",
       "      <td>NaN</td>\n",
       "    </tr>\n",
       "    <tr>\n",
       "      <th>1</th>\n",
       "      <td>False</td>\n",
       "      <td>{'id': 87096, 'name': 'Avatar Collection', 'po...</td>\n",
       "      <td>237000000.0</td>\n",
       "      <td>[{'id': 28, 'name': 'Action'}, {'id': 12, 'nam...</td>\n",
       "      <td>tt0499549</td>\n",
       "      <td>en</td>\n",
       "      <td>35.1</td>\n",
       "      <td>[{'id': 444, 'logo_path': '/42UPdZl6B2cFXgNUAS...</td>\n",
       "      <td>[{'iso_3166_1': 'US', 'name': 'United States o...</td>\n",
       "      <td>2009-12-10</td>\n",
       "      <td>162.0</td>\n",
       "      <td>7.4</td>\n",
       "      <td>21864.0</td>\n",
       "      <td>NaN</td>\n",
       "    </tr>\n",
       "    <tr>\n",
       "      <th>2</th>\n",
       "      <td>False</td>\n",
       "      <td>None</td>\n",
       "      <td>200000000.0</td>\n",
       "      <td>[{'id': 18, 'name': 'Drama'}, {'id': 10749, 'n...</td>\n",
       "      <td>tt0120338</td>\n",
       "      <td>en</td>\n",
       "      <td>28.2</td>\n",
       "      <td>[{'id': 4, 'logo_path': '/fycMZt242LVjagMByZOL...</td>\n",
       "      <td>[{'iso_3166_1': 'US', 'name': 'United States o...</td>\n",
       "      <td>1997-11-18</td>\n",
       "      <td>194.0</td>\n",
       "      <td>7.9</td>\n",
       "      <td>17528.0</td>\n",
       "      <td>NaN</td>\n",
       "    </tr>\n",
       "    <tr>\n",
       "      <th>3</th>\n",
       "      <td>False</td>\n",
       "      <td>{'id': 10, 'name': 'Star Wars Collection', 'po...</td>\n",
       "      <td>245000000.0</td>\n",
       "      <td>[{'id': 28, 'name': 'Action'}, {'id': 12, 'nam...</td>\n",
       "      <td>tt2488496</td>\n",
       "      <td>en</td>\n",
       "      <td>29.2</td>\n",
       "      <td>[{'id': 1634, 'logo_path': None, 'name': 'True...</td>\n",
       "      <td>[{'iso_3166_1': 'US', 'name': 'United States o...</td>\n",
       "      <td>2015-12-15</td>\n",
       "      <td>136.0</td>\n",
       "      <td>7.4</td>\n",
       "      <td>14818.0</td>\n",
       "      <td>NaN</td>\n",
       "    </tr>\n",
       "    <tr>\n",
       "      <th>4</th>\n",
       "      <td>False</td>\n",
       "      <td>{'id': 86311, 'name': 'The Avengers Collection...</td>\n",
       "      <td>300000000.0</td>\n",
       "      <td>[{'id': 12, 'name': 'Adventure'}, {'id': 28, '...</td>\n",
       "      <td>tt4154756</td>\n",
       "      <td>en</td>\n",
       "      <td>77.3</td>\n",
       "      <td>[{'id': 420, 'logo_path': '/hUzeosd33nzE5MCNsZ...</td>\n",
       "      <td>[{'iso_3166_1': 'US', 'name': 'United States o...</td>\n",
       "      <td>2018-04-25</td>\n",
       "      <td>149.0</td>\n",
       "      <td>8.3</td>\n",
       "      <td>19358.0</td>\n",
       "      <td>NaN</td>\n",
       "    </tr>\n",
       "  </tbody>\n",
       "</table>\n",
       "</div>"
      ],
      "text/plain": [
       "   adult                              belongs_to_collection      budget  \\\n",
       "0  False  {'id': 86311, 'name': 'The Avengers Collection... 356000000.0   \n",
       "1  False  {'id': 87096, 'name': 'Avatar Collection', 'po... 237000000.0   \n",
       "2  False                                               None 200000000.0   \n",
       "3  False  {'id': 10, 'name': 'Star Wars Collection', 'po... 245000000.0   \n",
       "4  False  {'id': 86311, 'name': 'The Avengers Collection... 300000000.0   \n",
       "\n",
       "                                              genres    imdb_id  \\\n",
       "0  [{'id': 12, 'name': 'Adventure'}, {'id': 878, ...  tt4154796   \n",
       "1  [{'id': 28, 'name': 'Action'}, {'id': 12, 'nam...  tt0499549   \n",
       "2  [{'id': 18, 'name': 'Drama'}, {'id': 10749, 'n...  tt0120338   \n",
       "3  [{'id': 28, 'name': 'Action'}, {'id': 12, 'nam...  tt2488496   \n",
       "4  [{'id': 12, 'name': 'Adventure'}, {'id': 28, '...  tt4154756   \n",
       "\n",
       "  original_language  popularity  \\\n",
       "0                en        36.4   \n",
       "1                en        35.1   \n",
       "2                en        28.2   \n",
       "3                en        29.2   \n",
       "4                en        77.3   \n",
       "\n",
       "                                production_companies  \\\n",
       "0  [{'id': 420, 'logo_path': '/hUzeosd33nzE5MCNsZ...   \n",
       "1  [{'id': 444, 'logo_path': '/42UPdZl6B2cFXgNUAS...   \n",
       "2  [{'id': 4, 'logo_path': '/fycMZt242LVjagMByZOL...   \n",
       "3  [{'id': 1634, 'logo_path': None, 'name': 'True...   \n",
       "4  [{'id': 420, 'logo_path': '/hUzeosd33nzE5MCNsZ...   \n",
       "\n",
       "                                production_countries release_date  runtime  \\\n",
       "0  [{'iso_3166_1': 'US', 'name': 'United States o...   2019-04-24    181.0   \n",
       "1  [{'iso_3166_1': 'US', 'name': 'United States o...   2009-12-10    162.0   \n",
       "2  [{'iso_3166_1': 'US', 'name': 'United States o...   1997-11-18    194.0   \n",
       "3  [{'iso_3166_1': 'US', 'name': 'United States o...   2015-12-15    136.0   \n",
       "4  [{'iso_3166_1': 'US', 'name': 'United States o...   2018-04-25    149.0   \n",
       "\n",
       "   vote_average  vote_count success  \n",
       "0           8.3     14644.0     NaN  \n",
       "1           7.4     21864.0     NaN  \n",
       "2           7.9     17528.0     NaN  \n",
       "3           7.4     14818.0     NaN  \n",
       "4           8.3     19358.0     NaN  "
      ]
     },
     "execution_count": 543,
     "metadata": {},
     "output_type": "execute_result"
    }
   ],
   "source": [
    "tmbddf = tmdbdf.drop(['backdrop_path', 'homepage', \n",
    "                             'id', 'original_title', 'overview', \n",
    "                             'poster_path', 'revenue', 'status',\n",
    "                             'spoken_languages', 'tagline','title',\n",
    "                             'status_code',\n",
    "                             'status_message', 'video'], axis = 1)#axis specifies column\n",
    "tmbddf.head()"
   ]
  },
  {
   "cell_type": "markdown",
   "metadata": {},
   "source": [
    "We are gonna want to clean our data because alot of it is unusable in this state and also we want one big data frame not two smaller ones especially since they have data for the same movies."
   ]
  },
  {
   "cell_type": "code",
   "execution_count": 544,
   "metadata": {},
   "outputs": [],
   "source": [
    "tmdbdf.dropna(axis=0, how=\"all\", inplace=True)#Drop anything that is null\n",
    "merged_df = completed_df.merge(tmdbdf, on='imdb_id', how='outer')#add the columns of the rows that have the same id\n",
    "merged_df = merged_df[0:1000]#get rid of some extra rows.\n"
   ]
  },
  {
   "cell_type": "markdown",
   "metadata": {},
   "source": [
    "Ok our data is more or less ready. We dont want to have to keep rerunning this so we should just save it locally so that we can work on it from another file if we want."
   ]
  },
  {
   "cell_type": "code",
   "execution_count": 545,
   "metadata": {},
   "outputs": [],
   "source": [
    "merged_df.to_csv('Data/better-data.csv')\n"
   ]
  },
  {
   "cell_type": "markdown",
   "metadata": {},
   "source": [
    "# videogame data cleaning portion"
   ]
  },
  {
   "cell_type": "code",
   "execution_count": 546,
   "metadata": {},
   "outputs": [
    {
     "data": {
      "text/plain": [
       "(16598, 11)"
      ]
     },
     "execution_count": 546,
     "metadata": {},
     "output_type": "execute_result"
    }
   ],
   "source": [
    "#bring in the data and show the first few coloums to make sure that nothing is broken\n",
    "vgdf = pd.read_csv('vgsales.csv')\n",
    "vgdf.shape"
   ]
  },
  {
   "cell_type": "code",
   "execution_count": 547,
   "metadata": {},
   "outputs": [
    {
     "data": {
      "text/plain": [
       "True"
      ]
     },
     "execution_count": 547,
     "metadata": {},
     "output_type": "execute_result"
    }
   ],
   "source": [
    "#function to check if a game is a microsoft owned game\n",
    "def ismicrosoft(PublisherName):\n",
    "    microsoftaliases =['Xbox Game Studios','Microsoft Game Studios','Microsoft Studios','Microsoft']\n",
    "    Pubname = PublisherName.replace(' ','').upper()\n",
    "    aliases = [x.replace(' ','').upper() for x in microsoftaliases]\n",
    "    for name in aliases:\n",
    "        if name == Pubname:\n",
    "            return True\n",
    "    return False\n",
    "   \n",
    "ismicrosoft('Xbox Game Studios')    "
   ]
  },
  {
   "cell_type": "code",
   "execution_count": 548,
   "metadata": {},
   "outputs": [
    {
     "data": {
      "text/plain": [
       "Rank              0\n",
       "Name              0\n",
       "Platform          0\n",
       "Year            271\n",
       "Genre             0\n",
       "Publisher        58\n",
       "NA_Sales          0\n",
       "EU_Sales          0\n",
       "JP_Sales          0\n",
       "Other_Sales       0\n",
       "Global_Sales      0\n",
       "dtype: int64"
      ]
     },
     "execution_count": 548,
     "metadata": {},
     "output_type": "execute_result"
    }
   ],
   "source": [
    "vgdf.isnull().sum()#take a look at our at potential missing values\n"
   ]
  },
  {
   "cell_type": "code",
   "execution_count": 549,
   "metadata": {},
   "outputs": [
    {
     "name": "stdout",
     "output_type": "stream",
     "text": [
      "(16291, 11) Rank            0\n",
      "Name            0\n",
      "Platform        0\n",
      "Year            0\n",
      "Genre           0\n",
      "Publisher       0\n",
      "NA_Sales        0\n",
      "EU_Sales        0\n",
      "JP_Sales        0\n",
      "Other_Sales     0\n",
      "Global_Sales    0\n",
      "dtype: int64\n"
     ]
    }
   ],
   "source": [
    "vgdf = vgdf.dropna()\n",
    "print(vgdf.shape,vgdf.isnull().sum())#get rid of them and make sure they are gone"
   ]
  },
  {
   "cell_type": "code",
   "execution_count": 550,
   "metadata": {},
   "outputs": [
    {
     "data": {
      "text/html": [
       "<div>\n",
       "<style scoped>\n",
       "    .dataframe tbody tr th:only-of-type {\n",
       "        vertical-align: middle;\n",
       "    }\n",
       "\n",
       "    .dataframe tbody tr th {\n",
       "        vertical-align: top;\n",
       "    }\n",
       "\n",
       "    .dataframe thead th {\n",
       "        text-align: right;\n",
       "    }\n",
       "</style>\n",
       "<table border=\"1\" class=\"dataframe\">\n",
       "  <thead>\n",
       "    <tr style=\"text-align: right;\">\n",
       "      <th></th>\n",
       "      <th>Rank</th>\n",
       "      <th>Name</th>\n",
       "      <th>Platform</th>\n",
       "      <th>Year</th>\n",
       "      <th>Genre</th>\n",
       "      <th>Publisher</th>\n",
       "      <th>NA_Sales</th>\n",
       "      <th>EU_Sales</th>\n",
       "      <th>JP_Sales</th>\n",
       "      <th>Other_Sales</th>\n",
       "      <th>Global_Sales</th>\n",
       "    </tr>\n",
       "  </thead>\n",
       "  <tbody>\n",
       "    <tr>\n",
       "      <th>0</th>\n",
       "      <td>1</td>\n",
       "      <td>Wii Sports</td>\n",
       "      <td>Wii</td>\n",
       "      <td>2006.0</td>\n",
       "      <td>Sports</td>\n",
       "      <td>Nintendo</td>\n",
       "      <td>41.5</td>\n",
       "      <td>29.0</td>\n",
       "      <td>3.8</td>\n",
       "      <td>8.5</td>\n",
       "      <td>82.7</td>\n",
       "    </tr>\n",
       "    <tr>\n",
       "      <th>1</th>\n",
       "      <td>2</td>\n",
       "      <td>Super Mario Bros.</td>\n",
       "      <td>NES</td>\n",
       "      <td>1985.0</td>\n",
       "      <td>Platform</td>\n",
       "      <td>Nintendo</td>\n",
       "      <td>29.1</td>\n",
       "      <td>3.6</td>\n",
       "      <td>6.8</td>\n",
       "      <td>0.8</td>\n",
       "      <td>40.2</td>\n",
       "    </tr>\n",
       "    <tr>\n",
       "      <th>2</th>\n",
       "      <td>3</td>\n",
       "      <td>Mario Kart Wii</td>\n",
       "      <td>Wii</td>\n",
       "      <td>2008.0</td>\n",
       "      <td>Racing</td>\n",
       "      <td>Nintendo</td>\n",
       "      <td>15.8</td>\n",
       "      <td>12.9</td>\n",
       "      <td>3.8</td>\n",
       "      <td>3.3</td>\n",
       "      <td>35.8</td>\n",
       "    </tr>\n",
       "    <tr>\n",
       "      <th>3</th>\n",
       "      <td>4</td>\n",
       "      <td>Wii Sports Resort</td>\n",
       "      <td>Wii</td>\n",
       "      <td>2009.0</td>\n",
       "      <td>Sports</td>\n",
       "      <td>Nintendo</td>\n",
       "      <td>15.8</td>\n",
       "      <td>11.0</td>\n",
       "      <td>3.3</td>\n",
       "      <td>3.0</td>\n",
       "      <td>33.0</td>\n",
       "    </tr>\n",
       "    <tr>\n",
       "      <th>4</th>\n",
       "      <td>5</td>\n",
       "      <td>Pokemon Red/Pokemon Blue</td>\n",
       "      <td>GB</td>\n",
       "      <td>1996.0</td>\n",
       "      <td>Role-Playing</td>\n",
       "      <td>Nintendo</td>\n",
       "      <td>11.3</td>\n",
       "      <td>8.9</td>\n",
       "      <td>10.2</td>\n",
       "      <td>1.0</td>\n",
       "      <td>31.4</td>\n",
       "    </tr>\n",
       "    <tr>\n",
       "      <th>...</th>\n",
       "      <td>...</td>\n",
       "      <td>...</td>\n",
       "      <td>...</td>\n",
       "      <td>...</td>\n",
       "      <td>...</td>\n",
       "      <td>...</td>\n",
       "      <td>...</td>\n",
       "      <td>...</td>\n",
       "      <td>...</td>\n",
       "      <td>...</td>\n",
       "      <td>...</td>\n",
       "    </tr>\n",
       "    <tr>\n",
       "      <th>16593</th>\n",
       "      <td>16596</td>\n",
       "      <td>Woody Woodpecker in Crazy Castle 5</td>\n",
       "      <td>GBA</td>\n",
       "      <td>2002.0</td>\n",
       "      <td>Platform</td>\n",
       "      <td>Kemco</td>\n",
       "      <td>0.0</td>\n",
       "      <td>0.0</td>\n",
       "      <td>0.0</td>\n",
       "      <td>0.0</td>\n",
       "      <td>0.0</td>\n",
       "    </tr>\n",
       "    <tr>\n",
       "      <th>16594</th>\n",
       "      <td>16597</td>\n",
       "      <td>Men in Black II: Alien Escape</td>\n",
       "      <td>GC</td>\n",
       "      <td>2003.0</td>\n",
       "      <td>Shooter</td>\n",
       "      <td>Infogrames</td>\n",
       "      <td>0.0</td>\n",
       "      <td>0.0</td>\n",
       "      <td>0.0</td>\n",
       "      <td>0.0</td>\n",
       "      <td>0.0</td>\n",
       "    </tr>\n",
       "    <tr>\n",
       "      <th>16595</th>\n",
       "      <td>16598</td>\n",
       "      <td>SCORE International Baja 1000: The Official Game</td>\n",
       "      <td>PS2</td>\n",
       "      <td>2008.0</td>\n",
       "      <td>Racing</td>\n",
       "      <td>Activision</td>\n",
       "      <td>0.0</td>\n",
       "      <td>0.0</td>\n",
       "      <td>0.0</td>\n",
       "      <td>0.0</td>\n",
       "      <td>0.0</td>\n",
       "    </tr>\n",
       "    <tr>\n",
       "      <th>16596</th>\n",
       "      <td>16599</td>\n",
       "      <td>Know How 2</td>\n",
       "      <td>DS</td>\n",
       "      <td>2010.0</td>\n",
       "      <td>Puzzle</td>\n",
       "      <td>7G//AMES</td>\n",
       "      <td>0.0</td>\n",
       "      <td>0.0</td>\n",
       "      <td>0.0</td>\n",
       "      <td>0.0</td>\n",
       "      <td>0.0</td>\n",
       "    </tr>\n",
       "    <tr>\n",
       "      <th>16597</th>\n",
       "      <td>16600</td>\n",
       "      <td>Spirits &amp; Spells</td>\n",
       "      <td>GBA</td>\n",
       "      <td>2003.0</td>\n",
       "      <td>Platform</td>\n",
       "      <td>Wanadoo</td>\n",
       "      <td>0.0</td>\n",
       "      <td>0.0</td>\n",
       "      <td>0.0</td>\n",
       "      <td>0.0</td>\n",
       "      <td>0.0</td>\n",
       "    </tr>\n",
       "  </tbody>\n",
       "</table>\n",
       "<p>16291 rows × 11 columns</p>\n",
       "</div>"
      ],
      "text/plain": [
       "        Rank                                              Name Platform  \\\n",
       "0          1                                        Wii Sports      Wii   \n",
       "1          2                                 Super Mario Bros.      NES   \n",
       "2          3                                    Mario Kart Wii      Wii   \n",
       "3          4                                 Wii Sports Resort      Wii   \n",
       "4          5                          Pokemon Red/Pokemon Blue       GB   \n",
       "...      ...                                               ...      ...   \n",
       "16593  16596                Woody Woodpecker in Crazy Castle 5      GBA   \n",
       "16594  16597                     Men in Black II: Alien Escape       GC   \n",
       "16595  16598  SCORE International Baja 1000: The Official Game      PS2   \n",
       "16596  16599                                        Know How 2       DS   \n",
       "16597  16600                                  Spirits & Spells      GBA   \n",
       "\n",
       "        Year         Genre   Publisher  NA_Sales  EU_Sales  JP_Sales  \\\n",
       "0     2006.0        Sports    Nintendo      41.5      29.0       3.8   \n",
       "1     1985.0      Platform    Nintendo      29.1       3.6       6.8   \n",
       "2     2008.0        Racing    Nintendo      15.8      12.9       3.8   \n",
       "3     2009.0        Sports    Nintendo      15.8      11.0       3.3   \n",
       "4     1996.0  Role-Playing    Nintendo      11.3       8.9      10.2   \n",
       "...      ...           ...         ...       ...       ...       ...   \n",
       "16593 2002.0      Platform       Kemco       0.0       0.0       0.0   \n",
       "16594 2003.0       Shooter  Infogrames       0.0       0.0       0.0   \n",
       "16595 2008.0        Racing  Activision       0.0       0.0       0.0   \n",
       "16596 2010.0        Puzzle    7G//AMES       0.0       0.0       0.0   \n",
       "16597 2003.0      Platform     Wanadoo       0.0       0.0       0.0   \n",
       "\n",
       "       Other_Sales  Global_Sales  \n",
       "0              8.5          82.7  \n",
       "1              0.8          40.2  \n",
       "2              3.3          35.8  \n",
       "3              3.0          33.0  \n",
       "4              1.0          31.4  \n",
       "...            ...           ...  \n",
       "16593          0.0           0.0  \n",
       "16594          0.0           0.0  \n",
       "16595          0.0           0.0  \n",
       "16596          0.0           0.0  \n",
       "16597          0.0           0.0  \n",
       "\n",
       "[16291 rows x 11 columns]"
      ]
     },
     "execution_count": 550,
     "metadata": {},
     "output_type": "execute_result"
    }
   ],
   "source": [
    "vgdf.Genre.value_counts()\n",
    "vgdfg = vgdf\n",
    "vgdfg#So I made a specific dataframe were the values are repeated for every genre they have. since values are repeated\n",
    "#Im only gonna use this for genre related things"
   ]
  },
  {
   "cell_type": "code",
   "execution_count": 551,
   "metadata": {},
   "outputs": [
    {
     "data": {
      "text/plain": [
       "['Documentary', 'Action', 'History']"
      ]
     },
     "execution_count": 551,
     "metadata": {},
     "output_type": "execute_result"
    }
   ],
   "source": [
    "translations = {'Action':['Action','Science Fiction','Horror','Thriller'],'Sports':['Documentary','Action','History']\n",
    "                ,'Misc':['Family','Animation']\n",
    "                ,'Role-Playing':['Action','Adventure','Fantasy','Science Fiction']\n",
    "                ,'Shooter':['Action','Adventure','War','Science Fiction','Thriller','Horror']\n",
    "                ,'Adventure':['Action','Adventure','Science Fiction','Fantasy'],'Racing':['Thriller','Action','Family','Crime']\n",
    "                ,'Platform':['Family','Animation','Music'],'Simulation':['History','Science Fiction']\n",
    "                ,'Fighting':['Action','Family'],'Strategy':['Mystery','Action','Crime']\n",
    "                ,'Puzzle':['Mystery','Horror']}#We have to convert the game genres to the movie genres which is unfortunate\n",
    "#because the movies have about 3-5 where as the games have 1 each and most of them would actually be multiple. This \n",
    "#probably isnt the best solution but Im going to use the dictionary above and replace specific game genres with a list\n",
    "#im then just gonna repeat the row for every row. This is def not a good way to do this but I noticed this problem too late.\n",
    "def translate(genre):\n",
    "    x = translations[genre]\n",
    "    return x\n",
    "    #['Action', 'Adventure', 'Animation', 'Comedy', 'Crime', 'Documentary',\n",
    "    #   'Drama', 'Family', 'Fantasy', 'History', 'Horror', 'Music', 'Mystery',\n",
    "    #   'Romance', 'Science Fiction', 'Thriller', 'War', 'Western']\n",
    "translate('Sports')    \n",
    "    "
   ]
  },
  {
   "cell_type": "code",
   "execution_count": 552,
   "metadata": {
    "scrolled": true
   },
   "outputs": [],
   "source": [
    "vgdf['Microsoft'] = vgdf['Publisher'].map(lambda x: 'Microsoft' if ismicrosoft(x) else 'useless')\n",
    "#add a Column that lets us know if a game is owned by microsoft which uses the function we made earlier to compare\n",
    "#a value to the know microsoft names\n",
    "\n",
    "\n"
   ]
  },
  {
   "cell_type": "code",
   "execution_count": 553,
   "metadata": {},
   "outputs": [
    {
     "name": "stdout",
     "output_type": "stream",
     "text": [
      "Sports\n",
      "16291\n"
     ]
    },
    {
     "data": {
      "text/html": [
       "<div>\n",
       "<style scoped>\n",
       "    .dataframe tbody tr th:only-of-type {\n",
       "        vertical-align: middle;\n",
       "    }\n",
       "\n",
       "    .dataframe tbody tr th {\n",
       "        vertical-align: top;\n",
       "    }\n",
       "\n",
       "    .dataframe thead th {\n",
       "        text-align: right;\n",
       "    }\n",
       "</style>\n",
       "<table border=\"1\" class=\"dataframe\">\n",
       "  <thead>\n",
       "    <tr style=\"text-align: right;\">\n",
       "      <th></th>\n",
       "      <th>Name</th>\n",
       "      <th>Platform</th>\n",
       "      <th>Year</th>\n",
       "      <th>Genre</th>\n",
       "      <th>Publisher</th>\n",
       "      <th>NA_Sales</th>\n",
       "      <th>EU_Sales</th>\n",
       "      <th>JP_Sales</th>\n",
       "      <th>Other_Sales</th>\n",
       "      <th>Global_Sales</th>\n",
       "      <th>Microsoft</th>\n",
       "    </tr>\n",
       "  </thead>\n",
       "  <tbody>\n",
       "    <tr>\n",
       "      <th>49</th>\n",
       "      <td>Kinect Adventures!</td>\n",
       "      <td>X360</td>\n",
       "      <td>2010.0</td>\n",
       "      <td>Family</td>\n",
       "      <td>Microsoft Game Studios</td>\n",
       "      <td>15.0</td>\n",
       "      <td>4.9</td>\n",
       "      <td>0.2</td>\n",
       "      <td>1.7</td>\n",
       "      <td>21.8</td>\n",
       "      <td>Microsoft</td>\n",
       "    </tr>\n",
       "    <tr>\n",
       "      <th>50</th>\n",
       "      <td>Kinect Adventures!</td>\n",
       "      <td>X360</td>\n",
       "      <td>2010.0</td>\n",
       "      <td>Animation</td>\n",
       "      <td>Microsoft Game Studios</td>\n",
       "      <td>15.0</td>\n",
       "      <td>4.9</td>\n",
       "      <td>0.2</td>\n",
       "      <td>1.7</td>\n",
       "      <td>21.8</td>\n",
       "      <td>Microsoft</td>\n",
       "    </tr>\n",
       "    <tr>\n",
       "      <th>164</th>\n",
       "      <td>Halo 3</td>\n",
       "      <td>X360</td>\n",
       "      <td>2007.0</td>\n",
       "      <td>Action</td>\n",
       "      <td>Microsoft Game Studios</td>\n",
       "      <td>8.0</td>\n",
       "      <td>2.8</td>\n",
       "      <td>0.1</td>\n",
       "      <td>1.2</td>\n",
       "      <td>12.1</td>\n",
       "      <td>Microsoft</td>\n",
       "    </tr>\n",
       "    <tr>\n",
       "      <th>165</th>\n",
       "      <td>Halo 3</td>\n",
       "      <td>X360</td>\n",
       "      <td>2007.0</td>\n",
       "      <td>Adventure</td>\n",
       "      <td>Microsoft Game Studios</td>\n",
       "      <td>8.0</td>\n",
       "      <td>2.8</td>\n",
       "      <td>0.1</td>\n",
       "      <td>1.2</td>\n",
       "      <td>12.1</td>\n",
       "      <td>Microsoft</td>\n",
       "    </tr>\n",
       "    <tr>\n",
       "      <th>166</th>\n",
       "      <td>Halo 3</td>\n",
       "      <td>X360</td>\n",
       "      <td>2007.0</td>\n",
       "      <td>War</td>\n",
       "      <td>Microsoft Game Studios</td>\n",
       "      <td>8.0</td>\n",
       "      <td>2.8</td>\n",
       "      <td>0.1</td>\n",
       "      <td>1.2</td>\n",
       "      <td>12.1</td>\n",
       "      <td>Microsoft</td>\n",
       "    </tr>\n",
       "  </tbody>\n",
       "</table>\n",
       "</div>"
      ],
      "text/plain": [
       "                   Name Platform   Year      Genre               Publisher  \\\n",
       "49   Kinect Adventures!     X360 2010.0     Family  Microsoft Game Studios   \n",
       "50   Kinect Adventures!     X360 2010.0  Animation  Microsoft Game Studios   \n",
       "164              Halo 3     X360 2007.0     Action  Microsoft Game Studios   \n",
       "165              Halo 3     X360 2007.0  Adventure  Microsoft Game Studios   \n",
       "166              Halo 3     X360 2007.0        War  Microsoft Game Studios   \n",
       "\n",
       "     NA_Sales  EU_Sales  JP_Sales  Other_Sales  Global_Sales  Microsoft  \n",
       "49       15.0       4.9       0.2          1.7          21.8  Microsoft  \n",
       "50       15.0       4.9       0.2          1.7          21.8  Microsoft  \n",
       "164       8.0       2.8       0.1          1.2          12.1  Microsoft  \n",
       "165       8.0       2.8       0.1          1.2          12.1  Microsoft  \n",
       "166       8.0       2.8       0.1          1.2          12.1  Microsoft  "
      ]
     },
     "execution_count": 553,
     "metadata": {},
     "output_type": "execute_result"
    }
   ],
   "source": [
    "vgcols = [x for x in vgdf]#this will look at the list of genres in a row and add as many rows as it takes for each\n",
    "#to have one genre\n",
    "vggenredata = list(vgdf.values)\n",
    "print(vggenredata[0][4])\n",
    "print(len(vggenredata))\n",
    "g = []\n",
    "length = len(vggenredata)\n",
    "for i in range(0,length):\n",
    "    templist = translate(vggenredata[i][4])\n",
    "    for j in templist:\n",
    "        a = vggenredata[i]\n",
    "        z = '{}'.format(j)\n",
    "        a = list(a)\n",
    "        a[4]=z\n",
    "        g.append(a[1:])\n",
    "   \n",
    "vgdfg = pd.DataFrame(g,columns = vgcols[1:])\n",
    "vgdfg = vgdfg[vgdfg['Microsoft']!='useless']\n",
    "vgdfg.head()\n"
   ]
  },
  {
   "cell_type": "code",
   "execution_count": null,
   "metadata": {},
   "outputs": [],
   "source": []
  },
  {
   "cell_type": "code",
   "execution_count": 557,
   "metadata": {},
   "outputs": [
    {
     "data": {
      "text/plain": [
       "<matplotlib.axes._subplots.AxesSubplot at 0x7f801c033f10>"
      ]
     },
     "execution_count": 557,
     "metadata": {},
     "output_type": "execute_result"
    },
    {
     "data": {
      "image/png": "[encoded data removed]",
      "text/plain": [
       "<Figure size 432x288 with 1 Axes>"
      ]
     },
     "metadata": {
      "needs_background": "light"
     },
     "output_type": "display_data"
    }
   ],
   "source": [
    "#I was kinda just messing around for some of these graphs to learn they arent all usefull\n",
    "#hist of microsoft ips\n",
    "MSIP = vgdf[vgdf['Microsoft'] != 'useless']\n",
    "MSIP['Genre'].hist(xrot = 70)"
   ]
  },
  {
   "cell_type": "code",
   "execution_count": 556,
   "metadata": {},
   "outputs": [
    {
     "data": {
      "text/html": [
       "<div>\n",
       "<style scoped>\n",
       "    .dataframe tbody tr th:only-of-type {\n",
       "        vertical-align: middle;\n",
       "    }\n",
       "\n",
       "    .dataframe tbody tr th {\n",
       "        vertical-align: top;\n",
       "    }\n",
       "\n",
       "    .dataframe thead th {\n",
       "        text-align: right;\n",
       "    }\n",
       "</style>\n",
       "<table border=\"1\" class=\"dataframe\">\n",
       "  <thead>\n",
       "    <tr style=\"text-align: right;\">\n",
       "      <th></th>\n",
       "      <th>Rank</th>\n",
       "      <th>Name</th>\n",
       "      <th>Platform</th>\n",
       "      <th>Year</th>\n",
       "      <th>Genre</th>\n",
       "      <th>Publisher</th>\n",
       "      <th>NA_Sales</th>\n",
       "      <th>EU_Sales</th>\n",
       "      <th>JP_Sales</th>\n",
       "      <th>Other_Sales</th>\n",
       "      <th>Global_Sales</th>\n",
       "      <th>Microsoft</th>\n",
       "    </tr>\n",
       "  </thead>\n",
       "  <tbody>\n",
       "    <tr>\n",
       "      <th>43</th>\n",
       "      <td>44</td>\n",
       "      <td>Halo 3</td>\n",
       "      <td>X360</td>\n",
       "      <td>2007.0</td>\n",
       "      <td>Shooter</td>\n",
       "      <td>Microsoft Game Studios</td>\n",
       "      <td>8.0</td>\n",
       "      <td>2.8</td>\n",
       "      <td>0.1</td>\n",
       "      <td>1.2</td>\n",
       "      <td>12.1</td>\n",
       "      <td>Microsoft</td>\n",
       "    </tr>\n",
       "  </tbody>\n",
       "</table>\n",
       "</div>"
      ],
      "text/plain": [
       "    Rank    Name Platform   Year    Genre               Publisher  NA_Sales  \\\n",
       "43    44  Halo 3     X360 2007.0  Shooter  Microsoft Game Studios       8.0   \n",
       "\n",
       "    EU_Sales  JP_Sales  Other_Sales  Global_Sales  Microsoft  \n",
       "43       2.8       0.1          1.2          12.1  Microsoft  "
      ]
     },
     "execution_count": 556,
     "metadata": {},
     "output_type": "execute_result"
    }
   ],
   "source": [
    "MSIP[MSIP['Name']=='Halo 3']\n",
    "#making sure halo has the right info because its their biggest title"
   ]
  },
  {
   "cell_type": "code",
   "execution_count": 408,
   "metadata": {},
   "outputs": [
    {
     "data": {
      "text/plain": [
       "<matplotlib.axes._subplots.AxesSubplot at 0x7f801f1741f0>"
      ]
     },
     "execution_count": 408,
     "metadata": {},
     "output_type": "execute_result"
    },
    {
     "data": {
      "image/png": "[encoded data removed]",
      "text/plain": [
       "<Figure size 432x288 with 1 Axes>"
      ]
     },
     "metadata": {
      "needs_background": "light"
     },
     "output_type": "display_data"
    }
   ],
   "source": [
    "vgdfg.groupby('Genre').sum().plot.bar(y ='Global_Sales')\n",
    "#Trying to see which genre they have more experience selling in"
   ]
  },
  {
   "cell_type": "code",
   "execution_count": 409,
   "metadata": {},
   "outputs": [
    {
     "data": {
      "text/plain": [
       "<matplotlib.axes._subplots.AxesSubplot at 0x7f801b823a00>"
      ]
     },
     "execution_count": 409,
     "metadata": {},
     "output_type": "execute_result"
    },
    {
     "data": {
      "image/png": "[encoded data removed]",
      "text/plain": [
       "<Figure size 432x288 with 1 Axes>"
      ]
     },
     "metadata": {
      "needs_background": "light"
     },
     "output_type": "display_data"
    }
   ],
   "source": [
    "vgdfg.groupby('Genre').Global_Sales.mean().plot.barh()\n",
    "#same chart just horizontal and showing avgs now"
   ]
  },
  {
   "cell_type": "code",
   "execution_count": 410,
   "metadata": {},
   "outputs": [
    {
     "data": {
      "text/plain": [
       "<matplotlib.axes._subplots.AxesSubplot at 0x7f8045786ac0>"
      ]
     },
     "execution_count": 410,
     "metadata": {},
     "output_type": "execute_result"
    },
    {
     "data": {
      "image/png": "[encoded data removed]",
      "text/plain": [
       "<Figure size 432x288 with 1 Axes>"
      ]
     },
     "metadata": {
      "needs_background": "light"
     },
     "output_type": "display_data"
    }
   ],
   "source": [
    "vgdfg.groupby('Genre').Global_Sales.median().plot.barh()\n",
    "#see if the median vastly changes anything"
   ]
  },
  {
   "cell_type": "markdown",
   "metadata": {},
   "source": [
    "Next going to try and translate the game genres to movie genres and clean the movie genres column so that it makes sense"
   ]
  },
  {
   "cell_type": "code",
   "execution_count": null,
   "metadata": {},
   "outputs": [],
   "source": []
  },
  {
   "cell_type": "code",
   "execution_count": null,
   "metadata": {},
   "outputs": [],
   "source": []
  },
  {
   "cell_type": "code",
   "execution_count": null,
   "metadata": {},
   "outputs": [],
   "source": [
    "\n",
    "        \n",
    "                                                \n",
    "                                                \n",
    "                                                "
   ]
  },
  {
   "cell_type": "code",
   "execution_count": 411,
   "metadata": {},
   "outputs": [
    {
     "data": {
      "text/plain": [
       "0                   [Adventure, Science Fiction, Action]\n",
       "1          [Action, Adventure, Fantasy, Science Fiction]\n",
       "2                                       [Drama, Romance]\n",
       "3          [Action, Adventure, Science Fiction, Fantasy]\n",
       "4                   [Adventure, Action, Science Fiction]\n",
       "                             ...                        \n",
       "995                                   [Action, Thriller]\n",
       "996                                     [Family, Comedy]\n",
       "997                                      [Drama, Comedy]\n",
       "998    [War, History, Action, Adventure, Drama, Romance]\n",
       "999                                     [Drama, Romance]\n",
       "Name: genres, Length: 996, dtype: object"
      ]
     },
     "execution_count": 411,
     "metadata": {},
     "output_type": "execute_result"
    }
   ],
   "source": [
    "xyz = merged_df[(merged_df['genres'] != float)]\n",
    "xyz = xyz.drop(113,axis = 0)\n",
    "xyz = xyz.drop(254,axis = 0)#nan values\n",
    "xyz = xyz.drop(287,axis = 0)\n",
    "xyz = xyz.drop(630,axis = 0)\n",
    "xyz\n",
    "xyz['genres'] = xyz['genres'].apply(lambda x: [y['name'] for y in x])\n",
    "xyz['genres']\n",
    "#this is going back to what I did for the genre data tables just for the multiple genres in movies instead of games now"
   ]
  },
  {
   "cell_type": "code",
   "execution_count": null,
   "metadata": {},
   "outputs": [],
   "source": []
  },
  {
   "cell_type": "code",
   "execution_count": 415,
   "metadata": {},
   "outputs": [],
   "source": [
    "genredata = list(xyz.values)#"
   ]
  },
  {
   "cell_type": "code",
   "execution_count": 416,
   "metadata": {},
   "outputs": [],
   "source": [
    "imtiredanddontknowwhatimdoing = []#Me realizing im using pandas wrong\n",
    "length = len(genredata)\n",
    "for i in range(0,length):\n",
    "    templist = genredata[i][13]\n",
    "    for j in templist:\n",
    "        a = genredata[i]\n",
    "        a[13] = j\n",
    "        imtiredanddontknowwhatimdoing.append(a)\n",
    "#Pretty much the same thing as the block of code used in vgdfg\n",
    "        "
   ]
  },
  {
   "cell_type": "code",
   "execution_count": null,
   "metadata": {},
   "outputs": [],
   "source": []
  },
  {
   "cell_type": "code",
   "execution_count": 417,
   "metadata": {},
   "outputs": [
    {
     "data": {
      "text/plain": [
       "0       2797800564\n",
       "1       2797800564\n",
       "2       2797800564\n",
       "3       2790439000\n",
       "4       2790439000\n",
       "           ...    \n",
       "2988     167298192\n",
       "2989     167298192\n",
       "2990     167298192\n",
       "2991     166842739\n",
       "2992     166842739\n",
       "Name: Worldwide_Lifetime_Gross, Length: 2993, dtype: int64"
      ]
     },
     "execution_count": 417,
     "metadata": {},
     "output_type": "execute_result"
    }
   ],
   "source": [
    "genredata = pd.DataFrame(data = imtiredanddontknowwhatimdoing, columns = ['Rank', 'Title', 'Worldwide_Lifetime_Gross', 'Domestic_Lifetime_Gross', 'Domestic_Percentage', 'Foreign_Lifetime_Gross', 'Foreign_Lifetime_Percentage', 'Year', 'imdb_id', 'adult', 'backdrop_path', 'belongs_to_collection', 'budget', 'genres', 'homepage', 'id', 'original_language', 'original_title', 'overview', 'popularity', 'poster_path', 'production_companies', 'production_countries', 'release_date', 'revenue', 'runtime', 'spoken_languages', 'status', 'tagline', 'title', 'video', 'vote_average', 'vote_count', 'success', 'status_code', 'status_message'])\n",
    "genredata['Worldwide_Lifetime_Gross'] = genredata['Worldwide_Lifetime_Gross'].apply(lambda x: int(x.replace('$','').replace(',',(''))))\n",
    "genredata['Domestic_Lifetime_Gross'] = genredata['Domestic_Lifetime_Gross'].apply(lambda x: int(x.replace('$','').replace(',',(''))))\n",
    "genredata['Foreign_Lifetime_Gross'] = genredata['Foreign_Lifetime_Gross'].apply(lambda x: int(x.replace('$','').replace(',',(''))))\n",
    "genredata['Worldwide_Lifetime_Gross']#make a df from the list of lists we just made\n",
    "#format some of the values properly\n"
   ]
  },
  {
   "cell_type": "code",
   "execution_count": 418,
   "metadata": {},
   "outputs": [
    {
     "data": {
      "text/plain": [
       "<matplotlib.axes._subplots.AxesSubplot at 0x7f8026104d00>"
      ]
     },
     "execution_count": 418,
     "metadata": {},
     "output_type": "execute_result"
    },
    {
     "data": {
      "image/png": "[encoded data removed]",
      "text/plain": [
       "<Figure size 432x288 with 1 Axes>"
      ]
     },
     "metadata": {
      "needs_background": "light"
     },
     "output_type": "display_data"
    }
   ],
   "source": [
    "ybc = genredata[['genres','Worldwide_Lifetime_Gross','Domestic_Lifetime_Gross','Foreign_Lifetime_Gross']].groupby('genres').mean()\n",
    "ybc.plot.bar()#for each of the movies in each genre get the avg value for these 3 columns and make a bar graph"
   ]
  },
  {
   "cell_type": "code",
   "execution_count": 419,
   "metadata": {},
   "outputs": [
    {
     "data": {
      "text/plain": [
       "<matplotlib.axes._subplots.AxesSubplot at 0x7f8026104970>"
      ]
     },
     "execution_count": 419,
     "metadata": {},
     "output_type": "execute_result"
    },
    {
     "data": {
      "image/png": "[encoded data removed]",
      "text/plain": [
       "<Figure size 432x288 with 1 Axes>"
      ]
     },
     "metadata": {
      "needs_background": "light"
     },
     "output_type": "display_data"
    }
   ],
   "source": [
    "ybc = genredata[['genres','Worldwide_Lifetime_Gross','Domestic_Lifetime_Gross','Foreign_Lifetime_Gross']].groupby('genres').median()\n",
    "ybc.plot.bar() #same thing but middle values instead of avg"
   ]
  },
  {
   "cell_type": "code",
   "execution_count": 420,
   "metadata": {},
   "outputs": [
    {
     "data": {
      "text/plain": [
       "<matplotlib.axes._subplots.AxesSubplot at 0x7f80c6bd8460>"
      ]
     },
     "execution_count": 420,
     "metadata": {},
     "output_type": "execute_result"
    },
    {
     "data": {
      "image/png": "[encoded data removed]",
      "text/plain": [
       "<Figure size 432x288 with 1 Axes>"
      ]
     },
     "metadata": {
      "needs_background": "light"
     },
     "output_type": "display_data"
    }
   ],
   "source": [
    "ybc = genredata[['genres','Worldwide_Lifetime_Gross','Domestic_Lifetime_Gross','Foreign_Lifetime_Gross']].groupby('genres').sum()\n",
    "ybc.plot.bar()#agains same except sum instead of avg/median"
   ]
  },
  {
   "cell_type": "code",
   "execution_count": 421,
   "metadata": {},
   "outputs": [
    {
     "data": {
      "text/plain": [
       "<matplotlib.axes._subplots.AxesSubplot at 0x7f80ba44bbb0>"
      ]
     },
     "execution_count": 421,
     "metadata": {},
     "output_type": "execute_result"
    },
    {
     "data": {
      "image/png": "[encoded data removed]",
      "text/plain": [
       "<Figure size 432x288 with 1 Axes>"
      ]
     },
     "metadata": {
      "needs_background": "light"
     },
     "output_type": "display_data"
    }
   ],
   "source": [
    "ybc = genredata[['genres','Worldwide_Lifetime_Gross','Domestic_Lifetime_Gross','Foreign_Lifetime_Gross']]\n",
    "ybc.genres.value_counts().plot.bar()\n",
    "#which genres were more popular\n",
    "\n",
    "\n",
    "\n",
    "\n"
   ]
  },
  {
   "cell_type": "code",
   "execution_count": 422,
   "metadata": {},
   "outputs": [
    {
     "data": {
      "text/plain": [
       "genres\n",
       "Action       946.0\n",
       "Adventure   1451.5\n",
       "Animation    315.0\n",
       "Comedy      1648.1\n",
       "Crime        999.8\n",
       "Name: vote_average, dtype: float64"
      ]
     },
     "execution_count": 422,
     "metadata": {},
     "output_type": "execute_result"
    },
    {
     "data": {
      "image/png": "[encoded data removed]",
      "text/plain": [
       "<Figure size 432x288 with 1 Axes>"
      ]
     },
     "metadata": {
      "needs_background": "light"
     },
     "output_type": "display_data"
    }
   ],
   "source": [
    "ybc = genredata.groupby('genres').vote_average.sum()\n",
    "ybc.plot.bar()\n",
    "ybc.head()\n",
    "#the average rating of imdb users for the movies we have grouped by genres"
   ]
  },
  {
   "cell_type": "code",
   "execution_count": 423,
   "metadata": {},
   "outputs": [
    {
     "data": {
      "text/plain": [
       "Index(['Action', 'Adventure', 'Animation', 'Comedy', 'Crime', 'Documentary',\n",
       "       'Drama', 'Family', 'Fantasy', 'History', 'Horror', 'Music', 'Mystery',\n",
       "       'Romance', 'Science Fiction', 'Thriller', 'War', 'Western'],\n",
       "      dtype='object', name='genres')"
      ]
     },
     "execution_count": 423,
     "metadata": {},
     "output_type": "execute_result"
    },
    {
     "data": {
      "image/png": "[encoded data removed]",
      "text/plain": [
       "<Figure size 432x288 with 1 Axes>"
      ]
     },
     "metadata": {
      "needs_background": "light"
     },
     "output_type": "display_data"
    }
   ],
   "source": [
    "ybc = genredata.groupby('genres').budget.mean()\n",
    "ybc.plot.bar()\n",
    "ybc.head()\n",
    "ybc.keys()\n",
    "#avg budget for each "
   ]
  },
  {
   "cell_type": "code",
   "execution_count": 424,
   "metadata": {},
   "outputs": [
    {
     "data": {
      "text/plain": [
       "genres\n",
       "Action      110000000.0\n",
       "Adventure   140000000.0\n",
       "Animation   103000000.0\n",
       "Comedy       76500000.0\n",
       "Crime        60000000.0\n",
       "Name: budget, dtype: float64"
      ]
     },
     "execution_count": 424,
     "metadata": {},
     "output_type": "execute_result"
    },
    {
     "data": {
      "image/png": "[encoded data removed]",
      "text/plain": [
       "<Figure size 432x288 with 1 Axes>"
      ]
     },
     "metadata": {
      "needs_background": "light"
     },
     "output_type": "display_data"
    }
   ],
   "source": [
    "abc = genredata.groupby('genres').budget.median()\n",
    "abc.plot.bar()\n",
    "abc.head()\n",
    "#same but median"
   ]
  },
  {
   "cell_type": "code",
   "execution_count": 425,
   "metadata": {},
   "outputs": [
    {
     "data": {
      "text/plain": [
       "genres\n",
       "Action      10000000.0\n",
       "Adventure          0.0\n",
       "Animation   26500000.0\n",
       "Comedy             0.0\n",
       "Crime        6000000.0\n",
       "Name: budget, dtype: float64"
      ]
     },
     "execution_count": 425,
     "metadata": {},
     "output_type": "execute_result"
    },
    {
     "data": {
      "image/png": "[encoded data removed]",
      "text/plain": [
       "<Figure size 432x288 with 1 Axes>"
      ]
     },
     "metadata": {
      "needs_background": "light"
     },
     "output_type": "display_data"
    }
   ],
   "source": [
    "zxc =genredata.groupby('genres').budget.min()\n",
    "zxc.plot.bar()\n",
    "zxc.head()\n",
    "#min value spent on a movie in each genre"
   ]
  },
  {
   "cell_type": "code",
   "execution_count": 426,
   "metadata": {},
   "outputs": [
    {
     "data": {
      "text/plain": [
       "genres\n",
       "Action      356000000.0\n",
       "Adventure   270000000.0\n",
       "Animation   150000000.0\n",
       "Comedy      230000000.0\n",
       "Crime       200000000.0\n",
       "Name: budget, dtype: float64"
      ]
     },
     "execution_count": 426,
     "metadata": {},
     "output_type": "execute_result"
    },
    {
     "data": {
      "image/png": "[encoded data removed]",
      "text/plain": [
       "<Figure size 432x288 with 1 Axes>"
      ]
     },
     "metadata": {
      "needs_background": "light"
     },
     "output_type": "display_data"
    }
   ],
   "source": [
    "ubc = genredata.groupby('genres').budget.max()\n",
    "ubc.plot.bar()\n",
    "ubc.head()\n",
    "#max value spent on a movie in a genre"
   ]
  },
  {
   "cell_type": "code",
   "execution_count": 427,
   "metadata": {},
   "outputs": [],
   "source": [
    "asd = list(zip(ubc,ybc,abc,zxc))\n",
    "#making a dataframe from these"
   ]
  },
  {
   "cell_type": "code",
   "execution_count": 428,
   "metadata": {},
   "outputs": [],
   "source": [
    "asd = pd.DataFrame(asd, index = ['Action', 'Adventure', 'Animation', 'Comedy', 'Crime', 'Documentary',\n",
    "       'Drama', 'Family', 'Fantasy', 'History', 'Horror', 'Music', 'Mystery',\n",
    "       'Romance', 'Science Fiction', 'Thriller', 'War', 'Western'], columns = ['Most money spent on a movie','avg spent on all the movies in this genre','Middle value for all the movies in this genre','Least spent on the movie'] )"
   ]
  },
  {
   "cell_type": "code",
   "execution_count": 429,
   "metadata": {},
   "outputs": [
    {
     "data": {
      "text/plain": [
       "Text(0, 0.5, 'Money spent in 100 milions')"
      ]
     },
     "execution_count": 429,
     "metadata": {},
     "output_type": "execute_result"
    },
    {
     "data": {
      "image/png": "[encoded data removed]",
      "text/plain": [
       "<Figure size 720x576 with 1 Axes>"
      ]
     },
     "metadata": {
      "needs_background": "light"
     },
     "output_type": "display_data"
    }
   ],
   "source": [
    "plot = asd.sort_values('avg spent on all the movies in this genre',ascending=True).plot(kind = 'bar',title = 'Most, Avg, Median, Least money spent in each genre',figsize=(10,8), width=0.8)\n",
    "plot.set_xlabel('Genres')\n",
    "plot.set_ylabel('Money spent in 100 milions')\n",
    "#graphed all of the last 4 together and sorted them ascending by the sum values"
   ]
  },
  {
   "cell_type": "code",
   "execution_count": 558,
   "metadata": {},
   "outputs": [
    {
     "data": {
      "text/html": [
       "<div>\n",
       "<style scoped>\n",
       "    .dataframe tbody tr th:only-of-type {\n",
       "        vertical-align: middle;\n",
       "    }\n",
       "\n",
       "    .dataframe tbody tr th {\n",
       "        vertical-align: top;\n",
       "    }\n",
       "\n",
       "    .dataframe thead th {\n",
       "        text-align: right;\n",
       "    }\n",
       "</style>\n",
       "<table border=\"1\" class=\"dataframe\">\n",
       "  <thead>\n",
       "    <tr style=\"text-align: right;\">\n",
       "      <th></th>\n",
       "      <th>Name</th>\n",
       "      <th>Global_Sales</th>\n",
       "    </tr>\n",
       "  </thead>\n",
       "  <tbody>\n",
       "    <tr>\n",
       "      <th>0</th>\n",
       "      <td>Halo 3</td>\n",
       "      <td>12.1</td>\n",
       "    </tr>\n",
       "    <tr>\n",
       "      <th>1</th>\n",
       "      <td>Halo: Reach</td>\n",
       "      <td>9.9</td>\n",
       "    </tr>\n",
       "    <tr>\n",
       "      <th>2</th>\n",
       "      <td>Halo 4</td>\n",
       "      <td>9.8</td>\n",
       "    </tr>\n",
       "    <tr>\n",
       "      <th>130</th>\n",
       "      <td>Halo 3</td>\n",
       "      <td>12.1</td>\n",
       "    </tr>\n",
       "    <tr>\n",
       "      <th>131</th>\n",
       "      <td>Halo: Reach</td>\n",
       "      <td>9.9</td>\n",
       "    </tr>\n",
       "    <tr>\n",
       "      <th>132</th>\n",
       "      <td>Halo 4</td>\n",
       "      <td>9.8</td>\n",
       "    </tr>\n",
       "    <tr>\n",
       "      <th>177</th>\n",
       "      <td>Kinect Adventures!</td>\n",
       "      <td>21.8</td>\n",
       "    </tr>\n",
       "    <tr>\n",
       "      <th>178</th>\n",
       "      <td>Minecraft</td>\n",
       "      <td>9.2</td>\n",
       "    </tr>\n",
       "    <tr>\n",
       "      <th>179</th>\n",
       "      <td>Minecraft</td>\n",
       "      <td>2.4</td>\n",
       "    </tr>\n",
       "    <tr>\n",
       "      <th>217</th>\n",
       "      <td>Forza Motorsport 3</td>\n",
       "      <td>5.5</td>\n",
       "    </tr>\n",
       "    <tr>\n",
       "      <th>218</th>\n",
       "      <td>Forza Motorsport 4</td>\n",
       "      <td>4.6</td>\n",
       "    </tr>\n",
       "    <tr>\n",
       "      <th>219</th>\n",
       "      <td>Forza Motorsport 2</td>\n",
       "      <td>4.1</td>\n",
       "    </tr>\n",
       "    <tr>\n",
       "      <th>257</th>\n",
       "      <td>Kinect Sports</td>\n",
       "      <td>6.2</td>\n",
       "    </tr>\n",
       "    <tr>\n",
       "      <th>258</th>\n",
       "      <td>Kinect Sports: Season Two</td>\n",
       "      <td>2.4</td>\n",
       "    </tr>\n",
       "    <tr>\n",
       "      <th>259</th>\n",
       "      <td>NFL Fever 2002</td>\n",
       "      <td>1.0</td>\n",
       "    </tr>\n",
       "    <tr>\n",
       "      <th>274</th>\n",
       "      <td>Kinect Adventures!</td>\n",
       "      <td>21.8</td>\n",
       "    </tr>\n",
       "    <tr>\n",
       "      <th>275</th>\n",
       "      <td>Minecraft</td>\n",
       "      <td>9.2</td>\n",
       "    </tr>\n",
       "    <tr>\n",
       "      <th>276</th>\n",
       "      <td>Forza Motorsport 3</td>\n",
       "      <td>5.5</td>\n",
       "    </tr>\n",
       "    <tr>\n",
       "      <th>341</th>\n",
       "      <td>Fable III</td>\n",
       "      <td>5.1</td>\n",
       "    </tr>\n",
       "    <tr>\n",
       "      <th>342</th>\n",
       "      <td>Fable II</td>\n",
       "      <td>4.3</td>\n",
       "    </tr>\n",
       "    <tr>\n",
       "      <th>343</th>\n",
       "      <td>Mass Effect</td>\n",
       "      <td>2.9</td>\n",
       "    </tr>\n",
       "    <tr>\n",
       "      <th>360</th>\n",
       "      <td>Kinect Sports</td>\n",
       "      <td>6.2</td>\n",
       "    </tr>\n",
       "    <tr>\n",
       "      <th>361</th>\n",
       "      <td>Microsoft Flight Simulator</td>\n",
       "      <td>5.1</td>\n",
       "    </tr>\n",
       "    <tr>\n",
       "      <th>362</th>\n",
       "      <td>Kinect Sports: Season Two</td>\n",
       "      <td>2.4</td>\n",
       "    </tr>\n",
       "    <tr>\n",
       "      <th>395</th>\n",
       "      <td>Halo 3</td>\n",
       "      <td>12.1</td>\n",
       "    </tr>\n",
       "    <tr>\n",
       "      <th>396</th>\n",
       "      <td>Halo: Reach</td>\n",
       "      <td>9.9</td>\n",
       "    </tr>\n",
       "    <tr>\n",
       "      <th>397</th>\n",
       "      <td>Halo 4</td>\n",
       "      <td>9.8</td>\n",
       "    </tr>\n",
       "    <tr>\n",
       "      <th>445</th>\n",
       "      <td>Banjo-Kazooie: Nuts &amp; Bolts</td>\n",
       "      <td>0.8</td>\n",
       "    </tr>\n",
       "    <tr>\n",
       "      <th>446</th>\n",
       "      <td>Blinx: The Time Sweeper</td>\n",
       "      <td>0.6</td>\n",
       "    </tr>\n",
       "    <tr>\n",
       "      <th>447</th>\n",
       "      <td>Blinx 2: Masters of Time &amp; Space</td>\n",
       "      <td>0.1</td>\n",
       "    </tr>\n",
       "    <tr>\n",
       "      <th>451</th>\n",
       "      <td>Halo Wars</td>\n",
       "      <td>2.6</td>\n",
       "    </tr>\n",
       "    <tr>\n",
       "      <th>452</th>\n",
       "      <td>Age of Empires III</td>\n",
       "      <td>0.4</td>\n",
       "    </tr>\n",
       "    <tr>\n",
       "      <th>453</th>\n",
       "      <td>Zoo Tycoon 2: Ultimate Collection</td>\n",
       "      <td>0.3</td>\n",
       "    </tr>\n",
       "    <tr>\n",
       "      <th>470</th>\n",
       "      <td>Halo 3</td>\n",
       "      <td>12.1</td>\n",
       "    </tr>\n",
       "    <tr>\n",
       "      <th>471</th>\n",
       "      <td>Halo: Reach</td>\n",
       "      <td>9.9</td>\n",
       "    </tr>\n",
       "    <tr>\n",
       "      <th>472</th>\n",
       "      <td>Halo 4</td>\n",
       "      <td>9.8</td>\n",
       "    </tr>\n",
       "    <tr>\n",
       "      <th>556</th>\n",
       "      <td>Halo 3</td>\n",
       "      <td>12.1</td>\n",
       "    </tr>\n",
       "    <tr>\n",
       "      <th>557</th>\n",
       "      <td>Halo: Reach</td>\n",
       "      <td>9.9</td>\n",
       "    </tr>\n",
       "    <tr>\n",
       "      <th>558</th>\n",
       "      <td>Halo 4</td>\n",
       "      <td>9.8</td>\n",
       "    </tr>\n",
       "    <tr>\n",
       "      <th>627</th>\n",
       "      <td>Halo 3</td>\n",
       "      <td>12.1</td>\n",
       "    </tr>\n",
       "    <tr>\n",
       "      <th>628</th>\n",
       "      <td>Halo: Reach</td>\n",
       "      <td>9.9</td>\n",
       "    </tr>\n",
       "    <tr>\n",
       "      <th>629</th>\n",
       "      <td>Halo 4</td>\n",
       "      <td>9.8</td>\n",
       "    </tr>\n",
       "  </tbody>\n",
       "</table>\n",
       "</div>"
      ],
      "text/plain": [
       "                                  Name  Global_Sales\n",
       "0                               Halo 3          12.1\n",
       "1                          Halo: Reach           9.9\n",
       "2                               Halo 4           9.8\n",
       "130                             Halo 3          12.1\n",
       "131                        Halo: Reach           9.9\n",
       "132                             Halo 4           9.8\n",
       "177                 Kinect Adventures!          21.8\n",
       "178                          Minecraft           9.2\n",
       "179                          Minecraft           2.4\n",
       "217                 Forza Motorsport 3           5.5\n",
       "218                 Forza Motorsport 4           4.6\n",
       "219                 Forza Motorsport 2           4.1\n",
       "257                      Kinect Sports           6.2\n",
       "258          Kinect Sports: Season Two           2.4\n",
       "259                     NFL Fever 2002           1.0\n",
       "274                 Kinect Adventures!          21.8\n",
       "275                          Minecraft           9.2\n",
       "276                 Forza Motorsport 3           5.5\n",
       "341                          Fable III           5.1\n",
       "342                           Fable II           4.3\n",
       "343                        Mass Effect           2.9\n",
       "360                      Kinect Sports           6.2\n",
       "361         Microsoft Flight Simulator           5.1\n",
       "362          Kinect Sports: Season Two           2.4\n",
       "395                             Halo 3          12.1\n",
       "396                        Halo: Reach           9.9\n",
       "397                             Halo 4           9.8\n",
       "445        Banjo-Kazooie: Nuts & Bolts           0.8\n",
       "446            Blinx: The Time Sweeper           0.6\n",
       "447   Blinx 2: Masters of Time & Space           0.1\n",
       "451                          Halo Wars           2.6\n",
       "452                 Age of Empires III           0.4\n",
       "453  Zoo Tycoon 2: Ultimate Collection           0.3\n",
       "470                             Halo 3          12.1\n",
       "471                        Halo: Reach           9.9\n",
       "472                             Halo 4           9.8\n",
       "556                             Halo 3          12.1\n",
       "557                        Halo: Reach           9.9\n",
       "558                             Halo 4           9.8\n",
       "627                             Halo 3          12.1\n",
       "628                        Halo: Reach           9.9\n",
       "629                             Halo 4           9.8"
      ]
     },
     "execution_count": 558,
     "metadata": {},
     "output_type": "execute_result"
    }
   ],
   "source": [
    "rankings = vgdfg[vgdfg['Microsoft']=='Microsoft'].groupby('Genre')\n",
    "OPT = rankings.apply(lambda x: x.sort_values('Global_Sales',ascending=False))\n",
    "opt = OPT.reset_index(drop=True)\n",
    "opt=opt.groupby('Genre').head(3)\n",
    "viable_options=opt[['Genre','Name','Global_Sales']]\n",
    "viable_options\n",
    "#made a dataframe the represents the top three ips to chose form \n"
   ]
  },
  {
   "cell_type": "code",
   "execution_count": null,
   "metadata": {},
   "outputs": [],
   "source": []
  },
  {
   "cell_type": "code",
   "execution_count": null,
   "metadata": {},
   "outputs": [],
   "source": []
  },
  {
   "cell_type": "code",
   "execution_count": 449,
   "metadata": {},
   "outputs": [],
   "source": [
    "vgdf.to_csv('Data/vgdata.csv')\n",
    "vgdfg.to_csv('Data/vgdatagenre.csv')\n",
    "genredata.to_csv('Data/Genre.csv')\n",
    "xyz.to_csv('Data/xyz.csv')\n",
    "opt.to_csv('Data/opt.csv')\n",
    "asd.to_csv('Data/asd.csv')#save the datframes locally"
   ]
  },
  {
   "cell_type": "code",
   "execution_count": null,
   "metadata": {},
   "outputs": [],
   "source": []
  }
 ],
 "metadata": {
  "kernelspec": {
   "display_name": "Python 3",
   "language": "python",
   "name": "python3"
  },
  "language_info": {
   "codemirror_mode": {
    "name": "ipython",
    "version": 3
   },
   "file_extension": ".py",
   "mimetype": "text/x-python",
   "name": "python",
   "nbconvert_exporter": "python",
   "pygments_lexer": "ipython3",
   "version": "3.8.3"
  }
 },
 "nbformat": 4,
 "nbformat_minor": 4
}
