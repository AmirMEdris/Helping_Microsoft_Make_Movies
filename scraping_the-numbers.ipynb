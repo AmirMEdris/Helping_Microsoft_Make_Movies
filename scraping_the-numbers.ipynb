{
 "cells": [
  {
   "cell_type": "markdown",
   "metadata": {},
   "source": [
    "#  Scraping _The Numbers_ Website For Data\n",
    "___\n",
    "The Numbers is a very useful website with information on films produced worldwide. We will scrape this site for the information we need through it's report builder page. This page allows us to specify many different categories of filters such as: _Production Company, Budget, Year, Source, Genre_ etc.\n",
    "   \n",
    "For all our searches, we will limits our resulting view of table to only the neccessary columns. This will allow us to create one function that will extract the informantion from all the different search results through BeautifulSoup and then produce pd.DataFrames. **As a general rule, we will only look at information from the past decade**."
   ]
  },
  {
   "cell_type": "code",
   "execution_count": 51,
   "metadata": {},
   "outputs": [],
   "source": [
    "import requests  # import neccessary libraries for webscraping and creating, visualizing dataframes etc.\n",
    "import sys\n",
    "import numpy as np\n",
    "import time\n",
    "import pandas as pd\n",
    "time.sleep(5)\n",
    "from bs4 import BeautifulSoup\n",
    "import matplotlib.pyplot as plt\n",
    "%matplotlib inline"
   ]
  },
  {
   "cell_type": "code",
   "execution_count": 2,
   "metadata": {},
   "outputs": [],
   "source": [
    "pd.set_option('display.float_format', lambda x: '%.2f' % x)  # this is to avoid viewing scientific notation"
   ]
  },
  {
   "cell_type": "markdown",
   "metadata": {},
   "source": [
    "## Blumhouse Horror Movies\n",
    "___\n",
    "From the information gathered before, we concluded that low-budget movies have the highest **R.O.I.** Blumhouse is a production company known for making popular horror movies for minimal budgets. These hits include: _Get Out, Happy Death Day, Paranormal Activity_. \n",
    "\n",
    "Let's analyze the data on their releases from the past 10 years and figure out what their **R.O.I.** and **profit** looks like. \n",
    "- Have they been successful in making low-budget horror movies?\n",
    "- What is their ROI compared to ROI of movies in general that we have studied before?"
   ]
  },
  {
   "cell_type": "code",
   "execution_count": 3,
   "metadata": {},
   "outputs": [
    {
     "data": {
      "text/plain": [
       "200"
      ]
     },
     "execution_count": 3,
     "metadata": {},
     "output_type": "execute_result"
    }
   ],
   "source": [
    "# get the page URL and use request to get the content from the page as a RESPONSE type\n",
    "blumhouse_url = 'https://www.the-numbers.com/movies/report/Horror/All/All/All/All/All/All/Blumhouse/All/None/None/2010/2019/None/None/None/None/None/None?show-release-date=On&view-order-by=domestic-box-office&view-order-direction=desc&show-production-budget=On&show-domestic-box-office=On&show-international-box-office=On&show-worldwide-box-office=On'\n",
    "page = requests.get(blumhouse_url)\n",
    "page.status_code"
   ]
  },
  {
   "cell_type": "code",
   "execution_count": 4,
   "metadata": {},
   "outputs": [],
   "source": [
    "soup = BeautifulSoup(page.content, 'html.parser')  # use beautiful soup to be able to parse the html tags"
   ]
  },
  {
   "cell_type": "code",
   "execution_count": 5,
   "metadata": {},
   "outputs": [
    {
     "data": {
      "text/plain": [
       "bs4.element.Tag"
      ]
     },
     "execution_count": 5,
     "metadata": {},
     "output_type": "execute_result"
    }
   ],
   "source": [
    "tag_table = soup.find_all('table')[0]  # select the tag with the content of the resulting table\n",
    "type(tag_table)  # check its type to confirm"
   ]
  },
  {
   "cell_type": "code",
   "execution_count": 6,
   "metadata": {},
   "outputs": [
    {
     "data": {
      "text/plain": [
       "[<th>Released</th>,\n",
       " <th>Title</th>,\n",
       " <th>Production<br/>Budget</th>,\n",
       " <th>Domestic<br/>Box Office</th>,\n",
       " <th>International<br/>Box Office</th>,\n",
       " <th>Worldwide<br/>Box Office</th>]"
      ]
     },
     "execution_count": 6,
     "metadata": {},
     "output_type": "execute_result"
    }
   ],
   "source": [
    "tag_table.find_all('th')[1:]  # This is the table header row from the page or the column names that we want"
   ]
  },
  {
   "cell_type": "code",
   "execution_count": 7,
   "metadata": {},
   "outputs": [
    {
     "name": "stdout",
     "output_type": "stream",
     "text": [
      "1\n",
      "<class 'bs4.element.Tag'>\n",
      "<class 'bs4.element.Tag'>\n",
      "54\n"
     ]
    }
   ],
   "source": [
    "tag_body = tag_table.find_all('tbody')  # This tag has the all the information from the rows\n",
    "\n",
    "print(len(tag_body))  \n",
    "print(type(tag_body[0]))  # Check if it's TAG type\n",
    "\n",
    "print(type(tag_body[0].find('tr'))) \n",
    "print(len(tag_body[0].find_all('tr')))  # the <tr> tage contains the number of rows in the table\n",
    "\n",
    "table_rows = tag_body[0].find_all('tr')  # check to confirm the number of rows if it matches with search page"
   ]
  },
  {
   "cell_type": "code",
   "execution_count": 8,
   "metadata": {},
   "outputs": [],
   "source": [
    "def convert_page_to_tag_with_table_rows(page):\n",
    "    \"\"\" \n",
    "    This function takes in a requests.models.Response from The Numbers websites report builder page\n",
    "    and returns all tags associated with rows of the resulting table from our search criteria\n",
    "    \"\"\"\n",
    "\n",
    "    soup = BeautifulSoup(page.content, 'html.parser')  # Parse through the html using BeautifulSoup\n",
    "    tag_table = soup.find_all('table')[0]              # Find the TAG associated with the table\n",
    "    tag_body = tag_table.find_all('tbody')             # Find the TAG associated with the body of the table\n",
    "    table_rows = tag_body[0].find_all('tr')            # store all the row TAGs in a list \n",
    "    \n",
    "    return table_rows  # Return the list of TAGs"
   ]
  },
  {
   "cell_type": "code",
   "execution_count": 9,
   "metadata": {},
   "outputs": [],
   "source": [
    "def transform_table_to_df(table_rows):\n",
    "    \"\"\"\n",
    "    This fucntion takes in a list of TAGs associated with rows of the table resulting from The Numbers \n",
    "    websites report builder. It extracts the text from these row TAGs and transforms them into a \n",
    "    Pandas.Dataframe and returns the dataframe.\n",
    "    \"\"\"\n",
    "    # extract the movie name, budget and the other TEXT's from the row TAGs and store them in a list\n",
    "    \n",
    "    titles = [table_rows[n].find('a').text for n in range(0,len(table_rows))]  \n",
    "    release_dates = [table_rows[n].find_all(class_ = 'data')[1].text for n in range(0,len(table_rows))]\n",
    "    budgets = [table_rows[n].find_all(class_ = 'data')[2].text for n in range(0,len(table_rows))]\n",
    "\n",
    "    dom_incomes = [table_rows[n].find_all(class_ = 'data')[3].text for n in range(0,len(table_rows))]\n",
    "    inter_income = [table_rows[n].find_all(class_ = 'data')[4].text for n in range(0,len(table_rows))]\n",
    "    worldwide_gross = [table_rows[n].find_all(class_ = 'data')[5].text for n in range(0,len(table_rows))]\n",
    "    \n",
    "    df = pd.DataFrame({  # use the required lists to create a dataframe with the movies' information\n",
    "        \"movie\": titles,\n",
    "         \"production_budget\": budgets,\n",
    "         \"domestic_gross\": dom_incomes,\n",
    "         \"foreign_gross\": inter_income,\n",
    "        \"worldwide_gross\": worldwide_gross\n",
    "    })\n",
    "    return df"
   ]
  },
  {
   "cell_type": "code",
   "execution_count": 10,
   "metadata": {},
   "outputs": [
    {
     "data": {
      "text/html": [
       "<div>\n",
       "<style scoped>\n",
       "    .dataframe tbody tr th:only-of-type {\n",
       "        vertical-align: middle;\n",
       "    }\n",
       "\n",
       "    .dataframe tbody tr th {\n",
       "        vertical-align: top;\n",
       "    }\n",
       "\n",
       "    .dataframe thead th {\n",
       "        text-align: right;\n",
       "    }\n",
       "</style>\n",
       "<table border=\"1\" class=\"dataframe\">\n",
       "  <thead>\n",
       "    <tr style=\"text-align: right;\">\n",
       "      <th></th>\n",
       "      <th>movie</th>\n",
       "      <th>production_budget</th>\n",
       "      <th>domestic_gross</th>\n",
       "      <th>foreign_gross</th>\n",
       "      <th>worldwide_gross</th>\n",
       "    </tr>\n",
       "  </thead>\n",
       "  <tbody>\n",
       "    <tr>\n",
       "      <th>0</th>\n",
       "      <td>Get Out</td>\n",
       "      <td>$5,000,000</td>\n",
       "      <td>$176,040,665</td>\n",
       "      <td>$76,737,392</td>\n",
       "      <td>$252,778,057</td>\n",
       "    </tr>\n",
       "    <tr>\n",
       "      <th>1</th>\n",
       "      <td>Halloween</td>\n",
       "      <td>$10,000,000</td>\n",
       "      <td>$159,347,015</td>\n",
       "      <td>$96,143,163</td>\n",
       "      <td>$255,490,178</td>\n",
       "    </tr>\n",
       "    <tr>\n",
       "      <th>2</th>\n",
       "      <td>Split</td>\n",
       "      <td>$5,000,000</td>\n",
       "      <td>$138,141,585</td>\n",
       "      <td>$140,823,221</td>\n",
       "      <td>$278,964,806</td>\n",
       "    </tr>\n",
       "    <tr>\n",
       "      <th>3</th>\n",
       "      <td>Paranormal Activity 3</td>\n",
       "      <td>$5,000,000</td>\n",
       "      <td>$104,028,807</td>\n",
       "      <td>$103,011,037</td>\n",
       "      <td>$207,039,844</td>\n",
       "    </tr>\n",
       "    <tr>\n",
       "      <th>4</th>\n",
       "      <td>Paranormal Activity 2</td>\n",
       "      <td>$3,000,000</td>\n",
       "      <td>$84,752,907</td>\n",
       "      <td>$92,759,125</td>\n",
       "      <td>$177,512,032</td>\n",
       "    </tr>\n",
       "  </tbody>\n",
       "</table>\n",
       "</div>"
      ],
      "text/plain": [
       "                   movie production_budget domestic_gross foreign_gross  \\\n",
       "0                Get Out        $5,000,000   $176,040,665   $76,737,392   \n",
       "1              Halloween       $10,000,000   $159,347,015   $96,143,163   \n",
       "2                  Split        $5,000,000   $138,141,585  $140,823,221   \n",
       "3  Paranormal Activity 3        $5,000,000   $104,028,807  $103,011,037   \n",
       "4  Paranormal Activity 2        $3,000,000    $84,752,907   $92,759,125   \n",
       "\n",
       "  worldwide_gross  \n",
       "0    $252,778,057  \n",
       "1    $255,490,178  \n",
       "2    $278,964,806  \n",
       "3    $207,039,844  \n",
       "4    $177,512,032  "
      ]
     },
     "execution_count": 10,
     "metadata": {},
     "output_type": "execute_result"
    }
   ],
   "source": [
    "# Use the functions created to extract the information and create the dataframe of blumhouse movies\n",
    "blum_table = convert_page_to_tag_with_table_rows(page)\n",
    "blumhouse_horror = transform_table_to_df(blum_table)\n",
    "blumhouse_horror.head()  # check the first few rows"
   ]
  },
  {
   "cell_type": "markdown",
   "metadata": {},
   "source": [
    "All the of columns regarding capital value seem to be `object` types. We need to convert them into `integer` type in order to explore the data and create visualizations.\n",
    "\n",
    "Since, all the search results give us the same columns in the same format, we should create a function to complete our task and save time and space."
   ]
  },
  {
   "cell_type": "code",
   "execution_count": 11,
   "metadata": {},
   "outputs": [
    {
     "data": {
      "text/html": [
       "<div>\n",
       "<style scoped>\n",
       "    .dataframe tbody tr th:only-of-type {\n",
       "        vertical-align: middle;\n",
       "    }\n",
       "\n",
       "    .dataframe tbody tr th {\n",
       "        vertical-align: top;\n",
       "    }\n",
       "\n",
       "    .dataframe thead th {\n",
       "        text-align: right;\n",
       "    }\n",
       "</style>\n",
       "<table border=\"1\" class=\"dataframe\">\n",
       "  <thead>\n",
       "    <tr style=\"text-align: right;\">\n",
       "      <th></th>\n",
       "      <th>movie</th>\n",
       "      <th>production_budget</th>\n",
       "      <th>domestic_gross</th>\n",
       "      <th>foreign_gross</th>\n",
       "      <th>worldwide_gross</th>\n",
       "    </tr>\n",
       "  </thead>\n",
       "  <tbody>\n",
       "    <tr>\n",
       "      <th>0</th>\n",
       "      <td>Get Out</td>\n",
       "      <td>5000000</td>\n",
       "      <td>176040665</td>\n",
       "      <td>76737392</td>\n",
       "      <td>252778057</td>\n",
       "    </tr>\n",
       "    <tr>\n",
       "      <th>1</th>\n",
       "      <td>Halloween</td>\n",
       "      <td>10000000</td>\n",
       "      <td>159347015</td>\n",
       "      <td>96143163</td>\n",
       "      <td>255490178</td>\n",
       "    </tr>\n",
       "    <tr>\n",
       "      <th>2</th>\n",
       "      <td>Split</td>\n",
       "      <td>5000000</td>\n",
       "      <td>138141585</td>\n",
       "      <td>140823221</td>\n",
       "      <td>278964806</td>\n",
       "    </tr>\n",
       "    <tr>\n",
       "      <th>3</th>\n",
       "      <td>Paranormal Activity 3</td>\n",
       "      <td>5000000</td>\n",
       "      <td>104028807</td>\n",
       "      <td>103011037</td>\n",
       "      <td>207039844</td>\n",
       "    </tr>\n",
       "    <tr>\n",
       "      <th>4</th>\n",
       "      <td>Paranormal Activity 2</td>\n",
       "      <td>3000000</td>\n",
       "      <td>84752907</td>\n",
       "      <td>92759125</td>\n",
       "      <td>177512032</td>\n",
       "    </tr>\n",
       "  </tbody>\n",
       "</table>\n",
       "</div>"
      ],
      "text/plain": [
       "                   movie  production_budget  domestic_gross  foreign_gross  \\\n",
       "0                Get Out            5000000       176040665       76737392   \n",
       "1              Halloween           10000000       159347015       96143163   \n",
       "2                  Split            5000000       138141585      140823221   \n",
       "3  Paranormal Activity 3            5000000       104028807      103011037   \n",
       "4  Paranormal Activity 2            3000000        84752907       92759125   \n",
       "\n",
       "   worldwide_gross  \n",
       "0        252778057  \n",
       "1        255490178  \n",
       "2        278964806  \n",
       "3        207039844  \n",
       "4        177512032  "
      ]
     },
     "execution_count": 11,
     "metadata": {},
     "output_type": "execute_result"
    }
   ],
   "source": [
    "def convert_obj_to_int(df): \n",
    "    \"\"\"\n",
    "    This function will take in a pd.DataFrame created from our specified website and turn the object type columns\n",
    "    associated with money and turn them into integer type\n",
    "    \"\"\"\n",
    "    # Store these targeted columns into a list for iteration\n",
    "    monetary_cols = ['production_budget','domestic_gross','foreign_gross','worldwide_gross']\n",
    "    \n",
    "    for col in monetary_cols:  # replace '$' and ',' using string method and convert to INT type\n",
    "        df[col] = df[col].str.replace('$','').str.replace(',','').astype(int)\n",
    "    return df  # return the dataframe with the transformed columns\n",
    "\n",
    "convert_obj_to_int(blumhouse_horror)\n",
    "blumhouse_horror.head()"
   ]
  },
  {
   "cell_type": "code",
   "execution_count": 12,
   "metadata": {},
   "outputs": [],
   "source": [
    "blumhouse_horror = blumhouse_horror[:32]  # Disregard all the values with 0 domestic gross and 0 production budget"
   ]
  },
  {
   "cell_type": "markdown",
   "metadata": {},
   "source": [
    "We will create another function that adds two new columns. One column regarding _Gross Profit_ calculated by `(worldwide_gross-production budget)`. The other regarding the _return on investment_ or _R.O.I_ . This is calculated by `(Profit/Budget) * 100`"
   ]
  },
  {
   "cell_type": "code",
   "execution_count": 13,
   "metadata": {},
   "outputs": [],
   "source": [
    "def create_two_cols(df):\n",
    "    \"\"\"\n",
    "    This functions takes in a dataframe and create two new columns.\n",
    "    One is worldwide_gross, int type. Second is roi which is float type\n",
    "    \"\"\"\n",
    "    df['gross_profit'] = df['worldwide_gross'] - df['production_budget']  \n",
    "    df['roi'] =(df['gross_profit'] / df['production_budget']) * 100 \n",
    "    \n",
    "    return df"
   ]
  },
  {
   "cell_type": "code",
   "execution_count": 14,
   "metadata": {},
   "outputs": [
    {
     "data": {
      "text/html": [
       "<div>\n",
       "<style scoped>\n",
       "    .dataframe tbody tr th:only-of-type {\n",
       "        vertical-align: middle;\n",
       "    }\n",
       "\n",
       "    .dataframe tbody tr th {\n",
       "        vertical-align: top;\n",
       "    }\n",
       "\n",
       "    .dataframe thead th {\n",
       "        text-align: right;\n",
       "    }\n",
       "</style>\n",
       "<table border=\"1\" class=\"dataframe\">\n",
       "  <thead>\n",
       "    <tr style=\"text-align: right;\">\n",
       "      <th></th>\n",
       "      <th>movie</th>\n",
       "      <th>production_budget</th>\n",
       "      <th>domestic_gross</th>\n",
       "      <th>foreign_gross</th>\n",
       "      <th>worldwide_gross</th>\n",
       "      <th>gross_profit</th>\n",
       "      <th>roi</th>\n",
       "    </tr>\n",
       "  </thead>\n",
       "  <tbody>\n",
       "    <tr>\n",
       "      <th>0</th>\n",
       "      <td>Get Out</td>\n",
       "      <td>5000000</td>\n",
       "      <td>176040665</td>\n",
       "      <td>76737392</td>\n",
       "      <td>252778057</td>\n",
       "      <td>247778057</td>\n",
       "      <td>4955.56</td>\n",
       "    </tr>\n",
       "    <tr>\n",
       "      <th>1</th>\n",
       "      <td>Halloween</td>\n",
       "      <td>10000000</td>\n",
       "      <td>159347015</td>\n",
       "      <td>96143163</td>\n",
       "      <td>255490178</td>\n",
       "      <td>245490178</td>\n",
       "      <td>2454.90</td>\n",
       "    </tr>\n",
       "    <tr>\n",
       "      <th>2</th>\n",
       "      <td>Split</td>\n",
       "      <td>5000000</td>\n",
       "      <td>138141585</td>\n",
       "      <td>140823221</td>\n",
       "      <td>278964806</td>\n",
       "      <td>273964806</td>\n",
       "      <td>5479.30</td>\n",
       "    </tr>\n",
       "    <tr>\n",
       "      <th>3</th>\n",
       "      <td>Paranormal Activity 3</td>\n",
       "      <td>5000000</td>\n",
       "      <td>104028807</td>\n",
       "      <td>103011037</td>\n",
       "      <td>207039844</td>\n",
       "      <td>202039844</td>\n",
       "      <td>4040.80</td>\n",
       "    </tr>\n",
       "    <tr>\n",
       "      <th>4</th>\n",
       "      <td>Paranormal Activity 2</td>\n",
       "      <td>3000000</td>\n",
       "      <td>84752907</td>\n",
       "      <td>92759125</td>\n",
       "      <td>177512032</td>\n",
       "      <td>174512032</td>\n",
       "      <td>5817.07</td>\n",
       "    </tr>\n",
       "  </tbody>\n",
       "</table>\n",
       "</div>"
      ],
      "text/plain": [
       "                   movie  production_budget  domestic_gross  foreign_gross  \\\n",
       "0                Get Out            5000000       176040665       76737392   \n",
       "1              Halloween           10000000       159347015       96143163   \n",
       "2                  Split            5000000       138141585      140823221   \n",
       "3  Paranormal Activity 3            5000000       104028807      103011037   \n",
       "4  Paranormal Activity 2            3000000        84752907       92759125   \n",
       "\n",
       "   worldwide_gross  gross_profit     roi  \n",
       "0        252778057     247778057 4955.56  \n",
       "1        255490178     245490178 2454.90  \n",
       "2        278964806     273964806 5479.30  \n",
       "3        207039844     202039844 4040.80  \n",
       "4        177512032     174512032 5817.07  "
      ]
     },
     "execution_count": 14,
     "metadata": {},
     "output_type": "execute_result"
    }
   ],
   "source": [
    "create_two_cols(blumhouse_horror)  # add this columns to the blumhouse dataframe\n",
    "blumhouse_horror.head()"
   ]
  },
  {
   "cell_type": "code",
   "execution_count": 95,
   "metadata": {},
   "outputs": [
    {
     "data": {
      "text/plain": [
       "3292.9243174967564"
      ]
     },
     "execution_count": 95,
     "metadata": {},
     "output_type": "execute_result"
    }
   ],
   "source": [
    "roi_blumhouse = blumhouse_horror.roi.mean()  # calculate their mean r.o.i\n",
    "roi_blumhouse"
   ]
  },
  {
   "cell_type": "markdown",
   "metadata": {},
   "source": [
    "### Blumhouse is mega succesful\n",
    "___\n",
    "In the past 10 years Blumhouse Productions have had an R.O.I of over `3200%`. From the data we gathered, we can conclude that this return on investment is a ridiculously high number."
   ]
  },
  {
   "cell_type": "code",
   "execution_count": 87,
   "metadata": {},
   "outputs": [],
   "source": [
    "avg_profit_blum = blumhouse_horror.gross_profit.mean()  # calculate avg. profit\n",
    "avg_budget_blum = blumhouse_horror.production_budget.mean()  # calculate avg. budget"
   ]
  },
  {
   "cell_type": "markdown",
   "metadata": {},
   "source": [
    "Here is a quick visual representation of their success in Budget vs Profit metrics."
   ]
  },
  {
   "cell_type": "code",
   "execution_count": 94,
   "metadata": {},
   "outputs": [
    {
     "data": {
      "image/png": "[encoded data removed]",
      "text/plain": [
       "<Figure size 432x288 with 1 Axes>"
      ]
     },
     "metadata": {
      "needs_background": "light"
     },
     "output_type": "display_data"
    }
   ],
   "source": [
    "plt.bar(x = ['Budget','Gross Profit'], height= [avg_budget_blum,avg_profit_blum], color = 'lightgreen')\n",
    "plt.ylabel('Dollars in n x 10million')\n",
    "plt.title('budget vs profit for blumhouse horrors'.title())\n",
    "plt.show()"
   ]
  },
  {
   "cell_type": "markdown",
   "metadata": {},
   "source": [
    "## Movies Based On Popular Intellectual Properties vs Original Films\n",
    "___\n",
    "- Do movies based on comic books and video games hold an advantage over original movies?\n",
    "\n",
    "We are going to look at the data from these two categories of movies to see if there is any advantage. Microsoft has it's own gaming studio that has multiple IP's to it's name. If movies based on pre-existing IP hold an advantage than this could be used to our benefit. If not, we can go in the opposite creatie direction. **First, lets get information on movies based on existing IP.**"
   ]
  },
  {
   "cell_type": "code",
   "execution_count": 17,
   "metadata": {},
   "outputs": [
    {
     "data": {
      "text/plain": [
       "200"
      ]
     },
     "execution_count": 17,
     "metadata": {},
     "output_type": "execute_result"
    }
   ],
   "source": [
    "# Copy and paste the url that has information on movies based on comic books from the last decade\n",
    "comics_url = 'https://www.the-numbers.com/movies/report/All/All/All/All/All/Based-on-Comic-or-Graphic-Novel/All/All/All/None/None/2010/2019/None/None/None/None/None/None?show-release-date=On&view-order-by=production-budget&view-order-direction=desc&show-production-budget=On&show-domestic-box-office=On&show-international-box-office=On&show-worldwide-box-office=On'\n",
    "page = requests.get(comics_url)  # convert the page to a RESPONSE type\n",
    "page.status_code  # check if it is successful"
   ]
  },
  {
   "cell_type": "code",
   "execution_count": 18,
   "metadata": {
    "scrolled": true
   },
   "outputs": [
    {
     "data": {
      "text/html": [
       "<div>\n",
       "<style scoped>\n",
       "    .dataframe tbody tr th:only-of-type {\n",
       "        vertical-align: middle;\n",
       "    }\n",
       "\n",
       "    .dataframe tbody tr th {\n",
       "        vertical-align: top;\n",
       "    }\n",
       "\n",
       "    .dataframe thead th {\n",
       "        text-align: right;\n",
       "    }\n",
       "</style>\n",
       "<table border=\"1\" class=\"dataframe\">\n",
       "  <thead>\n",
       "    <tr style=\"text-align: right;\">\n",
       "      <th></th>\n",
       "      <th>movie</th>\n",
       "      <th>production_budget</th>\n",
       "      <th>domestic_gross</th>\n",
       "      <th>foreign_gross</th>\n",
       "      <th>worldwide_gross</th>\n",
       "    </tr>\n",
       "  </thead>\n",
       "  <tbody>\n",
       "    <tr>\n",
       "      <th>0</th>\n",
       "      <td>Avengers: Endgame</td>\n",
       "      <td>$400,000,000</td>\n",
       "      <td>$858,373,000</td>\n",
       "      <td>$1,939,427,564</td>\n",
       "      <td>$2,797,800,564</td>\n",
       "    </tr>\n",
       "    <tr>\n",
       "      <th>1</th>\n",
       "      <td>Avengers: Age of Ultron</td>\n",
       "      <td>$365,000,000</td>\n",
       "      <td>$459,005,868</td>\n",
       "      <td>$937,093,334</td>\n",
       "      <td>$1,396,099,202</td>\n",
       "    </tr>\n",
       "    <tr>\n",
       "      <th>2</th>\n",
       "      <td>Avengers: Infinity War</td>\n",
       "      <td>$300,000,000</td>\n",
       "      <td>$678,815,482</td>\n",
       "      <td>$1,369,544,272</td>\n",
       "      <td>$2,048,359,754</td>\n",
       "    </tr>\n",
       "    <tr>\n",
       "      <th>3</th>\n",
       "      <td>Justice League</td>\n",
       "      <td>$300,000,000</td>\n",
       "      <td>$229,024,295</td>\n",
       "      <td>$426,920,914</td>\n",
       "      <td>$655,945,209</td>\n",
       "    </tr>\n",
       "    <tr>\n",
       "      <th>4</th>\n",
       "      <td>Batman v Superman: Dawn of Justice</td>\n",
       "      <td>$263,000,000</td>\n",
       "      <td>$330,360,194</td>\n",
       "      <td>$542,034,897</td>\n",
       "      <td>$872,395,091</td>\n",
       "    </tr>\n",
       "  </tbody>\n",
       "</table>\n",
       "</div>"
      ],
      "text/plain": [
       "                                movie production_budget domestic_gross  \\\n",
       "0                   Avengers: Endgame      $400,000,000   $858,373,000   \n",
       "1             Avengers: Age of Ultron      $365,000,000   $459,005,868   \n",
       "2              Avengers: Infinity War      $300,000,000   $678,815,482   \n",
       "3                      Justice League      $300,000,000   $229,024,295   \n",
       "4  Batman v Superman: Dawn of Justice      $263,000,000   $330,360,194   \n",
       "\n",
       "    foreign_gross worldwide_gross  \n",
       "0  $1,939,427,564  $2,797,800,564  \n",
       "1    $937,093,334  $1,396,099,202  \n",
       "2  $1,369,544,272  $2,048,359,754  \n",
       "3    $426,920,914    $655,945,209  \n",
       "4    $542,034,897    $872,395,091  "
      ]
     },
     "execution_count": 18,
     "metadata": {},
     "output_type": "execute_result"
    }
   ],
   "source": [
    "# use the functions created to turn the table into a pandas dataframe\n",
    "comics_table_tag = convert_page_to_tag_with_table_rows(page)\n",
    "comic_book_films = transform_table_to_df(comics_table_tag)\n",
    "\n",
    "comic_book_films.head()  # check the first 5 rows"
   ]
  },
  {
   "cell_type": "code",
   "execution_count": 19,
   "metadata": {},
   "outputs": [
    {
     "data": {
      "text/plain": [
       "200"
      ]
     },
     "execution_count": 19,
     "metadata": {},
     "output_type": "execute_result"
    }
   ],
   "source": [
    "# Copy and Paste the URL containing the table of info from movies based on video games\n",
    "games_url = 'https://www.the-numbers.com/movies/report/All/All/All/All/All/Based-on-Game/All/All/All/None/None/2010/2019/None/None/None/None/None/None?show-release-date=On&view-order-by=production-budget&view-order-direction=desc&show-production-budget=On&show-domestic-box-office=On&show-international-box-office=On&show-worldwide-box-office=On'\n",
    "page = requests.get(games_url)  # get the RESPONSE\n",
    "page.status_code  # check if it is succesful"
   ]
  },
  {
   "cell_type": "code",
   "execution_count": 20,
   "metadata": {},
   "outputs": [
    {
     "data": {
      "text/html": [
       "<div>\n",
       "<style scoped>\n",
       "    .dataframe tbody tr th:only-of-type {\n",
       "        vertical-align: middle;\n",
       "    }\n",
       "\n",
       "    .dataframe tbody tr th {\n",
       "        vertical-align: top;\n",
       "    }\n",
       "\n",
       "    .dataframe thead th {\n",
       "        text-align: right;\n",
       "    }\n",
       "</style>\n",
       "<table border=\"1\" class=\"dataframe\">\n",
       "  <thead>\n",
       "    <tr style=\"text-align: right;\">\n",
       "      <th></th>\n",
       "      <th>movie</th>\n",
       "      <th>production_budget</th>\n",
       "      <th>domestic_gross</th>\n",
       "      <th>foreign_gross</th>\n",
       "      <th>worldwide_gross</th>\n",
       "    </tr>\n",
       "  </thead>\n",
       "  <tbody>\n",
       "    <tr>\n",
       "      <th>0</th>\n",
       "      <td>Battleship</td>\n",
       "      <td>$220,000,000</td>\n",
       "      <td>$65,233,400</td>\n",
       "      <td>$248,244,317</td>\n",
       "      <td>$313,477,717</td>\n",
       "    </tr>\n",
       "    <tr>\n",
       "      <th>1</th>\n",
       "      <td>Prince of Persia: Sands of Time</td>\n",
       "      <td>$200,000,000</td>\n",
       "      <td>$90,759,676</td>\n",
       "      <td>$245,600,000</td>\n",
       "      <td>$336,359,676</td>\n",
       "    </tr>\n",
       "    <tr>\n",
       "      <th>2</th>\n",
       "      <td>Warcraft</td>\n",
       "      <td>$160,000,000</td>\n",
       "      <td>$47,365,290</td>\n",
       "      <td>$391,534,534</td>\n",
       "      <td>$438,899,824</td>\n",
       "    </tr>\n",
       "    <tr>\n",
       "      <th>3</th>\n",
       "      <td>PokÃ©mon: Detective Pikachu</td>\n",
       "      <td>$150,000,000</td>\n",
       "      <td>$144,105,346</td>\n",
       "      <td>$288,497,009</td>\n",
       "      <td>$432,602,355</td>\n",
       "    </tr>\n",
       "    <tr>\n",
       "      <th>4</th>\n",
       "      <td>Assassinâs Creed</td>\n",
       "      <td>$125,000,000</td>\n",
       "      <td>$54,647,948</td>\n",
       "      <td>$186,111,734</td>\n",
       "      <td>$240,759,682</td>\n",
       "    </tr>\n",
       "  </tbody>\n",
       "</table>\n",
       "</div>"
      ],
      "text/plain": [
       "                             movie production_budget domestic_gross  \\\n",
       "0                       Battleship      $220,000,000    $65,233,400   \n",
       "1  Prince of Persia: Sands of Time      $200,000,000    $90,759,676   \n",
       "2                         Warcraft      $160,000,000    $47,365,290   \n",
       "3      PokÃ©mon: Detective Pikachu      $150,000,000   $144,105,346   \n",
       "4               Assassinâs Creed      $125,000,000    $54,647,948   \n",
       "\n",
       "  foreign_gross worldwide_gross  \n",
       "0  $248,244,317    $313,477,717  \n",
       "1  $245,600,000    $336,359,676  \n",
       "2  $391,534,534    $438,899,824  \n",
       "3  $288,497,009    $432,602,355  \n",
       "4  $186,111,734    $240,759,682  "
      ]
     },
     "execution_count": 20,
     "metadata": {},
     "output_type": "execute_result"
    }
   ],
   "source": [
    "games_table_tage = convert_page_to_tag_with_table_rows(page) # use the functions get a pandas dataframe\n",
    "vdo_game_films = transform_table_to_df(games_table_tage)\n",
    "\n",
    "vdo_game_films.head()  "
   ]
  },
  {
   "cell_type": "code",
   "execution_count": 21,
   "metadata": {},
   "outputs": [
    {
     "data": {
      "text/plain": [
       "143"
      ]
     },
     "execution_count": 21,
     "metadata": {},
     "output_type": "execute_result"
    }
   ],
   "source": [
    "ip_films = pd.concat([comic_book_films, vdo_game_films])  # concatenate these dataframes vertically into a new DF\n",
    "ip_films.movie.nunique()  # check if the number of movies add up to the results from both web pages"
   ]
  },
  {
   "cell_type": "code",
   "execution_count": 22,
   "metadata": {},
   "outputs": [
    {
     "data": {
      "text/html": [
       "<div>\n",
       "<style scoped>\n",
       "    .dataframe tbody tr th:only-of-type {\n",
       "        vertical-align: middle;\n",
       "    }\n",
       "\n",
       "    .dataframe tbody tr th {\n",
       "        vertical-align: top;\n",
       "    }\n",
       "\n",
       "    .dataframe thead th {\n",
       "        text-align: right;\n",
       "    }\n",
       "</style>\n",
       "<table border=\"1\" class=\"dataframe\">\n",
       "  <thead>\n",
       "    <tr style=\"text-align: right;\">\n",
       "      <th></th>\n",
       "      <th>movie</th>\n",
       "      <th>production_budget</th>\n",
       "      <th>domestic_gross</th>\n",
       "      <th>foreign_gross</th>\n",
       "      <th>worldwide_gross</th>\n",
       "      <th>gross_profit</th>\n",
       "      <th>roi</th>\n",
       "    </tr>\n",
       "  </thead>\n",
       "  <tbody>\n",
       "    <tr>\n",
       "      <th>0</th>\n",
       "      <td>Avengers: Endgame</td>\n",
       "      <td>400000000</td>\n",
       "      <td>858373000</td>\n",
       "      <td>1939427564</td>\n",
       "      <td>2797800564</td>\n",
       "      <td>2397800564</td>\n",
       "      <td>599.45</td>\n",
       "    </tr>\n",
       "    <tr>\n",
       "      <th>1</th>\n",
       "      <td>Avengers: Age of Ultron</td>\n",
       "      <td>365000000</td>\n",
       "      <td>459005868</td>\n",
       "      <td>937093334</td>\n",
       "      <td>1396099202</td>\n",
       "      <td>1031099202</td>\n",
       "      <td>282.49</td>\n",
       "    </tr>\n",
       "    <tr>\n",
       "      <th>2</th>\n",
       "      <td>Avengers: Infinity War</td>\n",
       "      <td>300000000</td>\n",
       "      <td>678815482</td>\n",
       "      <td>1369544272</td>\n",
       "      <td>2048359754</td>\n",
       "      <td>1748359754</td>\n",
       "      <td>582.79</td>\n",
       "    </tr>\n",
       "    <tr>\n",
       "      <th>3</th>\n",
       "      <td>Justice League</td>\n",
       "      <td>300000000</td>\n",
       "      <td>229024295</td>\n",
       "      <td>426920914</td>\n",
       "      <td>655945209</td>\n",
       "      <td>355945209</td>\n",
       "      <td>118.65</td>\n",
       "    </tr>\n",
       "    <tr>\n",
       "      <th>4</th>\n",
       "      <td>Batman v Superman: Dawn of Justice</td>\n",
       "      <td>263000000</td>\n",
       "      <td>330360194</td>\n",
       "      <td>542034897</td>\n",
       "      <td>872395091</td>\n",
       "      <td>609395091</td>\n",
       "      <td>231.71</td>\n",
       "    </tr>\n",
       "  </tbody>\n",
       "</table>\n",
       "</div>"
      ],
      "text/plain": [
       "                                movie  production_budget  domestic_gross  \\\n",
       "0                   Avengers: Endgame          400000000       858373000   \n",
       "1             Avengers: Age of Ultron          365000000       459005868   \n",
       "2              Avengers: Infinity War          300000000       678815482   \n",
       "3                      Justice League          300000000       229024295   \n",
       "4  Batman v Superman: Dawn of Justice          263000000       330360194   \n",
       "\n",
       "   foreign_gross  worldwide_gross  gross_profit    roi  \n",
       "0     1939427564       2797800564    2397800564 599.45  \n",
       "1      937093334       1396099202    1031099202 282.49  \n",
       "2     1369544272       2048359754    1748359754 582.79  \n",
       "3      426920914        655945209     355945209 118.65  \n",
       "4      542034897        872395091     609395091 231.71  "
      ]
     },
     "execution_count": 22,
     "metadata": {},
     "output_type": "execute_result"
    }
   ],
   "source": [
    "convert_obj_to_int(ip_films)  # Convert the object type columns regarding capital to int\n",
    "create_two_cols(ip_films)  # add the ROI and Profit columns to the DF\n",
    "ip_films.head()  # check the result"
   ]
  },
  {
   "cell_type": "code",
   "execution_count": 23,
   "metadata": {},
   "outputs": [
    {
     "data": {
      "text/plain": [
       "(100, 7)"
      ]
     },
     "execution_count": 23,
     "metadata": {},
     "output_type": "execute_result"
    }
   ],
   "source": [
    "# disreagrd all the movies with no production cost and no domestic gross\n",
    "ip_films = ip_films[(ip_films.production_budget > 0) & (ip_films.domestic_gross > 0)]\n",
    "ip_films.shape  # check how many movies are left"
   ]
  },
  {
   "cell_type": "code",
   "execution_count": 24,
   "metadata": {},
   "outputs": [
    {
     "data": {
      "text/plain": [
       "273.77302295190873"
      ]
     },
     "execution_count": 24,
     "metadata": {},
     "output_type": "execute_result"
    }
   ],
   "source": [
    "roi_ip = ip_films.roi.mean()  # calculate the mean r.o.i\n",
    "roi_ip"
   ]
  },
  {
   "cell_type": "code",
   "execution_count": 25,
   "metadata": {},
   "outputs": [
    {
     "data": {
      "text/plain": [
       "349917145.78"
      ]
     },
     "execution_count": 25,
     "metadata": {},
     "output_type": "execute_result"
    }
   ],
   "source": [
    "avg_profit_ip = ip_films.gross_profit.mean()  # calculate the mean gross profit\n",
    "avg_profit_ip"
   ]
  },
  {
   "cell_type": "code",
   "execution_count": 60,
   "metadata": {},
   "outputs": [
    {
     "data": {
      "text/plain": [
       "125095500.0"
      ]
     },
     "execution_count": 60,
     "metadata": {},
     "output_type": "execute_result"
    }
   ],
   "source": [
    "avg_budget_ip = ip_films.production_budget.mean()  # calculate the avg. budget\n",
    "avg_budget_ip"
   ]
  },
  {
   "cell_type": "markdown",
   "metadata": {},
   "source": [
    "The average budget of a film based on a comic book/video game is about `125 miliion`$. We know that budget positively correlates with gross profit from our previous analysis."
   ]
  },
  {
   "cell_type": "markdown",
   "metadata": {},
   "source": [
    "### Now, lets get information on movies based on original screenplay.\n",
    "___\n",
    "_The Numbers_ website limits its results to 100 rows without using its paid API. We divided the search through the past decade into 5 spell of 2 years each. Then, we sorted the rows according to productuon budget in order to avoid getting movies with high income first. Each of the 5 searches resulted in movies spread out evenly in their scope of budgets. The lower end of the production budgets floored at around 20 million dollars. We can considered viable since this is a low enough amount considering the size of microsoft. **In the following code we:**\n",
    "\n",
    "- Retrieved the URL from each of the five pages.\n",
    "- Converted the page to a requests.models.Response type\n",
    "- Repeated the same steps as above in using the functions to create a pd.DataFrame"
   ]
  },
  {
   "cell_type": "code",
   "execution_count": 26,
   "metadata": {},
   "outputs": [
    {
     "data": {
      "text/plain": [
       "200"
      ]
     },
     "execution_count": 26,
     "metadata": {},
     "output_type": "execute_result"
    }
   ],
   "source": [
    "url1 = 'https://www.the-numbers.com/movies/report/All/All/All/All/All/Original-Screenplay/United-States/All/All/1/None/2010/2011/None/None/None/None/None/None?show-release-date=On&view-order-by=production-budget&view-order-direction=desc&show-production-budget=On&show-domestic-box-office=On&show-international-box-office=On&show-worldwide-box-office=On'\n",
    "page = requests.get(url1)\n",
    "page.status_code"
   ]
  },
  {
   "cell_type": "code",
   "execution_count": 27,
   "metadata": {},
   "outputs": [
    {
     "data": {
      "text/html": [
       "<div>\n",
       "<style scoped>\n",
       "    .dataframe tbody tr th:only-of-type {\n",
       "        vertical-align: middle;\n",
       "    }\n",
       "\n",
       "    .dataframe tbody tr th {\n",
       "        vertical-align: top;\n",
       "    }\n",
       "\n",
       "    .dataframe thead th {\n",
       "        text-align: right;\n",
       "    }\n",
       "</style>\n",
       "<table border=\"1\" class=\"dataframe\">\n",
       "  <thead>\n",
       "    <tr style=\"text-align: right;\">\n",
       "      <th></th>\n",
       "      <th>movie</th>\n",
       "      <th>production_budget</th>\n",
       "      <th>domestic_gross</th>\n",
       "      <th>foreign_gross</th>\n",
       "      <th>worldwide_gross</th>\n",
       "    </tr>\n",
       "  </thead>\n",
       "  <tbody>\n",
       "    <tr>\n",
       "      <th>0</th>\n",
       "      <td>Tron: Legacy</td>\n",
       "      <td>$200,000,000</td>\n",
       "      <td>$172,062,763</td>\n",
       "      <td>$228,000,000</td>\n",
       "      <td>$400,062,763</td>\n",
       "    </tr>\n",
       "    <tr>\n",
       "      <th>1</th>\n",
       "      <td>Cars 2</td>\n",
       "      <td>$200,000,000</td>\n",
       "      <td>$191,450,875</td>\n",
       "      <td>$368,704,508</td>\n",
       "      <td>$560,155,383</td>\n",
       "    </tr>\n",
       "    <tr>\n",
       "      <th>2</th>\n",
       "      <td>Toy Story 3</td>\n",
       "      <td>$200,000,000</td>\n",
       "      <td>$415,004,880</td>\n",
       "      <td>$653,874,642</td>\n",
       "      <td>$1,068,879,522</td>\n",
       "    </tr>\n",
       "    <tr>\n",
       "      <th>3</th>\n",
       "      <td>Inception</td>\n",
       "      <td>$160,000,000</td>\n",
       "      <td>$292,576,195</td>\n",
       "      <td>$542,215,766</td>\n",
       "      <td>$834,791,961</td>\n",
       "    </tr>\n",
       "    <tr>\n",
       "      <th>4</th>\n",
       "      <td>Kung Fu Panda 2</td>\n",
       "      <td>$150,000,000</td>\n",
       "      <td>$165,249,063</td>\n",
       "      <td>$499,588,484</td>\n",
       "      <td>$664,837,547</td>\n",
       "    </tr>\n",
       "  </tbody>\n",
       "</table>\n",
       "</div>"
      ],
      "text/plain": [
       "             movie production_budget domestic_gross foreign_gross  \\\n",
       "0     Tron: Legacy      $200,000,000   $172,062,763  $228,000,000   \n",
       "1           Cars 2      $200,000,000   $191,450,875  $368,704,508   \n",
       "2      Toy Story 3      $200,000,000   $415,004,880  $653,874,642   \n",
       "3        Inception      $160,000,000   $292,576,195  $542,215,766   \n",
       "4  Kung Fu Panda 2      $150,000,000   $165,249,063  $499,588,484   \n",
       "\n",
       "  worldwide_gross  \n",
       "0    $400,062,763  \n",
       "1    $560,155,383  \n",
       "2  $1,068,879,522  \n",
       "3    $834,791,961  \n",
       "4    $664,837,547  "
      ]
     },
     "execution_count": 27,
     "metadata": {},
     "output_type": "execute_result"
    }
   ],
   "source": [
    "og_films_table = convert_page_to_tag_with_table_rows(page)\n",
    "og_films_1 = transform_table_to_df(og_films_table)\n",
    "og_films_1.head()"
   ]
  },
  {
   "cell_type": "code",
   "execution_count": 28,
   "metadata": {},
   "outputs": [
    {
     "data": {
      "text/plain": [
       "200"
      ]
     },
     "execution_count": 28,
     "metadata": {},
     "output_type": "execute_result"
    }
   ],
   "source": [
    "url2 = 'https://www.the-numbers.com/movies/report/All/All/All/All/All/Original-Screenplay/United-States/All/All/1/None/2012/2013/None/None/None/None/None/None?show-release-date=On&view-order-by=production-budget&view-order-direction=desc&show-production-budget=On&show-domestic-box-office=On&show-international-box-office=On&show-worldwide-box-office=On'\n",
    "page = requests.get(url2)\n",
    "page.status_code"
   ]
  },
  {
   "cell_type": "code",
   "execution_count": 29,
   "metadata": {},
   "outputs": [
    {
     "data": {
      "text/html": [
       "<div>\n",
       "<style scoped>\n",
       "    .dataframe tbody tr th:only-of-type {\n",
       "        vertical-align: middle;\n",
       "    }\n",
       "\n",
       "    .dataframe tbody tr th {\n",
       "        vertical-align: top;\n",
       "    }\n",
       "\n",
       "    .dataframe thead th {\n",
       "        text-align: right;\n",
       "    }\n",
       "</style>\n",
       "<table border=\"1\" class=\"dataframe\">\n",
       "  <thead>\n",
       "    <tr style=\"text-align: right;\">\n",
       "      <th></th>\n",
       "      <th>movie</th>\n",
       "      <th>production_budget</th>\n",
       "      <th>domestic_gross</th>\n",
       "      <th>foreign_gross</th>\n",
       "      <th>worldwide_gross</th>\n",
       "    </tr>\n",
       "  </thead>\n",
       "  <tbody>\n",
       "    <tr>\n",
       "      <th>0</th>\n",
       "      <td>Monsters University</td>\n",
       "      <td>$200,000,000</td>\n",
       "      <td>$268,488,329</td>\n",
       "      <td>$475,100,000</td>\n",
       "      <td>$743,588,329</td>\n",
       "    </tr>\n",
       "    <tr>\n",
       "      <th>1</th>\n",
       "      <td>Pacific Rim</td>\n",
       "      <td>$190,000,000</td>\n",
       "      <td>$101,802,906</td>\n",
       "      <td>$309,200,000</td>\n",
       "      <td>$411,002,906</td>\n",
       "    </tr>\n",
       "    <tr>\n",
       "      <th>2</th>\n",
       "      <td>Brave</td>\n",
       "      <td>$185,000,000</td>\n",
       "      <td>$237,282,182</td>\n",
       "      <td>$317,324,350</td>\n",
       "      <td>$554,606,532</td>\n",
       "    </tr>\n",
       "    <tr>\n",
       "      <th>3</th>\n",
       "      <td>47 Ronin</td>\n",
       "      <td>$175,000,000</td>\n",
       "      <td>$38,362,475</td>\n",
       "      <td>$113,354,340</td>\n",
       "      <td>$151,716,815</td>\n",
       "    </tr>\n",
       "    <tr>\n",
       "      <th>4</th>\n",
       "      <td>Wreck-It Ralph</td>\n",
       "      <td>$165,000,000</td>\n",
       "      <td>$189,412,677</td>\n",
       "      <td>$307,098,844</td>\n",
       "      <td>$496,511,521</td>\n",
       "    </tr>\n",
       "  </tbody>\n",
       "</table>\n",
       "</div>"
      ],
      "text/plain": [
       "                 movie production_budget domestic_gross foreign_gross  \\\n",
       "0  Monsters University      $200,000,000   $268,488,329  $475,100,000   \n",
       "1          Pacific Rim      $190,000,000   $101,802,906  $309,200,000   \n",
       "2                Brave      $185,000,000   $237,282,182  $317,324,350   \n",
       "3             47 Ronin      $175,000,000    $38,362,475  $113,354,340   \n",
       "4       Wreck-It Ralph      $165,000,000   $189,412,677  $307,098,844   \n",
       "\n",
       "  worldwide_gross  \n",
       "0    $743,588,329  \n",
       "1    $411,002,906  \n",
       "2    $554,606,532  \n",
       "3    $151,716,815  \n",
       "4    $496,511,521  "
      ]
     },
     "execution_count": 29,
     "metadata": {},
     "output_type": "execute_result"
    }
   ],
   "source": [
    "og_films_table = convert_page_to_tag_with_table_rows(page)\n",
    "og_films_2 = transform_table_to_df(og_films_table);\n",
    "og_films_2.head()"
   ]
  },
  {
   "cell_type": "code",
   "execution_count": 30,
   "metadata": {},
   "outputs": [
    {
     "data": {
      "text/plain": [
       "200"
      ]
     },
     "execution_count": 30,
     "metadata": {},
     "output_type": "execute_result"
    }
   ],
   "source": [
    "url3 = 'https://www.the-numbers.com/movies/report/All/All/All/All/All/Original-Screenplay/United-States/All/All/1/None/2014/2015/None/None/None/None/None/None?show-release-date=On&view-order-by=production-budget&view-order-direction=desc&show-production-budget=On&show-domestic-box-office=On&show-international-box-office=On&show-worldwide-box-office=On'\n",
    "page = requests.get(url3)\n",
    "page.status_code"
   ]
  },
  {
   "cell_type": "code",
   "execution_count": 31,
   "metadata": {
    "scrolled": true
   },
   "outputs": [
    {
     "data": {
      "text/html": [
       "<div>\n",
       "<style scoped>\n",
       "    .dataframe tbody tr th:only-of-type {\n",
       "        vertical-align: middle;\n",
       "    }\n",
       "\n",
       "    .dataframe tbody tr th {\n",
       "        vertical-align: top;\n",
       "    }\n",
       "\n",
       "    .dataframe thead th {\n",
       "        text-align: right;\n",
       "    }\n",
       "</style>\n",
       "<table border=\"1\" class=\"dataframe\">\n",
       "  <thead>\n",
       "    <tr style=\"text-align: right;\">\n",
       "      <th></th>\n",
       "      <th>movie</th>\n",
       "      <th>production_budget</th>\n",
       "      <th>domestic_gross</th>\n",
       "      <th>foreign_gross</th>\n",
       "      <th>worldwide_gross</th>\n",
       "    </tr>\n",
       "  </thead>\n",
       "  <tbody>\n",
       "    <tr>\n",
       "      <th>0</th>\n",
       "      <td>Star Wars Ep. VII: The Force Awakens</td>\n",
       "      <td>$306,000,000</td>\n",
       "      <td>$936,662,225</td>\n",
       "      <td>$1,128,815,859</td>\n",
       "      <td>$2,065,478,084</td>\n",
       "    </tr>\n",
       "    <tr>\n",
       "      <th>1</th>\n",
       "      <td>Furious 7</td>\n",
       "      <td>$190,000,000</td>\n",
       "      <td>$353,007,020</td>\n",
       "      <td>$1,165,715,774</td>\n",
       "      <td>$1,518,722,794</td>\n",
       "    </tr>\n",
       "    <tr>\n",
       "      <th>2</th>\n",
       "      <td>The Good Dinosaur</td>\n",
       "      <td>$187,500,000</td>\n",
       "      <td>$123,087,120</td>\n",
       "      <td>$210,683,917</td>\n",
       "      <td>$333,771,037</td>\n",
       "    </tr>\n",
       "    <tr>\n",
       "      <th>3</th>\n",
       "      <td>Jupiter Ascending</td>\n",
       "      <td>$179,000,000</td>\n",
       "      <td>$47,482,519</td>\n",
       "      <td>$134,500,000</td>\n",
       "      <td>$181,982,519</td>\n",
       "    </tr>\n",
       "    <tr>\n",
       "      <th>4</th>\n",
       "      <td>Inside Out</td>\n",
       "      <td>$175,000,000</td>\n",
       "      <td>$356,461,711</td>\n",
       "      <td>$498,748,492</td>\n",
       "      <td>$855,210,203</td>\n",
       "    </tr>\n",
       "  </tbody>\n",
       "</table>\n",
       "</div>"
      ],
      "text/plain": [
       "                                  movie production_budget domestic_gross  \\\n",
       "0  Star Wars Ep. VII: The Force Awakens      $306,000,000   $936,662,225   \n",
       "1                             Furious 7      $190,000,000   $353,007,020   \n",
       "2                     The Good Dinosaur      $187,500,000   $123,087,120   \n",
       "3                     Jupiter Ascending      $179,000,000    $47,482,519   \n",
       "4                            Inside Out      $175,000,000   $356,461,711   \n",
       "\n",
       "    foreign_gross worldwide_gross  \n",
       "0  $1,128,815,859  $2,065,478,084  \n",
       "1  $1,165,715,774  $1,518,722,794  \n",
       "2    $210,683,917    $333,771,037  \n",
       "3    $134,500,000    $181,982,519  \n",
       "4    $498,748,492    $855,210,203  "
      ]
     },
     "execution_count": 31,
     "metadata": {},
     "output_type": "execute_result"
    }
   ],
   "source": [
    "og_films_table = convert_page_to_tag_with_table_rows(page)\n",
    "og_films_3 = transform_table_to_df(og_films_table);\n",
    "og_films_3.head()"
   ]
  },
  {
   "cell_type": "code",
   "execution_count": 32,
   "metadata": {},
   "outputs": [
    {
     "data": {
      "text/plain": [
       "200"
      ]
     },
     "execution_count": 32,
     "metadata": {},
     "output_type": "execute_result"
    }
   ],
   "source": [
    "url4 = 'https://www.the-numbers.com/movies/report/All/All/All/All/All/Original-Screenplay/United-States/All/All/1/None/2016/2017/None/None/None/None/None/None?show-release-date=On&view-order-by=production-budget&view-order-direction=desc&show-production-budget=On&show-domestic-box-office=On&show-international-box-office=On&show-worldwide-box-office=On'\n",
    "page = requests.get(url4)\n",
    "page.status_code"
   ]
  },
  {
   "cell_type": "code",
   "execution_count": 33,
   "metadata": {},
   "outputs": [
    {
     "data": {
      "text/html": [
       "<div>\n",
       "<style scoped>\n",
       "    .dataframe tbody tr th:only-of-type {\n",
       "        vertical-align: middle;\n",
       "    }\n",
       "\n",
       "    .dataframe tbody tr th {\n",
       "        vertical-align: top;\n",
       "    }\n",
       "\n",
       "    .dataframe thead th {\n",
       "        text-align: right;\n",
       "    }\n",
       "</style>\n",
       "<table border=\"1\" class=\"dataframe\">\n",
       "  <thead>\n",
       "    <tr style=\"text-align: right;\">\n",
       "      <th></th>\n",
       "      <th>movie</th>\n",
       "      <th>production_budget</th>\n",
       "      <th>domestic_gross</th>\n",
       "      <th>foreign_gross</th>\n",
       "      <th>worldwide_gross</th>\n",
       "    </tr>\n",
       "  </thead>\n",
       "  <tbody>\n",
       "    <tr>\n",
       "      <th>0</th>\n",
       "      <td>The Fate of the Furious</td>\n",
       "      <td>$250,000,000</td>\n",
       "      <td>$225,764,765</td>\n",
       "      <td>$1,010,939,031</td>\n",
       "      <td>$1,236,703,796</td>\n",
       "    </tr>\n",
       "    <tr>\n",
       "      <th>1</th>\n",
       "      <td>Finding Dory</td>\n",
       "      <td>$200,000,000</td>\n",
       "      <td>$486,295,561</td>\n",
       "      <td>$539,068,066</td>\n",
       "      <td>$1,025,363,627</td>\n",
       "    </tr>\n",
       "    <tr>\n",
       "      <th>2</th>\n",
       "      <td>Star Wars Ep. VIII: The Last Jedi</td>\n",
       "      <td>$200,000,000</td>\n",
       "      <td>$620,181,382</td>\n",
       "      <td>$712,358,507</td>\n",
       "      <td>$1,332,539,889</td>\n",
       "    </tr>\n",
       "    <tr>\n",
       "      <th>3</th>\n",
       "      <td>Kong: Skull Island</td>\n",
       "      <td>$185,000,000</td>\n",
       "      <td>$168,052,812</td>\n",
       "      <td>$393,019,247</td>\n",
       "      <td>$561,072,059</td>\n",
       "    </tr>\n",
       "    <tr>\n",
       "      <th>4</th>\n",
       "      <td>Cars 3</td>\n",
       "      <td>$175,000,000</td>\n",
       "      <td>$152,901,115</td>\n",
       "      <td>$230,640,254</td>\n",
       "      <td>$383,541,369</td>\n",
       "    </tr>\n",
       "  </tbody>\n",
       "</table>\n",
       "</div>"
      ],
      "text/plain": [
       "                               movie production_budget domestic_gross  \\\n",
       "0            The Fate of the Furious      $250,000,000   $225,764,765   \n",
       "1                       Finding Dory      $200,000,000   $486,295,561   \n",
       "2  Star Wars Ep. VIII: The Last Jedi      $200,000,000   $620,181,382   \n",
       "3                 Kong: Skull Island      $185,000,000   $168,052,812   \n",
       "4                             Cars 3      $175,000,000   $152,901,115   \n",
       "\n",
       "    foreign_gross worldwide_gross  \n",
       "0  $1,010,939,031  $1,236,703,796  \n",
       "1    $539,068,066  $1,025,363,627  \n",
       "2    $712,358,507  $1,332,539,889  \n",
       "3    $393,019,247    $561,072,059  \n",
       "4    $230,640,254    $383,541,369  "
      ]
     },
     "execution_count": 33,
     "metadata": {},
     "output_type": "execute_result"
    }
   ],
   "source": [
    "og_films_table = convert_page_to_tag_with_table_rows(page)\n",
    "og_films_4 = transform_table_to_df(og_films_table)\n",
    "og_films_4.head()"
   ]
  },
  {
   "cell_type": "code",
   "execution_count": 34,
   "metadata": {},
   "outputs": [
    {
     "data": {
      "text/plain": [
       "200"
      ]
     },
     "execution_count": 34,
     "metadata": {},
     "output_type": "execute_result"
    }
   ],
   "source": [
    "url5 ='https://www.the-numbers.com/movies/report/All/All/All/All/All/Original-Screenplay/United-States/All/All/1/None/2018/2019/None/None/None/None/None/None?show-release-date=On&view-order-by=production-budget&view-order-direction=desc&show-production-budget=On&show-domestic-box-office=On&show-international-box-office=On&show-worldwide-box-office=On'\n",
    "page = requests.get(url5)\n",
    "page.status_code"
   ]
  },
  {
   "cell_type": "code",
   "execution_count": 35,
   "metadata": {},
   "outputs": [
    {
     "data": {
      "text/html": [
       "<div>\n",
       "<style scoped>\n",
       "    .dataframe tbody tr th:only-of-type {\n",
       "        vertical-align: middle;\n",
       "    }\n",
       "\n",
       "    .dataframe tbody tr th {\n",
       "        vertical-align: top;\n",
       "    }\n",
       "\n",
       "    .dataframe thead th {\n",
       "        text-align: right;\n",
       "    }\n",
       "</style>\n",
       "<table border=\"1\" class=\"dataframe\">\n",
       "  <thead>\n",
       "    <tr style=\"text-align: right;\">\n",
       "      <th></th>\n",
       "      <th>movie</th>\n",
       "      <th>production_budget</th>\n",
       "      <th>domestic_gross</th>\n",
       "      <th>foreign_gross</th>\n",
       "      <th>worldwide_gross</th>\n",
       "    </tr>\n",
       "  </thead>\n",
       "  <tbody>\n",
       "    <tr>\n",
       "      <th>0</th>\n",
       "      <td>Star Wars: The Rise of Skywalker</td>\n",
       "      <td>$275,000,000</td>\n",
       "      <td>$515,202,542</td>\n",
       "      <td>$557,741,680</td>\n",
       "      <td>$1,072,944,222</td>\n",
       "    </tr>\n",
       "    <tr>\n",
       "      <th>1</th>\n",
       "      <td>Incredibles 2</td>\n",
       "      <td>$200,000,000</td>\n",
       "      <td>$608,581,744</td>\n",
       "      <td>$634,223,615</td>\n",
       "      <td>$1,242,805,359</td>\n",
       "    </tr>\n",
       "    <tr>\n",
       "      <th>2</th>\n",
       "      <td>Toy Story 4</td>\n",
       "      <td>$200,000,000</td>\n",
       "      <td>$434,038,008</td>\n",
       "      <td>$639,356,805</td>\n",
       "      <td>$1,073,394,813</td>\n",
       "    </tr>\n",
       "    <tr>\n",
       "      <th>3</th>\n",
       "      <td>Maleficent: Mistress of Evil</td>\n",
       "      <td>$185,000,000</td>\n",
       "      <td>$113,929,605</td>\n",
       "      <td>$375,416,890</td>\n",
       "      <td>$489,346,495</td>\n",
       "    </tr>\n",
       "    <tr>\n",
       "      <th>4</th>\n",
       "      <td>Terminator: Dark Fate</td>\n",
       "      <td>$185,000,000</td>\n",
       "      <td>$62,253,077</td>\n",
       "      <td>$188,119,290</td>\n",
       "      <td>$250,372,367</td>\n",
       "    </tr>\n",
       "  </tbody>\n",
       "</table>\n",
       "</div>"
      ],
      "text/plain": [
       "                              movie production_budget domestic_gross  \\\n",
       "0  Star Wars: The Rise of Skywalker      $275,000,000   $515,202,542   \n",
       "1                     Incredibles 2      $200,000,000   $608,581,744   \n",
       "2                       Toy Story 4      $200,000,000   $434,038,008   \n",
       "3      Maleficent: Mistress of Evil      $185,000,000   $113,929,605   \n",
       "4             Terminator: Dark Fate      $185,000,000    $62,253,077   \n",
       "\n",
       "  foreign_gross worldwide_gross  \n",
       "0  $557,741,680  $1,072,944,222  \n",
       "1  $634,223,615  $1,242,805,359  \n",
       "2  $639,356,805  $1,073,394,813  \n",
       "3  $375,416,890    $489,346,495  \n",
       "4  $188,119,290    $250,372,367  "
      ]
     },
     "execution_count": 35,
     "metadata": {},
     "output_type": "execute_result"
    }
   ],
   "source": [
    "og_films_table = convert_page_to_tag_with_table_rows(page)\n",
    "og_films_5 = transform_table_to_df(og_films_table)\n",
    "og_films_5.head()"
   ]
  },
  {
   "cell_type": "markdown",
   "metadata": {},
   "source": [
    "We have now collected all the information we set out to collect on original sourced movies into five dataframes. We can now **concatenate** these dataframe into on new dataframe."
   ]
  },
  {
   "cell_type": "code",
   "execution_count": 36,
   "metadata": {},
   "outputs": [],
   "source": [
    "# use pd.concat to create 1 new DF consisting the previous 5\n",
    "original_films = pd.concat([og_films_1, og_films_2, og_films_3, og_films_4, og_films_5])"
   ]
  },
  {
   "cell_type": "code",
   "execution_count": 37,
   "metadata": {},
   "outputs": [
    {
     "data": {
      "text/plain": [
       "500"
      ]
     },
     "execution_count": 37,
     "metadata": {},
     "output_type": "execute_result"
    }
   ],
   "source": [
    "original_films.movie.nunique()  # check if they have 500 unique film names"
   ]
  },
  {
   "cell_type": "code",
   "execution_count": 38,
   "metadata": {},
   "outputs": [],
   "source": [
    "convert_obj_to_int(original_films)  # Convert the object type columns regarding capital to int\n",
    "create_two_cols(original_films); # add the ROI and Profit columns to the DF"
   ]
  },
  {
   "cell_type": "code",
   "execution_count": 97,
   "metadata": {},
   "outputs": [
    {
     "data": {
      "text/html": [
       "<div>\n",
       "<style scoped>\n",
       "    .dataframe tbody tr th:only-of-type {\n",
       "        vertical-align: middle;\n",
       "    }\n",
       "\n",
       "    .dataframe tbody tr th {\n",
       "        vertical-align: top;\n",
       "    }\n",
       "\n",
       "    .dataframe thead th {\n",
       "        text-align: right;\n",
       "    }\n",
       "</style>\n",
       "<table border=\"1\" class=\"dataframe\">\n",
       "  <thead>\n",
       "    <tr style=\"text-align: right;\">\n",
       "      <th></th>\n",
       "      <th>movie</th>\n",
       "      <th>production_budget</th>\n",
       "      <th>domestic_gross</th>\n",
       "      <th>foreign_gross</th>\n",
       "      <th>worldwide_gross</th>\n",
       "      <th>gross_profit</th>\n",
       "      <th>roi</th>\n",
       "    </tr>\n",
       "  </thead>\n",
       "  <tbody>\n",
       "    <tr>\n",
       "      <th>0</th>\n",
       "      <td>Tron: Legacy</td>\n",
       "      <td>200000000</td>\n",
       "      <td>172062763</td>\n",
       "      <td>228000000</td>\n",
       "      <td>400062763</td>\n",
       "      <td>200062763</td>\n",
       "      <td>100.03</td>\n",
       "    </tr>\n",
       "    <tr>\n",
       "      <th>1</th>\n",
       "      <td>Cars 2</td>\n",
       "      <td>200000000</td>\n",
       "      <td>191450875</td>\n",
       "      <td>368704508</td>\n",
       "      <td>560155383</td>\n",
       "      <td>360155383</td>\n",
       "      <td>180.08</td>\n",
       "    </tr>\n",
       "    <tr>\n",
       "      <th>2</th>\n",
       "      <td>Toy Story 3</td>\n",
       "      <td>200000000</td>\n",
       "      <td>415004880</td>\n",
       "      <td>653874642</td>\n",
       "      <td>1068879522</td>\n",
       "      <td>868879522</td>\n",
       "      <td>434.44</td>\n",
       "    </tr>\n",
       "    <tr>\n",
       "      <th>3</th>\n",
       "      <td>Inception</td>\n",
       "      <td>160000000</td>\n",
       "      <td>292576195</td>\n",
       "      <td>542215766</td>\n",
       "      <td>834791961</td>\n",
       "      <td>674791961</td>\n",
       "      <td>421.74</td>\n",
       "    </tr>\n",
       "    <tr>\n",
       "      <th>4</th>\n",
       "      <td>Kung Fu Panda 2</td>\n",
       "      <td>150000000</td>\n",
       "      <td>165249063</td>\n",
       "      <td>499588484</td>\n",
       "      <td>664837547</td>\n",
       "      <td>514837547</td>\n",
       "      <td>343.23</td>\n",
       "    </tr>\n",
       "  </tbody>\n",
       "</table>\n",
       "</div>"
      ],
      "text/plain": [
       "             movie  production_budget  domestic_gross  foreign_gross  \\\n",
       "0     Tron: Legacy          200000000       172062763      228000000   \n",
       "1           Cars 2          200000000       191450875      368704508   \n",
       "2      Toy Story 3          200000000       415004880      653874642   \n",
       "3        Inception          160000000       292576195      542215766   \n",
       "4  Kung Fu Panda 2          150000000       165249063      499588484   \n",
       "\n",
       "   worldwide_gross  gross_profit    roi  \n",
       "0        400062763     200062763 100.03  \n",
       "1        560155383     360155383 180.08  \n",
       "2       1068879522     868879522 434.44  \n",
       "3        834791961     674791961 421.74  \n",
       "4        664837547     514837547 343.23  "
      ]
     },
     "execution_count": 97,
     "metadata": {},
     "output_type": "execute_result"
    }
   ],
   "source": [
    "original_films.head()  # check the first 20 rows of the new dataframe."
   ]
  },
  {
   "cell_type": "code",
   "execution_count": 40,
   "metadata": {},
   "outputs": [
    {
     "data": {
      "text/plain": [
       "481"
      ]
     },
     "execution_count": 40,
     "metadata": {},
     "output_type": "execute_result"
    }
   ],
   "source": [
    "# remove films with no domestic gross and production as we have throught this project\n",
    "original_films = original_films[(original_films.domestic_gross > 0) & (original_films.production_budget > 0)]\n",
    "original_films.movie.nunique()  # check how many movies were deleted"
   ]
  },
  {
   "cell_type": "markdown",
   "metadata": {},
   "source": [
    "### Original but filled with sequels?\n",
    "Each time we looked at the first 5 rows of the 5 different dataset, we saw that in most cases there were sequels of popular franchises present. These movies, although considered to be based on original screenplay, are continuations of very popular and beloved movies. Some these movies might be considered as well-known I.P's. Next, we want to check if the highest grossing movies of this original films list is dominated by sequels or remakes."
   ]
  },
  {
   "cell_type": "code",
   "execution_count": 100,
   "metadata": {},
   "outputs": [
    {
     "data": {
      "text/html": [
       "<div>\n",
       "<style scoped>\n",
       "    .dataframe tbody tr th:only-of-type {\n",
       "        vertical-align: middle;\n",
       "    }\n",
       "\n",
       "    .dataframe tbody tr th {\n",
       "        vertical-align: top;\n",
       "    }\n",
       "\n",
       "    .dataframe thead th {\n",
       "        text-align: right;\n",
       "    }\n",
       "</style>\n",
       "<table border=\"1\" class=\"dataframe\">\n",
       "  <thead>\n",
       "    <tr style=\"text-align: right;\">\n",
       "      <th></th>\n",
       "      <th>movie</th>\n",
       "      <th>production_budget</th>\n",
       "      <th>domestic_gross</th>\n",
       "      <th>foreign_gross</th>\n",
       "      <th>worldwide_gross</th>\n",
       "      <th>gross_profit</th>\n",
       "      <th>roi</th>\n",
       "    </tr>\n",
       "  </thead>\n",
       "  <tbody>\n",
       "    <tr>\n",
       "      <th>0</th>\n",
       "      <td>Star Wars Ep. VII: The Force Awakens</td>\n",
       "      <td>306000000</td>\n",
       "      <td>936662225</td>\n",
       "      <td>1128815859</td>\n",
       "      <td>2065478084</td>\n",
       "      <td>1759478084</td>\n",
       "      <td>574.99</td>\n",
       "    </tr>\n",
       "    <tr>\n",
       "      <th>1</th>\n",
       "      <td>Furious 7</td>\n",
       "      <td>190000000</td>\n",
       "      <td>353007020</td>\n",
       "      <td>1165715774</td>\n",
       "      <td>1518722794</td>\n",
       "      <td>1328722794</td>\n",
       "      <td>699.33</td>\n",
       "    </tr>\n",
       "    <tr>\n",
       "      <th>7</th>\n",
       "      <td>Frozen II</td>\n",
       "      <td>150000000</td>\n",
       "      <td>477373578</td>\n",
       "      <td>970176133</td>\n",
       "      <td>1447549711</td>\n",
       "      <td>1297549711</td>\n",
       "      <td>865.03</td>\n",
       "    </tr>\n",
       "    <tr>\n",
       "      <th>2</th>\n",
       "      <td>Star Wars Ep. VIII: The Last Jedi</td>\n",
       "      <td>200000000</td>\n",
       "      <td>620181382</td>\n",
       "      <td>712358507</td>\n",
       "      <td>1332539889</td>\n",
       "      <td>1132539889</td>\n",
       "      <td>566.27</td>\n",
       "    </tr>\n",
       "    <tr>\n",
       "      <th>1</th>\n",
       "      <td>Incredibles 2</td>\n",
       "      <td>200000000</td>\n",
       "      <td>608581744</td>\n",
       "      <td>634223615</td>\n",
       "      <td>1242805359</td>\n",
       "      <td>1042805359</td>\n",
       "      <td>521.40</td>\n",
       "    </tr>\n",
       "    <tr>\n",
       "      <th>0</th>\n",
       "      <td>The Fate of the Furious</td>\n",
       "      <td>250000000</td>\n",
       "      <td>225764765</td>\n",
       "      <td>1010939031</td>\n",
       "      <td>1236703796</td>\n",
       "      <td>986703796</td>\n",
       "      <td>394.68</td>\n",
       "    </tr>\n",
       "    <tr>\n",
       "      <th>26</th>\n",
       "      <td>Despicable Me 3</td>\n",
       "      <td>75000000</td>\n",
       "      <td>264624300</td>\n",
       "      <td>770062371</td>\n",
       "      <td>1034686671</td>\n",
       "      <td>959686671</td>\n",
       "      <td>1279.58</td>\n",
       "    </tr>\n",
       "    <tr>\n",
       "      <th>22</th>\n",
       "      <td>Despicable Me 2</td>\n",
       "      <td>76000000</td>\n",
       "      <td>368065385</td>\n",
       "      <td>607151450</td>\n",
       "      <td>975216835</td>\n",
       "      <td>899216835</td>\n",
       "      <td>1183.18</td>\n",
       "    </tr>\n",
       "    <tr>\n",
       "      <th>2</th>\n",
       "      <td>Toy Story 4</td>\n",
       "      <td>200000000</td>\n",
       "      <td>434038008</td>\n",
       "      <td>639356805</td>\n",
       "      <td>1073394813</td>\n",
       "      <td>873394813</td>\n",
       "      <td>436.70</td>\n",
       "    </tr>\n",
       "    <tr>\n",
       "      <th>22</th>\n",
       "      <td>Jumanji: Welcome to the Jungle</td>\n",
       "      <td>90000000</td>\n",
       "      <td>404508916</td>\n",
       "      <td>556721277</td>\n",
       "      <td>961230193</td>\n",
       "      <td>871230193</td>\n",
       "      <td>968.03</td>\n",
       "    </tr>\n",
       "    <tr>\n",
       "      <th>2</th>\n",
       "      <td>Toy Story 3</td>\n",
       "      <td>200000000</td>\n",
       "      <td>415004880</td>\n",
       "      <td>653874642</td>\n",
       "      <td>1068879522</td>\n",
       "      <td>868879522</td>\n",
       "      <td>434.44</td>\n",
       "    </tr>\n",
       "    <tr>\n",
       "      <th>8</th>\n",
       "      <td>Zootopia</td>\n",
       "      <td>150000000</td>\n",
       "      <td>341268248</td>\n",
       "      <td>666605947</td>\n",
       "      <td>1007874195</td>\n",
       "      <td>857874195</td>\n",
       "      <td>571.92</td>\n",
       "    </tr>\n",
       "    <tr>\n",
       "      <th>1</th>\n",
       "      <td>Finding Dory</td>\n",
       "      <td>200000000</td>\n",
       "      <td>486295561</td>\n",
       "      <td>539068066</td>\n",
       "      <td>1025363627</td>\n",
       "      <td>825363627</td>\n",
       "      <td>412.68</td>\n",
       "    </tr>\n",
       "    <tr>\n",
       "      <th>25</th>\n",
       "      <td>The Secret Life of Pets</td>\n",
       "      <td>75000000</td>\n",
       "      <td>368384330</td>\n",
       "      <td>518222082</td>\n",
       "      <td>886606412</td>\n",
       "      <td>811606412</td>\n",
       "      <td>1082.14</td>\n",
       "    </tr>\n",
       "    <tr>\n",
       "      <th>0</th>\n",
       "      <td>Star Wars: The Rise of Skywalker</td>\n",
       "      <td>275000000</td>\n",
       "      <td>515202542</td>\n",
       "      <td>557741680</td>\n",
       "      <td>1072944222</td>\n",
       "      <td>797944222</td>\n",
       "      <td>290.16</td>\n",
       "    </tr>\n",
       "    <tr>\n",
       "      <th>16</th>\n",
       "      <td>Ice Age: Continental Drift</td>\n",
       "      <td>95000000</td>\n",
       "      <td>161321843</td>\n",
       "      <td>718443294</td>\n",
       "      <td>879765137</td>\n",
       "      <td>784765137</td>\n",
       "      <td>826.07</td>\n",
       "    </tr>\n",
       "    <tr>\n",
       "      <th>4</th>\n",
       "      <td>Inside Out</td>\n",
       "      <td>175000000</td>\n",
       "      <td>356461711</td>\n",
       "      <td>498748492</td>\n",
       "      <td>855210203</td>\n",
       "      <td>680210203</td>\n",
       "      <td>388.69</td>\n",
       "    </tr>\n",
       "    <tr>\n",
       "      <th>3</th>\n",
       "      <td>Inception</td>\n",
       "      <td>160000000</td>\n",
       "      <td>292576195</td>\n",
       "      <td>542215766</td>\n",
       "      <td>834791961</td>\n",
       "      <td>674791961</td>\n",
       "      <td>421.74</td>\n",
       "    </tr>\n",
       "    <tr>\n",
       "      <th>11</th>\n",
       "      <td>Jumanji: The Next Level</td>\n",
       "      <td>125000000</td>\n",
       "      <td>316831246</td>\n",
       "      <td>480342830</td>\n",
       "      <td>797174076</td>\n",
       "      <td>672174076</td>\n",
       "      <td>537.74</td>\n",
       "    </tr>\n",
       "    <tr>\n",
       "      <th>6</th>\n",
       "      <td>Madagascar 3: Europe's Most Wanted</td>\n",
       "      <td>145000000</td>\n",
       "      <td>216391482</td>\n",
       "      <td>530529789</td>\n",
       "      <td>746921271</td>\n",
       "      <td>601921271</td>\n",
       "      <td>415.12</td>\n",
       "    </tr>\n",
       "  </tbody>\n",
       "</table>\n",
       "</div>"
      ],
      "text/plain": [
       "                                   movie  production_budget  domestic_gross  \\\n",
       "0   Star Wars Ep. VII: The Force Awakens          306000000       936662225   \n",
       "1                              Furious 7          190000000       353007020   \n",
       "7                              Frozen II          150000000       477373578   \n",
       "2      Star Wars Ep. VIII: The Last Jedi          200000000       620181382   \n",
       "1                          Incredibles 2          200000000       608581744   \n",
       "0                The Fate of the Furious          250000000       225764765   \n",
       "26                       Despicable Me 3           75000000       264624300   \n",
       "22                       Despicable Me 2           76000000       368065385   \n",
       "2                            Toy Story 4          200000000       434038008   \n",
       "22        Jumanji: Welcome to the Jungle           90000000       404508916   \n",
       "2                            Toy Story 3          200000000       415004880   \n",
       "8                               Zootopia          150000000       341268248   \n",
       "1                           Finding Dory          200000000       486295561   \n",
       "25               The Secret Life of Pets           75000000       368384330   \n",
       "0       Star Wars: The Rise of Skywalker          275000000       515202542   \n",
       "16            Ice Age: Continental Drift           95000000       161321843   \n",
       "4                             Inside Out          175000000       356461711   \n",
       "3                              Inception          160000000       292576195   \n",
       "11               Jumanji: The Next Level          125000000       316831246   \n",
       "6     Madagascar 3: Europe's Most Wanted          145000000       216391482   \n",
       "\n",
       "    foreign_gross  worldwide_gross  gross_profit     roi  \n",
       "0      1128815859       2065478084    1759478084  574.99  \n",
       "1      1165715774       1518722794    1328722794  699.33  \n",
       "7       970176133       1447549711    1297549711  865.03  \n",
       "2       712358507       1332539889    1132539889  566.27  \n",
       "1       634223615       1242805359    1042805359  521.40  \n",
       "0      1010939031       1236703796     986703796  394.68  \n",
       "26      770062371       1034686671     959686671 1279.58  \n",
       "22      607151450        975216835     899216835 1183.18  \n",
       "2       639356805       1073394813     873394813  436.70  \n",
       "22      556721277        961230193     871230193  968.03  \n",
       "2       653874642       1068879522     868879522  434.44  \n",
       "8       666605947       1007874195     857874195  571.92  \n",
       "1       539068066       1025363627     825363627  412.68  \n",
       "25      518222082        886606412     811606412 1082.14  \n",
       "0       557741680       1072944222     797944222  290.16  \n",
       "16      718443294        879765137     784765137  826.07  \n",
       "4       498748492        855210203     680210203  388.69  \n",
       "3       542215766        834791961     674791961  421.74  \n",
       "11      480342830        797174076     672174076  537.74  \n",
       "6       530529789        746921271     601921271  415.12  "
      ]
     },
     "execution_count": 100,
     "metadata": {},
     "output_type": "execute_result"
    }
   ],
   "source": [
    "original_films.sort_values(by= 'gross_profit', ascending= False).head(20)"
   ]
  },
  {
   "cell_type": "markdown",
   "metadata": {},
   "source": [
    "As we suspected, when sorted by gross profit the top 10 movies are **all sequels**. These films are definitely skewing the ROI and gross profit of original movies towards the higher end. \n",
    "\n",
    "Microsoft, as a new movie studio, is going to be making wholly original films that cannot churn out sequels instantly. Therefore, we cannot disregard sequels from the list but we should keep their influce in the back of our mind as we continue our analysis."
   ]
  },
  {
   "cell_type": "code",
   "execution_count": 61,
   "metadata": {},
   "outputs": [
    {
     "data": {
      "text/plain": [
       "126752171.23076923"
      ]
     },
     "execution_count": 61,
     "metadata": {},
     "output_type": "execute_result"
    }
   ],
   "source": [
    "avg_profit_og = original_films.gross_profit.mean()  # calculate avg. gross profit\n",
    "avg_profit_og"
   ]
  },
  {
   "cell_type": "code",
   "execution_count": 62,
   "metadata": {},
   "outputs": [
    {
     "data": {
      "text/plain": [
       "227.6308375000346"
      ]
     },
     "execution_count": 62,
     "metadata": {},
     "output_type": "execute_result"
    }
   ],
   "source": [
    "roi_og = original_films.roi.mean()  # calculate avg roi\n",
    "roi_og"
   ]
  },
  {
   "cell_type": "code",
   "execution_count": 101,
   "metadata": {},
   "outputs": [
    {
     "data": {
      "text/plain": [
       "55928066.52806653"
      ]
     },
     "execution_count": 101,
     "metadata": {},
     "output_type": "execute_result"
    }
   ],
   "source": [
    "avg_budget_og = original_films.production_budget.mean()  # calculate avg. budget\n",
    "avg_budget_og"
   ]
  },
  {
   "cell_type": "markdown",
   "metadata": {},
   "source": [
    "The average budget of a film based on original screenplay is about `55 million`. Therefore, the ratio of budget between original and non-original movies are approximately `1 : 2.28`"
   ]
  },
  {
   "cell_type": "code",
   "execution_count": 83,
   "metadata": {},
   "outputs": [
    {
     "data": {
      "image/png": "[encoded data removed]",
      "text/plain": [
       "<Figure size 792x360 with 2 Axes>"
      ]
     },
     "metadata": {
      "needs_background": "light"
     },
     "output_type": "display_data"
    }
   ],
   "source": [
    "fig = plt.figure(figsize = (11,5))  # create a figure\n",
    "ax1 = fig.add_subplot(1,2,1)  # add subplots with 1 row and 2 columns\n",
    "ax2 = fig.add_subplot(1,2,2)\n",
    "\n",
    "ax1.bar(height = [roi_og, roi_ip] , x = ['Original Films', 'Existing I.P'], width = 0.5, color ='red')\n",
    "ax1.set_ylim(100,300)\n",
    "ax2.pie([avg_profit_og, avg_profit_ip], labels =['Original Films','Existing I.P'],shadow = True, startangle = 90,\n",
    "       explode = (0 ,0.1), autopct='%1.1f%%')\n",
    "\n",
    "ax1.set_title('Average R.O.I: Original vs IP based')\n",
    "ax1.set_xlabel('Sources')\n",
    "ax1.set_ylabel('% R.O.I')\n",
    "ax2.set_title('Average Profit Share: Original vs IP based')\n",
    "plt.show()"
   ]
  },
  {
   "cell_type": "markdown",
   "metadata": {},
   "source": [
    "### Conclusion: Original vs IP\n",
    "From the above analysis, we can make the following conclusions:\n",
    "\n",
    "- Movies based on IP, on a higher budget, yeilds far higher profits compared to original movies.\n",
    "- Furthermore, even with the help sequels, original films have an ROI of almost `50%` less.\n"
   ]
  },
  {
   "cell_type": "code",
   "execution_count": null,
   "metadata": {},
   "outputs": [],
   "source": []
  }
 ],
 "metadata": {
  "kernelspec": {
   "display_name": "Python 3",
   "language": "python",
   "name": "python3"
  },
  "language_info": {
   "codemirror_mode": {
    "name": "ipython",
    "version": 3
   },
   "file_extension": ".py",
   "mimetype": "text/x-python",
   "name": "python",
   "nbconvert_exporter": "python",
   "pygments_lexer": "ipython3",
   "version": "3.8.3"
  }
 },
 "nbformat": 4,
 "nbformat_minor": 4
}
